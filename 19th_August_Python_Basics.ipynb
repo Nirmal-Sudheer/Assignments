{
  "nbformat": 4,
  "nbformat_minor": 0,
  "metadata": {
    "colab": {
      "provenance": []
    },
    "kernelspec": {
      "name": "python3",
      "display_name": "Python 3"
    },
    "language_info": {
      "name": "python"
    }
  },
  "cells": [
    {
      "cell_type": "markdown",
      "source": [
        "###Variables"
      ],
      "metadata": {
        "id": "rrqIyS5HJHAD"
      }
    },
    {
      "cell_type": "markdown",
      "source": [
        "###Q1\n"
      ],
      "metadata": {
        "id": "Uz9LCQSdGzMp"
      }
    },
    {
      "cell_type": "code",
      "execution_count": 2,
      "metadata": {
        "colab": {
          "base_uri": "https://localhost:8080/"
        },
        "id": "fDPge2w8GFOo",
        "outputId": "80137841-644d-4878-e5cf-1f50a1257556"
      },
      "outputs": [
        {
          "output_type": "stream",
          "name": "stdout",
          "text": [
            "420 1\n"
          ]
        }
      ],
      "source": [
        "x=1\n",
        "y=420\n",
        "x=x+y #x=421\n",
        "y=x-y #y=1\n",
        "x=x-y #x=420\n",
        "\n",
        "print(x,y)\n",
        "\n"
      ]
    },
    {
      "cell_type": "markdown",
      "source": [
        "\n",
        "###Q2"
      ],
      "metadata": {
        "id": "3AgR5SF-HrWA"
      }
    },
    {
      "cell_type": "code",
      "source": [
        "x=int(input(\"Enter the length:\"))\n",
        "y=int(input(\"Enter the height:\"))\n",
        "area=x*y\n",
        "print(area)\n"
      ],
      "metadata": {
        "colab": {
          "base_uri": "https://localhost:8080/"
        },
        "id": "N0dLdIJ_HmPC",
        "outputId": "4417c96d-0679-48c0-e238-0c65866b1543"
      },
      "execution_count": 5,
      "outputs": [
        {
          "output_type": "stream",
          "name": "stdout",
          "text": [
            "Enter the length:1\n",
            "Enter the height:2\n",
            "2\n"
          ]
        }
      ]
    },
    {
      "cell_type": "markdown",
      "source": [
        "###Q3"
      ],
      "metadata": {
        "id": "H1heFhP1IW8Y"
      }
    },
    {
      "cell_type": "code",
      "source": [
        "Cel=int(input(\"Enter temp in celcius: \"))\n",
        "Far=(Cel*9/5)+32\n",
        "print(Far)"
      ],
      "metadata": {
        "colab": {
          "base_uri": "https://localhost:8080/"
        },
        "id": "8gMHS1C-H7iq",
        "outputId": "21b844b1-bb26-4aec-fbf1-95345114e29d"
      },
      "execution_count": 7,
      "outputs": [
        {
          "output_type": "stream",
          "name": "stdout",
          "text": [
            "Enter temp in celcius: 25\n",
            "77.0\n"
          ]
        }
      ]
    },
    {
      "cell_type": "markdown",
      "source": [
        "###String Based"
      ],
      "metadata": {
        "id": "Ehnl_pADJFM7"
      }
    },
    {
      "cell_type": "markdown",
      "source": [
        "###Q1\n"
      ],
      "metadata": {
        "id": "juJaTvdsJcZT"
      }
    },
    {
      "cell_type": "code",
      "source": [
        "i=input(\"Enter text:  \")\n",
        "print(len(i))"
      ],
      "metadata": {
        "colab": {
          "base_uri": "https://localhost:8080/"
        },
        "id": "6yuPwKqCI7pC",
        "outputId": "98061b9d-7d71-4433-df2f-5de4e461d738"
      },
      "execution_count": 8,
      "outputs": [
        {
          "output_type": "stream",
          "name": "stdout",
          "text": [
            "Enter text:  poop\n",
            "4\n"
          ]
        }
      ]
    },
    {
      "cell_type": "markdown",
      "source": [
        "###Q2"
      ],
      "metadata": {
        "id": "J36uJyz8JgPZ"
      }
    },
    {
      "cell_type": "code",
      "source": [
        "vow=['a','e','i','o','u']\n",
        "sent=input(\"Enter Text:   \")\n",
        "count=0\n",
        "for word in sent:\n",
        "  if word in vow:\n",
        "    count+=1\n",
        "\n",
        "print(count)\n"
      ],
      "metadata": {
        "colab": {
          "base_uri": "https://localhost:8080/"
        },
        "id": "2JCSom2BJW8r",
        "outputId": "ef0c83de-b7b8-4c34-890a-15462f6af25c"
      },
      "execution_count": 13,
      "outputs": [
        {
          "output_type": "stream",
          "name": "stdout",
          "text": [
            "Enter Text:   i love food\n",
            "5\n"
          ]
        }
      ]
    },
    {
      "cell_type": "markdown",
      "source": [
        "###Q3"
      ],
      "metadata": {
        "id": "aEC2S-bCMFTL"
      }
    },
    {
      "cell_type": "code",
      "source": [
        "K='yellow'\n",
        "print(K[::-1])  #o/p is rev string\n"
      ],
      "metadata": {
        "colab": {
          "base_uri": "https://localhost:8080/"
        },
        "id": "TbsAqcaKKBeq",
        "outputId": "bf42ab00-5bc1-4a62-c800-2c0bc5160cd8"
      },
      "execution_count": 14,
      "outputs": [
        {
          "output_type": "stream",
          "name": "stdout",
          "text": [
            "wolley\n"
          ]
        }
      ]
    },
    {
      "cell_type": "markdown",
      "source": [
        "###Q4"
      ],
      "metadata": {
        "id": "qzxzE80mMdA6"
      }
    },
    {
      "cell_type": "code",
      "source": [
        "K='Jeep'\n",
        "K=K.lower() #lower all char\n",
        "if K==K[::-1]:  #check if rev is the same\n",
        "  print(\"Palindrome\")\n",
        "else:\n",
        "  print(\"Not A Palindrome\")"
      ],
      "metadata": {
        "colab": {
          "base_uri": "https://localhost:8080/"
        },
        "id": "qIM8Yb8VMVBs",
        "outputId": "e83bf879-f41f-40b0-eecf-314319a6d840"
      },
      "execution_count": 26,
      "outputs": [
        {
          "output_type": "stream",
          "name": "stdout",
          "text": [
            "Not A Palindrome\n"
          ]
        }
      ]
    },
    {
      "cell_type": "markdown",
      "source": [
        "###Q5"
      ],
      "metadata": {
        "id": "5uDU42jNNgkc"
      }
    },
    {
      "cell_type": "code",
      "source": [
        "ip=input(\"Enter the string:  \")\n",
        "ip=ip.replace(\" \",'') #using replace method\n",
        "print(ip)"
      ],
      "metadata": {
        "colab": {
          "base_uri": "https://localhost:8080/"
        },
        "id": "QW8NnhRBMvCT",
        "outputId": "8392d6e1-5943-4341-fb60-798fb5ebd50b"
      },
      "execution_count": 27,
      "outputs": [
        {
          "output_type": "stream",
          "name": "stdout",
          "text": [
            "Enter the string:  food is love\n",
            "foodislove\n"
          ]
        }
      ]
    },
    {
      "cell_type": "code",
      "source": [],
      "metadata": {
        "id": "FzhMIM85N7Ad"
      },
      "execution_count": null,
      "outputs": []
    }
  ]
}