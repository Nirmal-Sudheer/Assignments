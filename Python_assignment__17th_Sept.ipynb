{
  "nbformat": 4,
  "nbformat_minor": 0,
  "metadata": {
    "colab": {
      "provenance": []
    },
    "kernelspec": {
      "name": "python3",
      "display_name": "Python 3"
    },
    "language_info": {
      "name": "python"
    }
  },
  "cells": [
    {
      "cell_type": "markdown",
      "source": [
        "###For Loop\n",
        "\n"
      ],
      "metadata": {
        "id": "pjLqkxdmhJlt"
      }
    },
    {
      "cell_type": "code",
      "execution_count": 1,
      "metadata": {
        "id": "5h1GxCH8ExD-",
        "colab": {
          "base_uri": "https://localhost:8080/"
        },
        "outputId": "5753a8d5-7a67-42cb-a339-23b5910bd9cb"
      },
      "outputs": [
        {
          "output_type": "stream",
          "name": "stdout",
          "text": [
            "1\n",
            "2\n",
            "3\n",
            "4\n",
            "5\n",
            "6\n",
            "7\n",
            "8\n",
            "9\n",
            "10\n"
          ]
        }
      ],
      "source": [
        "#Q1\n",
        "for i in range(1,11):\n",
        "  print(i)"
      ]
    },
    {
      "cell_type": "code",
      "source": [
        "#Q2\n",
        "'''\n",
        "For:\n",
        "-->Typically used for a sequence or an iterable\n",
        "-->Usually definite length which is set before enterting the loop  on the number of iterations\n",
        "While:\n",
        "-->Typically used  while a condition is True\n",
        "-->Will go on infinitely until condition is False\n",
        "\n",
        "\n",
        "'''"
      ],
      "metadata": {
        "colab": {
          "base_uri": "https://localhost:8080/",
          "height": 52
        },
        "id": "PvnsQ3MvhSXV",
        "outputId": "8ea1b65f-498c-4b46-a936-4e6423e8d601"
      },
      "execution_count": 2,
      "outputs": [
        {
          "output_type": "execute_result",
          "data": {
            "text/plain": [
              "'\\nFor:\\n-->Typically used for a sequence or an iterable\\n-->Usually definite length which is set before enterting the loop  on the number of iterations\\nWhile:\\n-->Typically used  while a condition is True\\n-->Will go on infinitely until condition is False\\n\\n\\n'"
            ],
            "application/vnd.google.colaboratory.intrinsic+json": {
              "type": "string"
            }
          },
          "metadata": {},
          "execution_count": 2
        }
      ]
    },
    {
      "cell_type": "code",
      "source": [
        "#Q3\n",
        "sum=0\n",
        "for i in range(1,101):\n",
        "  sum+=i\n",
        "sum"
      ],
      "metadata": {
        "colab": {
          "base_uri": "https://localhost:8080/"
        },
        "id": "TuPQ-zTeiKwR",
        "outputId": "5d18e94a-7bc6-41c0-90e8-494c1fa8c8b1"
      },
      "execution_count": 3,
      "outputs": [
        {
          "output_type": "execute_result",
          "data": {
            "text/plain": [
              "5050"
            ]
          },
          "metadata": {},
          "execution_count": 3
        }
      ]
    },
    {
      "cell_type": "code",
      "source": [
        "#Q4\n",
        "\n",
        "temp=[1,2,3,4,4,] #initialize list\n",
        "for i in temp:  #initialize for loop  to go iterate through temp with in keyword\n",
        "  print(i)"
      ],
      "metadata": {
        "colab": {
          "base_uri": "https://localhost:8080/"
        },
        "id": "vDX27FHwiURT",
        "outputId": "ad9cb1b7-03ce-4b82-c245-bb9a56814d02"
      },
      "execution_count": 4,
      "outputs": [
        {
          "output_type": "stream",
          "name": "stdout",
          "text": [
            "1\n",
            "2\n",
            "3\n",
            "4\n",
            "4\n"
          ]
        }
      ]
    },
    {
      "cell_type": "code",
      "source": [
        "#Q5\n",
        "prod=1\n",
        "temp=[1,2,3,4,5]\n",
        "for i in temp:\n",
        "  prod=prod*i\n",
        "prod"
      ],
      "metadata": {
        "colab": {
          "base_uri": "https://localhost:8080/"
        },
        "id": "hvLFTeKUileO",
        "outputId": "cb030314-6c6f-4d05-c220-2b6587d78167"
      },
      "execution_count": 5,
      "outputs": [
        {
          "output_type": "execute_result",
          "data": {
            "text/plain": [
              "120"
            ]
          },
          "metadata": {},
          "execution_count": 5
        }
      ]
    },
    {
      "cell_type": "code",
      "source": [
        "#Q6\n",
        "for i in range(2,21,2):\n",
        "  print(i)"
      ],
      "metadata": {
        "colab": {
          "base_uri": "https://localhost:8080/"
        },
        "id": "ZLMOZ-hgiwgL",
        "outputId": "2176a3a4-f139-43a1-8f2f-b215ed7db425"
      },
      "execution_count": 6,
      "outputs": [
        {
          "output_type": "stream",
          "name": "stdout",
          "text": [
            "2\n",
            "4\n",
            "6\n",
            "8\n",
            "10\n",
            "12\n",
            "14\n",
            "16\n",
            "18\n",
            "20\n"
          ]
        }
      ]
    },
    {
      "cell_type": "code",
      "source": [
        "#Q7\n",
        "n=5\n",
        "res=1\n",
        "for i in range(1,n+1):\n",
        "  res=res*i\n",
        "  print(f\" {i}:{res}\")\n"
      ],
      "metadata": {
        "colab": {
          "base_uri": "https://localhost:8080/"
        },
        "id": "dfPvxcUQi5es",
        "outputId": "a3c53cfa-b375-4691-ba66-6876b99b7515"
      },
      "execution_count": 7,
      "outputs": [
        {
          "output_type": "stream",
          "name": "stdout",
          "text": [
            " 1:1\n",
            " 2:2\n",
            " 3:6\n",
            " 4:24\n",
            " 5:120\n"
          ]
        }
      ]
    },
    {
      "cell_type": "code",
      "source": [
        "#Q8\n",
        "text='poopshoothoop'\n",
        "for i in text:\n",
        "  print(i)\n"
      ],
      "metadata": {
        "colab": {
          "base_uri": "https://localhost:8080/"
        },
        "id": "lG1e8SqpjFCT",
        "outputId": "80d72738-33dc-40a3-a1ee-c1d02680474c"
      },
      "execution_count": 8,
      "outputs": [
        {
          "output_type": "stream",
          "name": "stdout",
          "text": [
            "p\n",
            "o\n",
            "o\n",
            "p\n",
            "s\n",
            "h\n",
            "o\n",
            "o\n",
            "t\n",
            "h\n",
            "o\n",
            "o\n",
            "p\n"
          ]
        }
      ]
    },
    {
      "cell_type": "code",
      "source": [
        "#Q9\n",
        "temp=[1,2,34,5,56,2]\n",
        "max=temp[0]\n",
        "for i  in temp:\n",
        "  if i>max:\n",
        "    max=i\n",
        "max"
      ],
      "metadata": {
        "colab": {
          "base_uri": "https://localhost:8080/"
        },
        "id": "tYyUwhLdlf2z",
        "outputId": "045fb7de-b287-4feb-cd6b-825e2087ed0f"
      },
      "execution_count": 9,
      "outputs": [
        {
          "output_type": "execute_result",
          "data": {
            "text/plain": [
              "56"
            ]
          },
          "metadata": {},
          "execution_count": 9
        }
      ]
    },
    {
      "cell_type": "code",
      "source": [
        "#Q10\n",
        "a,b,n=0,1,6\n",
        "print(a,b)\n",
        "for i in range(2, n):\n",
        "        # Calculate the next term by adding the previous two terms\n",
        "  next_term = a + b\n",
        "        # Update a and b for the next iteration\n",
        "  a, b = b, next_term\n",
        "        # Print the next term\n",
        "  print(next_term, end=\", \")"
      ],
      "metadata": {
        "colab": {
          "base_uri": "https://localhost:8080/"
        },
        "id": "GPBoa-HxltP0",
        "outputId": "e2d907d3-c023-434a-bdb0-8c172d03c7e4"
      },
      "execution_count": 10,
      "outputs": [
        {
          "output_type": "stream",
          "name": "stdout",
          "text": [
            "0 1\n",
            "1, 2, 3, 5, "
          ]
        }
      ]
    },
    {
      "cell_type": "code",
      "source": [
        "#Q11\n",
        "text='eauijujdgne'\n",
        "vow='aeiou'\n",
        "count=0\n",
        "for i in text:\n",
        "  if i in vow:\n",
        "    count+=1\n",
        "count"
      ],
      "metadata": {
        "colab": {
          "base_uri": "https://localhost:8080/"
        },
        "id": "Hg-C_zBrmnN0",
        "outputId": "9649d5c3-c97f-4d9d-b412-46b2be5da5b1"
      },
      "execution_count": 11,
      "outputs": [
        {
          "output_type": "execute_result",
          "data": {
            "text/plain": [
              "6"
            ]
          },
          "metadata": {},
          "execution_count": 11
        }
      ]
    },
    {
      "cell_type": "code",
      "source": [
        "#Q12\n",
        "n=int(input(\"Enter num: \"))\n",
        "for i in range(1,11):\n",
        "  prod=n*i\n",
        "  print(f\"{n} x{i} ={prod}\")\n"
      ],
      "metadata": {
        "colab": {
          "base_uri": "https://localhost:8080/"
        },
        "id": "uMXMaDSonR5s",
        "outputId": "4b902e37-83fe-4632-aad1-d8a2588ac329"
      },
      "execution_count": 12,
      "outputs": [
        {
          "output_type": "stream",
          "name": "stdout",
          "text": [
            "Enter num: 4\n",
            "4 x1 =4\n",
            "4 x2 =8\n",
            "4 x3 =12\n",
            "4 x4 =16\n",
            "4 x5 =20\n",
            "4 x6 =24\n",
            "4 x7 =28\n",
            "4 x8 =32\n",
            "4 x9 =36\n",
            "4 x10 =40\n"
          ]
        }
      ]
    },
    {
      "cell_type": "code",
      "source": [
        "#Q13\n",
        "temp=[i for i in range(1,11)]\n",
        "j=len(temp)-1\n",
        "res=[0]*len(temp)\n",
        "for i in temp:\n",
        "  res[j]=temp[temp.index(i)]\n",
        "  res[temp.index(i)]=temp[j]\n",
        "  j-=1\n",
        "res"
      ],
      "metadata": {
        "colab": {
          "base_uri": "https://localhost:8080/"
        },
        "id": "o5zPNKihohBc",
        "outputId": "cf18cf89-dba8-4318-8e70-d6d5caab16c7"
      },
      "execution_count": 13,
      "outputs": [
        {
          "output_type": "execute_result",
          "data": {
            "text/plain": [
              "[10, 9, 8, 7, 6, 5, 4, 3, 2, 1]"
            ]
          },
          "metadata": {},
          "execution_count": 13
        }
      ]
    },
    {
      "cell_type": "code",
      "source": [
        "#Q14\n",
        "temp1=[1,2,3,4]\n",
        "temp2=[3,4,5,6]\n",
        "\n",
        "for i in temp1:\n",
        "  if i in temp2:\n",
        "    print(i)"
      ],
      "metadata": {
        "colab": {
          "base_uri": "https://localhost:8080/"
        },
        "id": "Eki0SCOrpPD8",
        "outputId": "26c9653f-203a-4012-e97f-a2fa71c3aca7"
      },
      "execution_count": 14,
      "outputs": [
        {
          "output_type": "stream",
          "name": "stdout",
          "text": [
            "3\n",
            "4\n"
          ]
        }
      ]
    },
    {
      "cell_type": "code",
      "source": [
        "#Q15\n",
        "letters={1:'a',2:'b',3:'c'}\n",
        "for i in letters:\n",
        "  print(f\"{i} is the key and {letters[i]} is the value\")\n",
        "  '''\n",
        "  Cannot directly iterate through the values of a dictionary but only the keys.\n",
        "  Through the keys we can call the values so that is done instead\n",
        "\n",
        "  '''"
      ],
      "metadata": {
        "colab": {
          "base_uri": "https://localhost:8080/"
        },
        "id": "mKTf_rr5qQaz",
        "outputId": "36fd0ad3-bb28-45dd-80de-29586397382d"
      },
      "execution_count": 15,
      "outputs": [
        {
          "output_type": "stream",
          "name": "stdout",
          "text": [
            "1 is the key and a is the value\n",
            "2 is the key and b is the value\n",
            "3 is the key and c is the value\n"
          ]
        }
      ]
    },
    {
      "cell_type": "code",
      "source": [
        "#Q16\n",
        "greatest=1\n",
        "n1=55\n",
        "n2=60\n",
        "for i in range(1,n1+1):\n",
        "  if n1%i==0 and n2%i==0:\n",
        "    if i >greatest:\n",
        "      greatest=i\n",
        "greatest"
      ],
      "metadata": {
        "colab": {
          "base_uri": "https://localhost:8080/"
        },
        "id": "4wcTodz1qikD",
        "outputId": "55ecabea-a49b-4ac9-82ce-6f2115ab4303"
      },
      "execution_count": 16,
      "outputs": [
        {
          "output_type": "execute_result",
          "data": {
            "text/plain": [
              "5"
            ]
          },
          "metadata": {},
          "execution_count": 16
        }
      ]
    },
    {
      "cell_type": "code",
      "source": [
        "#Q17\n",
        "text='poop'\n",
        "res=''\n",
        "for i in text[::-1]:\n",
        "  res=res+i\n",
        "if res==text:\n",
        "  print(\"Palindrom\")\n",
        "else:\n",
        "  print(\"Not\")"
      ],
      "metadata": {
        "colab": {
          "base_uri": "https://localhost:8080/"
        },
        "id": "Ub7Xr_V3rbUz",
        "outputId": "05842830-b051-43f0-e5cd-1eb75f7d4c11"
      },
      "execution_count": 17,
      "outputs": [
        {
          "output_type": "stream",
          "name": "stdout",
          "text": [
            "Palindrom\n"
          ]
        }
      ]
    },
    {
      "cell_type": "code",
      "source": [
        "#Q18\n",
        "temp=[1,2,3,4,54,5,5]\n",
        "res=set()\n",
        "for i in temp:\n",
        "  res.add(i)\n",
        "\n",
        "res=list(res)\n",
        "res"
      ],
      "metadata": {
        "colab": {
          "base_uri": "https://localhost:8080/"
        },
        "id": "Tb07NIx4sBfc",
        "outputId": "3a965fa8-4a98-41dc-c6a2-80c26b9bfe51"
      },
      "execution_count": 18,
      "outputs": [
        {
          "output_type": "execute_result",
          "data": {
            "text/plain": [
              "[1, 2, 3, 4, 5, 54]"
            ]
          },
          "metadata": {},
          "execution_count": 18
        }
      ]
    },
    {
      "cell_type": "code",
      "source": [
        "#Q19\n",
        "sent='i love to eat food and go to the gym'\n",
        "temp=sent.split(\" \")\n",
        "count=0\n",
        "for i in temp:\n",
        "  count+=1\n",
        "\n",
        "count"
      ],
      "metadata": {
        "colab": {
          "base_uri": "https://localhost:8080/"
        },
        "id": "7EbBTa375-p4",
        "outputId": "3e75d217-ce06-4f98-a7e6-48e47c5654ed"
      },
      "execution_count": 19,
      "outputs": [
        {
          "output_type": "execute_result",
          "data": {
            "text/plain": [
              "10"
            ]
          },
          "metadata": {},
          "execution_count": 19
        }
      ]
    },
    {
      "cell_type": "code",
      "source": [
        "#Q20\n",
        "for i in range(1,50):\n",
        "  if i %2!=0:\n",
        "    print(f\" {i} is odd\")"
      ],
      "metadata": {
        "colab": {
          "base_uri": "https://localhost:8080/"
        },
        "id": "myVnnsjM6lPA",
        "outputId": "4e3842d9-d5a1-4816-d943-daecb01e57e5"
      },
      "execution_count": 20,
      "outputs": [
        {
          "output_type": "stream",
          "name": "stdout",
          "text": [
            " 1 is odd\n",
            " 3 is odd\n",
            " 5 is odd\n",
            " 7 is odd\n",
            " 9 is odd\n",
            " 11 is odd\n",
            " 13 is odd\n",
            " 15 is odd\n",
            " 17 is odd\n",
            " 19 is odd\n",
            " 21 is odd\n",
            " 23 is odd\n",
            " 25 is odd\n",
            " 27 is odd\n",
            " 29 is odd\n",
            " 31 is odd\n",
            " 33 is odd\n",
            " 35 is odd\n",
            " 37 is odd\n",
            " 39 is odd\n",
            " 41 is odd\n",
            " 43 is odd\n",
            " 45 is odd\n",
            " 47 is odd\n",
            " 49 is odd\n"
          ]
        }
      ]
    },
    {
      "cell_type": "code",
      "source": [
        "#Q21\n",
        "year=2008\n",
        "\n",
        "if year%400==0 :\n",
        "  print(True)\n",
        "elif year%4 == 0 and year%100 != 0:\n",
        "  print(True)\n",
        "else:\n",
        "  print(False)\n"
      ],
      "metadata": {
        "colab": {
          "base_uri": "https://localhost:8080/"
        },
        "id": "y0qGdTfv61z3",
        "outputId": "05f535cb-780d-44be-8beb-5da848f8c682"
      },
      "execution_count": 21,
      "outputs": [
        {
          "output_type": "stream",
          "name": "stdout",
          "text": [
            "True\n"
          ]
        }
      ]
    },
    {
      "cell_type": "code",
      "source": [
        "#Q23\n",
        "n1=5\n",
        "n2=21\n",
        "if n1>n2:\n",
        "  greater=n1\n",
        "else:\n",
        "  greater=n2\n",
        "\n",
        "\n",
        "while True:\n",
        "  if((greater%n1==0) and (greater%n2==0)):\n",
        "    lcm=greater\n",
        "    break\n",
        "  greater+=1\n",
        "lcm"
      ],
      "metadata": {
        "colab": {
          "base_uri": "https://localhost:8080/"
        },
        "id": "W5tZ9wNR7wIP",
        "outputId": "a0c48de0-bf87-48cc-fff0-9fe1f0a99dc4"
      },
      "execution_count": 22,
      "outputs": [
        {
          "output_type": "execute_result",
          "data": {
            "text/plain": [
              "105"
            ]
          },
          "metadata": {},
          "execution_count": 22
        }
      ]
    },
    {
      "cell_type": "markdown",
      "source": [
        "###IF ELSE\n"
      ],
      "metadata": {
        "id": "l1dwjbcx-Stx"
      }
    },
    {
      "cell_type": "code",
      "source": [
        "#Q1\n",
        "n=9\n",
        "if n>0:\n",
        "  print(\"Positive\")\n",
        "else:\n",
        "  if n==0:\n",
        "    print(\"Zero\")\n",
        "  else:\n",
        "    print(\"Negative\")"
      ],
      "metadata": {
        "colab": {
          "base_uri": "https://localhost:8080/"
        },
        "id": "Z4ICBClR9liP",
        "outputId": "2fda95e5-bb75-4a00-b77a-8c23d2748682"
      },
      "execution_count": 23,
      "outputs": [
        {
          "output_type": "stream",
          "name": "stdout",
          "text": [
            "Positive\n"
          ]
        }
      ]
    },
    {
      "cell_type": "code",
      "source": [
        "#Q2\n",
        "n=9\n",
        "if n%2==0:\n",
        "  print(\"Even\")\n",
        "else:\n",
        "  print(\"Odd\")"
      ],
      "metadata": {
        "colab": {
          "base_uri": "https://localhost:8080/"
        },
        "id": "sqv6PPxG-il3",
        "outputId": "b20d292b-61a9-4d26-efd9-ca94e3d673b0"
      },
      "execution_count": 24,
      "outputs": [
        {
          "output_type": "stream",
          "name": "stdout",
          "text": [
            "Odd\n"
          ]
        }
      ]
    },
    {
      "cell_type": "code",
      "source": [
        "#Q3\n",
        "n=9\n",
        "if n>0:\n",
        "  print(\"Positive\")\n",
        "else:\n",
        "  if n==0:\n",
        "    print(\"Zero\")\n",
        "  else:\n",
        "    print(\"Negative\")\n",
        "\n",
        "'''\n",
        "Above is an example of a program to detect if a number is positive/negative/zero using nested if-else statement\n",
        "'''"
      ],
      "metadata": {
        "colab": {
          "base_uri": "https://localhost:8080/",
          "height": 52
        },
        "id": "fhnUE_wZ-qkg",
        "outputId": "cc63dfeb-0f7b-4dcd-c5f7-ce51b01e337f"
      },
      "execution_count": 25,
      "outputs": [
        {
          "output_type": "stream",
          "name": "stdout",
          "text": [
            "Positive\n"
          ]
        },
        {
          "output_type": "execute_result",
          "data": {
            "text/plain": [
              "'\\nAbove is an example of a program to detect if a number is positive/negative/zero using nested if-else statement\\n'"
            ],
            "application/vnd.google.colaboratory.intrinsic+json": {
              "type": "string"
            }
          },
          "metadata": {},
          "execution_count": 25
        }
      ]
    },
    {
      "cell_type": "code",
      "source": [
        "#Q4\n",
        "nums=[1,3,54]\n",
        "biggest=nums[0]\n",
        "\n",
        "if biggest>nums[1] and biggest>nums[2]:\n",
        "  print(biggest)\n",
        "elif nums[1]>biggest and nums[1]>nums[2]:\n",
        "  print(nums[1])\n",
        "else:\n",
        "  print(nums[2])"
      ],
      "metadata": {
        "colab": {
          "base_uri": "https://localhost:8080/"
        },
        "id": "Xnma03Ta-7QW",
        "outputId": "b568128d-ae07-4f9e-f578-8be2458b5f68"
      },
      "execution_count": 26,
      "outputs": [
        {
          "output_type": "stream",
          "name": "stdout",
          "text": [
            "54\n"
          ]
        }
      ]
    },
    {
      "cell_type": "code",
      "source": [
        "#Q5\n",
        "num=-9\n",
        "if num>0:\n",
        "  print(num)\n",
        "else:\n",
        "  print(abs(num))"
      ],
      "metadata": {
        "id": "SpnSxzt7_xqA",
        "colab": {
          "base_uri": "https://localhost:8080/"
        },
        "outputId": "7ae9d9dd-2dde-439b-db0b-5ab0d5f0e18c"
      },
      "execution_count": 27,
      "outputs": [
        {
          "metadata": {
            "tags": null
          },
          "name": "stdout",
          "output_type": "stream",
          "text": [
            "9\n"
          ]
        }
      ]
    },
    {
      "cell_type": "code",
      "source": [
        "#Q6\n",
        "vow='aeiou'\n",
        "n='d'\n",
        "if n in vow:\n",
        "  print(\"Vowel\")\n",
        "else:\n",
        "  print(\"Consonant\")\n"
      ],
      "metadata": {
        "colab": {
          "base_uri": "https://localhost:8080/"
        },
        "id": "ev-h3dWOYxcG",
        "outputId": "48815680-ba5f-478f-fb07-940366224e89"
      },
      "execution_count": 28,
      "outputs": [
        {
          "metadata": {
            "tags": null
          },
          "name": "stdout",
          "output_type": "stream",
          "text": [
            "Consonant\n"
          ]
        }
      ]
    },
    {
      "cell_type": "code",
      "source": [
        "#Q7\n",
        "age=88\n",
        "if age>=18:\n",
        "  print(\"Can Vote\")\n",
        "else:\n",
        "  print(\"Cannot Vote\")"
      ],
      "metadata": {
        "colab": {
          "base_uri": "https://localhost:8080/"
        },
        "id": "Mn5YL7dlZCwE",
        "outputId": "ccce6dbe-079f-45c4-ae05-7f4f9ebecb88"
      },
      "execution_count": 29,
      "outputs": [
        {
          "output_type": "stream",
          "name": "stdout",
          "text": [
            "Can Vote\n"
          ]
        }
      ]
    },
    {
      "cell_type": "code",
      "source": [
        "#Q8\n",
        "amt=8888\n",
        "if amt>1000 and amt<2000:\n",
        "  disc=0.1\n",
        "elif amt>2000 and amt<4000:\n",
        "  disc=0.25\n",
        "elif amt>4000:\n",
        "  disc=0.35\n",
        "else:\n",
        "  disc=0\n",
        "final=amt-(amt*disc)\n",
        "int(final)"
      ],
      "metadata": {
        "colab": {
          "base_uri": "https://localhost:8080/"
        },
        "id": "PimCs4zrZK4t",
        "outputId": "0d3a4e25-c60f-4b97-8526-35e2f14f031e"
      },
      "execution_count": 30,
      "outputs": [
        {
          "data": {
            "text/plain": [
              "5777"
            ]
          },
          "execution_count": 30,
          "metadata": {},
          "output_type": "execute_result"
        }
      ]
    },
    {
      "cell_type": "code",
      "source": [
        "#Q9\n",
        "amt=8888\n",
        "if amt>1000 and amt<2000:\n",
        "  print(\"Between 1000-2000\")\n",
        "elif amt>2000 and amt<4000:\n",
        "  print(\"Between 2000 and 4000\")\n",
        "elif amt>4000:\n",
        "  print(\"More than 4000\")\n",
        "else:\n",
        "  print(\"Less than 1000 to -infinity\")"
      ],
      "metadata": {
        "colab": {
          "base_uri": "https://localhost:8080/"
        },
        "id": "Vejnu6CdZpC1",
        "outputId": "cd3f3103-de28-4e64-b52a-2c6c3c328f1d"
      },
      "execution_count": 31,
      "outputs": [
        {
          "metadata": {
            "tags": null
          },
          "name": "stdout",
          "output_type": "stream",
          "text": [
            "More than 4000\n"
          ]
        }
      ]
    },
    {
      "cell_type": "code",
      "source": [
        "#Q10\n",
        "score=87\n",
        "if score>90:\n",
        "  print(\"A\")\n",
        "elif score>80:\n",
        "  print(\"B\")\n",
        "elif score >70:\n",
        "  print(\"C\")\n",
        "elif score>60:\n",
        "  print(\"D\")\n",
        "else:\n",
        "  print(\"F\")"
      ],
      "metadata": {
        "colab": {
          "base_uri": "https://localhost:8080/"
        },
        "id": "yBTJeHCXaFs5",
        "outputId": "d5b847f2-b729-4619-8a26-8e3e0fb4e531"
      },
      "execution_count": 32,
      "outputs": [
        {
          "output_type": "stream",
          "name": "stdout",
          "text": [
            "B\n"
          ]
        }
      ]
    },
    {
      "cell_type": "code",
      "source": [
        "#Q11\n",
        "text='fdfs'\n",
        "if len(text)>0:\n",
        "  print(\"Not empty\")\n",
        "else:\n",
        "  print(\"Empty\")"
      ],
      "metadata": {
        "id": "IDhP7yKoaYSb",
        "colab": {
          "base_uri": "https://localhost:8080/"
        },
        "outputId": "2c51d135-f43d-4735-905e-45698a545a34"
      },
      "execution_count": 33,
      "outputs": [
        {
          "output_type": "stream",
          "name": "stdout",
          "text": [
            "Not empty\n"
          ]
        }
      ]
    },
    {
      "cell_type": "code",
      "source": [
        "#Q12\n",
        "s1,s2,s3=2,3,4\n",
        "if s1==s2 and s1==s3:\n",
        "  print(\"Equilateral\")\n",
        "else:\n",
        "  if s2==s3 or s2==s1:\n",
        "    print(\"Isosceles\")\n",
        "  else:\n",
        "    print(\"Scalene\")"
      ],
      "metadata": {
        "colab": {
          "base_uri": "https://localhost:8080/"
        },
        "id": "V36lSzqPQ1cV",
        "outputId": "6c3819d4-520c-46a0-cb23-17277905373d"
      },
      "execution_count": 34,
      "outputs": [
        {
          "output_type": "stream",
          "name": "stdout",
          "text": [
            "Scalene\n"
          ]
        }
      ]
    },
    {
      "cell_type": "code",
      "source": [
        "#Q13\n",
        "n=5\n",
        "if n==1:\n",
        "  print(\"Monday\")\n",
        "elif n==2:\n",
        "  print(\"Tuesday\")\n",
        "elif n==3:\n",
        "  print(\"Wednesday\")\n",
        "elif n==4:\n",
        "  print(\"Thursday\")\n",
        "elif n==5:\n",
        "  print(\"Friday\")\n",
        "elif n==6:\n",
        "  print(\"Saturday\")\n",
        "elif n==7:\n",
        "  print(\"Sunday\")\n",
        "else:\n",
        "  print(\"Invalid day\")"
      ],
      "metadata": {
        "colab": {
          "base_uri": "https://localhost:8080/"
        },
        "id": "PYaZ7cziRd41",
        "outputId": "3c409021-319d-4158-fce5-bb65cd008a03"
      },
      "execution_count": 35,
      "outputs": [
        {
          "metadata": {
            "tags": null
          },
          "name": "stdout",
          "output_type": "stream",
          "text": [
            "Friday\n"
          ]
        }
      ]
    },
    {
      "cell_type": "code",
      "source": [
        "#Q14\n",
        "year=2020\n",
        "\n",
        "if year%400==0 :\n",
        "  print(True)\n",
        "elif year%4 == 0 and year%100 != 0:\n",
        "  print(True)\n",
        "else:\n",
        "  print(False)\n"
      ],
      "metadata": {
        "colab": {
          "base_uri": "https://localhost:8080/"
        },
        "id": "kV6IeSKyRrYO",
        "outputId": "99e0ad55-6b52-4510-b455-65a0fecf3cef"
      },
      "execution_count": 36,
      "outputs": [
        {
          "metadata": {
            "tags": null
          },
          "name": "stdout",
          "output_type": "stream",
          "text": [
            "True\n"
          ]
        }
      ]
    },
    {
      "cell_type": "code",
      "source": [
        "#Q15\n",
        "'''\n",
        "Used for debugging purposes to check if a given condition is true.If false it will be triggered.\n",
        "'''"
      ],
      "metadata": {
        "colab": {
          "base_uri": "https://localhost:8080/",
          "height": 35
        },
        "id": "gCB3Ln4TSPE_",
        "outputId": "a7c721b3-7b44-4012-8698-cb44658d22ac"
      },
      "execution_count": 37,
      "outputs": [
        {
          "data": {
            "application/vnd.google.colaboratory.intrinsic+json": {
              "type": "string"
            },
            "text/plain": [
              "'\\nUsed for debugging purposes to check if a given condition is true.If false it will be triggered.\\n'"
            ]
          },
          "execution_count": 37,
          "metadata": {},
          "output_type": "execute_result"
        }
      ]
    },
    {
      "cell_type": "code",
      "source": [
        "#Q16\n",
        "age=88\n",
        "if age>75:\n",
        "  disc=0.2\n",
        "  print(\"Can avail\")\n",
        "else:\n",
        "  disc=0\n",
        "  print(\"Cannot avail\")\n",
        "\n",
        "\n"
      ],
      "metadata": {
        "colab": {
          "base_uri": "https://localhost:8080/"
        },
        "id": "i9gSlMoFS0i7",
        "outputId": "696169e3-ae35-4468-8131-f1da581c7eee"
      },
      "execution_count": 38,
      "outputs": [
        {
          "output_type": "stream",
          "name": "stdout",
          "text": [
            "Can avail\n"
          ]
        }
      ]
    },
    {
      "cell_type": "code",
      "source": [
        "#Q17\n",
        "text='AAA'\n",
        "if text.isupper():\n",
        "  print(\"Uppercase\")\n",
        "else:\n",
        "  if text.islower():\n",
        "    print(\"Lowercase\")\n",
        "  else:\n",
        "    print(\"Neither\")"
      ],
      "metadata": {
        "colab": {
          "base_uri": "https://localhost:8080/"
        },
        "id": "cI2TeFM7xBs9",
        "outputId": "80075405-811c-44ac-8fb7-5f26473de58d"
      },
      "execution_count": 39,
      "outputs": [
        {
          "output_type": "stream",
          "name": "stdout",
          "text": [
            "Uppercase\n"
          ]
        }
      ]
    },
    {
      "cell_type": "code",
      "source": [
        "#Q19\n",
        "year=2020\n",
        "if year%100==0:\n",
        "  print(\"Century year\")\n",
        "else:\n",
        "  print(\"Not a century year\")"
      ],
      "metadata": {
        "colab": {
          "base_uri": "https://localhost:8080/"
        },
        "id": "ifZharPcxL3Q",
        "outputId": "8383a98d-9f5d-491b-dd71-c5a4eac811ff"
      },
      "execution_count": 40,
      "outputs": [
        {
          "output_type": "stream",
          "name": "stdout",
          "text": [
            "Not a century year\n"
          ]
        }
      ]
    },
    {
      "cell_type": "code",
      "source": [
        "#Q20\n",
        "import math\n",
        "n=4\n",
        "if math.sqrt(n).is_integer():\n",
        "  print(True)\n",
        "else:\n",
        "  print(False)"
      ],
      "metadata": {
        "colab": {
          "base_uri": "https://localhost:8080/"
        },
        "id": "qsUolRhEyWI0",
        "outputId": "833e054a-72bb-48c4-84f6-811ab85fee65"
      },
      "execution_count": 41,
      "outputs": [
        {
          "metadata": {
            "tags": null
          },
          "name": "stdout",
          "output_type": "stream",
          "text": [
            "True\n"
          ]
        }
      ]
    },
    {
      "cell_type": "code",
      "source": [
        "#Q21\n",
        "'''\n",
        "The continue statement just makes sure the iteration goes to the next iteration .Within an if else statement\n",
        "Break causes the iteration to stop and exit the loop\n",
        "'''\n",
        "i=[1,2,3,4]\n",
        "for k in i:\n",
        "  if k==2:\n",
        "    continue\n",
        "  print(k)"
      ],
      "metadata": {
        "colab": {
          "base_uri": "https://localhost:8080/"
        },
        "id": "A0RNdIl1zFpx",
        "outputId": "be2b4439-88d7-4a6c-c564-b228de43ce6e"
      },
      "execution_count": 42,
      "outputs": [
        {
          "metadata": {
            "tags": null
          },
          "name": "stdout",
          "output_type": "stream",
          "text": [
            "1\n",
            "3\n",
            "4\n"
          ]
        }
      ]
    },
    {
      "cell_type": "code",
      "source": [
        "#Q22\n",
        "\n",
        "weight = 82\n",
        "height = 1.77\n",
        "x = weight/float(height*height);\n",
        "if x < 18.5:\n",
        "    print('Underweight')\n",
        "if x>=18.5 and x<25:\n",
        "    print(\"Normal\")\n",
        "if x >= 25 and x < 30:\n",
        "   print('Overweight')\n",
        "if x >= 30:\n",
        "   print('Obesity')\n",
        "print(x)"
      ],
      "metadata": {
        "colab": {
          "base_uri": "https://localhost:8080/"
        },
        "id": "q-MO4cp22PvH",
        "outputId": "47435582-9ccc-42cf-988a-351dee1d30f2"
      },
      "execution_count": 43,
      "outputs": [
        {
          "output_type": "stream",
          "name": "stdout",
          "text": [
            "Overweight\n",
            "26.173832551310287\n"
          ]
        }
      ]
    },
    {
      "cell_type": "code",
      "source": [
        "#Q23\n",
        "n=7\n",
        "res=[]\n",
        "for i in range(1,n+1):\n",
        "  if n%i==0:\n",
        "    res.append(i)\n",
        "\n",
        "if len(res)>2:\n",
        "  print(\"Not Prime\")\n",
        "else:\n",
        "  print(\"Prime\")"
      ],
      "metadata": {
        "colab": {
          "base_uri": "https://localhost:8080/"
        },
        "id": "zQeSsGeY25_9",
        "outputId": "f196ff8d-e3f5-4ebd-8978-39c84abd9451"
      },
      "execution_count": 44,
      "outputs": [
        {
          "metadata": {
            "tags": null
          },
          "name": "stdout",
          "output_type": "stream",
          "text": [
            "Prime\n"
          ]
        }
      ]
    },
    {
      "cell_type": "markdown",
      "source": [
        "###Map"
      ],
      "metadata": {
        "id": "PNt7PHPJ4LNB"
      }
    },
    {
      "cell_type": "code",
      "source": [
        "#Q1\n",
        "'''\n",
        "Lets us apply a function on an iterable.\n",
        "ex:\n",
        "def square(x):\n",
        "  return x*x\n",
        "\n",
        "temp=[1,2,3,4,5]\n",
        "res=list(map(square,temp))  #Using the map to square every digit by creating a square function  in a list temp\n",
        "res\n",
        "'''"
      ],
      "metadata": {
        "colab": {
          "base_uri": "https://localhost:8080/",
          "height": 35
        },
        "id": "abpD-nbx4yGo",
        "outputId": "b74a8854-3b8a-44d8-b23d-200ae1b42894"
      },
      "execution_count": 45,
      "outputs": [
        {
          "output_type": "execute_result",
          "data": {
            "text/plain": [
              "'\\nLets us apply a function on an iterable.\\nex:\\ndef square(x):\\n  return x*x\\n\\ntemp=[1,2,3,4,5]\\nres=list(map(square,temp))  #Using the map to square every digit by creating a square function  in a list temp\\nres\\n'"
            ],
            "application/vnd.google.colaboratory.intrinsic+json": {
              "type": "string"
            }
          },
          "metadata": {},
          "execution_count": 45
        }
      ]
    },
    {
      "cell_type": "code",
      "source": [
        "#Q2\n",
        "def square(x):\n",
        "  return x*x\n",
        "temp=[1,2,3,4,5]\n",
        "res=list(map(square,temp))\n",
        "res"
      ],
      "metadata": {
        "colab": {
          "base_uri": "https://localhost:8080/"
        },
        "id": "kIhzkGyn4JLN",
        "outputId": "0dcc398e-a6dc-4f30-9057-9993fab93905"
      },
      "execution_count": 46,
      "outputs": [
        {
          "output_type": "execute_result",
          "data": {
            "text/plain": [
              "[1, 4, 9, 16, 25]"
            ]
          },
          "metadata": {},
          "execution_count": 46
        }
      ]
    },
    {
      "cell_type": "code",
      "source": [
        "#Q3\n",
        "'''\n",
        "Map is used for more complex transformations while list comprehensions are used for easier transformations.\n",
        "\n",
        "'''"
      ],
      "metadata": {
        "colab": {
          "base_uri": "https://localhost:8080/",
          "height": 35
        },
        "id": "yUzJMvYk6jOo",
        "outputId": "33cdf769-befe-400f-c437-e00d1bfcd0ba"
      },
      "execution_count": 47,
      "outputs": [
        {
          "data": {
            "application/vnd.google.colaboratory.intrinsic+json": {
              "type": "string"
            },
            "text/plain": [
              "'\\nMap is used for more complex transformations while list comprehensions are used for easier transformations.\\n\\n'"
            ]
          },
          "execution_count": 47,
          "metadata": {},
          "output_type": "execute_result"
        }
      ]
    },
    {
      "cell_type": "code",
      "source": [
        "#Q4\n",
        "temp=['ryan','naruto','itachi','luffy']\n",
        "def up(x):\n",
        "  return x.upper()\n",
        "\n",
        "res=list(map(up,temp))\n",
        "res\n"
      ],
      "metadata": {
        "colab": {
          "base_uri": "https://localhost:8080/"
        },
        "id": "kI3z0Jd-4pnu",
        "outputId": "819151b4-6747-4203-ae91-b6da2f03f15b"
      },
      "execution_count": 48,
      "outputs": [
        {
          "data": {
            "text/plain": [
              "['RYAN', 'NARUTO', 'ITACHI', 'LUFFY']"
            ]
          },
          "execution_count": 48,
          "metadata": {},
          "output_type": "execute_result"
        }
      ]
    },
    {
      "cell_type": "code",
      "source": [
        "#Q5\n",
        "temp=['ryan','naruto','itachi','luffy']\n",
        "def length(x):\n",
        "  return len(x)\n",
        "\n",
        "res=list(map(length,temp))\n",
        "res"
      ],
      "metadata": {
        "colab": {
          "base_uri": "https://localhost:8080/"
        },
        "id": "Mr442Axk5XGG",
        "outputId": "d6f3ad2f-3cbb-4482-d2da-0619b056404b"
      },
      "execution_count": 49,
      "outputs": [
        {
          "output_type": "execute_result",
          "data": {
            "text/plain": [
              "[4, 6, 6, 5]"
            ]
          },
          "metadata": {},
          "execution_count": 49
        }
      ]
    },
    {
      "cell_type": "code",
      "source": [
        "#Q6\n",
        "l1 = [1, 2, 3]\n",
        "l2 = [4, 5, 6]\n",
        "\n",
        "def add(x, y):\n",
        "    return x + y\n",
        "\n",
        "result = list(map(add, l1, l2))\n",
        "\n",
        "result\n",
        "\n"
      ],
      "metadata": {
        "colab": {
          "base_uri": "https://localhost:8080/"
        },
        "id": "J0jKaK6S5gDN",
        "outputId": "3df28ae9-6d53-4879-8053-c595c6dc19b9"
      },
      "execution_count": 50,
      "outputs": [
        {
          "data": {
            "text/plain": [
              "[5, 7, 9]"
            ]
          },
          "execution_count": 50,
          "metadata": {},
          "output_type": "execute_result"
        }
      ]
    },
    {
      "cell_type": "code",
      "source": [
        "#Q7\n",
        "\n",
        "temp=[27,28,37]\n",
        "def Cel2Far(x):\n",
        "  res=x*1.8+32\n",
        "  return res\n",
        "\n",
        "res=list(map(Cel2Far,temp))\n",
        "res"
      ],
      "metadata": {
        "colab": {
          "base_uri": "https://localhost:8080/"
        },
        "id": "rR2hO9Ho5z6O",
        "outputId": "599caa49-4cc7-40a0-fc13-acecaa1e2692"
      },
      "execution_count": 51,
      "outputs": [
        {
          "output_type": "execute_result",
          "data": {
            "text/plain": [
              "[80.6, 82.4, 98.60000000000001]"
            ]
          },
          "metadata": {},
          "execution_count": 51
        }
      ]
    },
    {
      "cell_type": "code",
      "source": [
        "#Q8\n",
        "nums= [1.3, 2.7, 3.5, 4.2, 5.9]\n",
        "\n",
        "def Round(x):\n",
        "  return round(x)\n",
        "\n",
        "res=list(map(Round,nums))\n",
        "res"
      ],
      "metadata": {
        "colab": {
          "base_uri": "https://localhost:8080/"
        },
        "id": "URgZEq0S6Gq-",
        "outputId": "766c2593-d077-4613-88a1-41ae61fe5a45"
      },
      "execution_count": 52,
      "outputs": [
        {
          "data": {
            "text/plain": [
              "[1, 3, 4, 4, 6]"
            ]
          },
          "execution_count": 52,
          "metadata": {},
          "output_type": "execute_result"
        }
      ]
    },
    {
      "cell_type": "markdown",
      "source": [
        "###Reduce"
      ],
      "metadata": {
        "id": "oQYgqLw37ajI"
      }
    },
    {
      "cell_type": "code",
      "source": [
        "#Q1\n",
        "'''\n",
        "It lets us iterate through an iterable cumulatively reducing the iterable to a single value\n",
        "The functools module needs to be imported\n",
        "'''\n",
        "#Sample use case:\n",
        "temp=[i for i in range(1,10)]\n",
        "\n",
        "def mult(x,y):\n",
        "  return x*y\n",
        "\n",
        "res=reduce(mult,temp)\n",
        "res"
      ],
      "metadata": {
        "colab": {
          "base_uri": "https://localhost:8080/"
        },
        "id": "-VKb239-7ZZ9",
        "outputId": "0500e618-5dfd-490f-f63d-29907f0bc037"
      },
      "execution_count": 56,
      "outputs": [
        {
          "output_type": "execute_result",
          "data": {
            "text/plain": [
              "362880"
            ]
          },
          "metadata": {},
          "execution_count": 56
        }
      ]
    },
    {
      "cell_type": "code",
      "source": [
        "#Q2\n",
        "from functools import reduce\n",
        "temp=[i for i in range(1,10)]\n",
        "\n",
        "def mult(x,y):\n",
        "  return x*y\n",
        "\n",
        "res=reduce(mult,temp)\n",
        "res"
      ],
      "metadata": {
        "colab": {
          "base_uri": "https://localhost:8080/"
        },
        "id": "JaqfAO9bM3IA",
        "outputId": "60cd606c-77b2-4fb2-d4f0-2bd055aefd99"
      },
      "execution_count": 55,
      "outputs": [
        {
          "output_type": "execute_result",
          "data": {
            "text/plain": [
              "362880"
            ]
          },
          "metadata": {},
          "execution_count": 55
        }
      ]
    },
    {
      "cell_type": "code",
      "source": [
        "#Q3\n",
        "temp=[2,4,5,67,8]\n",
        "\n",
        "def gr8(x,y):\n",
        "  big= max(x,y)\n",
        "  return big\n",
        "\n",
        "res=reduce(gr8,temp)\n",
        "res"
      ],
      "metadata": {
        "id": "BmW7BaiqNJSH"
      },
      "execution_count": null,
      "outputs": []
    },
    {
      "cell_type": "code",
      "source": [
        "#Q4\n",
        "temp=['i','love','subway']\n",
        "\n",
        "def comb(x,y):\n",
        "  return x+y\n",
        "\n",
        "res=reduce(comb,temp)\n",
        "res"
      ],
      "metadata": {
        "colab": {
          "base_uri": "https://localhost:8080/",
          "height": 35
        },
        "id": "0jiPG5dWOH_w",
        "outputId": "75eb5d13-c88b-4167-98d1-137e97cb7bdb"
      },
      "execution_count": 64,
      "outputs": [
        {
          "output_type": "execute_result",
          "data": {
            "text/plain": [
              "'ilovesubway'"
            ],
            "application/vnd.google.colaboratory.intrinsic+json": {
              "type": "string"
            }
          },
          "metadata": {},
          "execution_count": 64
        }
      ]
    },
    {
      "cell_type": "code",
      "source": [
        "#Q5\n",
        "n=5\n",
        "temp=[i for i in range(1,n+1)]\n",
        "\n",
        "def fact(x,y):\n",
        "  return x*y\n",
        "\n",
        "res= reduce(fact,temp)\n",
        "res"
      ],
      "metadata": {
        "colab": {
          "base_uri": "https://localhost:8080/"
        },
        "id": "0NZg34SLOl3P",
        "outputId": "84f31de1-9246-4c8d-c39f-1ae82c90ccae"
      },
      "execution_count": 65,
      "outputs": [
        {
          "output_type": "execute_result",
          "data": {
            "text/plain": [
              "120"
            ]
          },
          "metadata": {},
          "execution_count": 65
        }
      ]
    },
    {
      "cell_type": "code",
      "source": [
        "#Q6\n",
        "temp=(45,80)\n",
        "def gcd(a, b):\n",
        "    while b:\n",
        "        a, b = b, a % b\n",
        "    return a\n",
        "\n",
        "res=reduce(gcd,temp)\n",
        "res"
      ],
      "metadata": {
        "colab": {
          "base_uri": "https://localhost:8080/"
        },
        "id": "OWuXozyAO67W",
        "outputId": "4ec90b5e-442d-4d63-9692-1208065f6a0e"
      },
      "execution_count": 62,
      "outputs": [
        {
          "output_type": "execute_result",
          "data": {
            "text/plain": [
              "5"
            ]
          },
          "metadata": {},
          "execution_count": 62
        }
      ]
    },
    {
      "cell_type": "code",
      "source": [
        "#Q7\n",
        "n=7895\n",
        "n=str(n)\n",
        "def count(x,y):\n",
        "  x,y=int(x),int(y)\n",
        "  return x+y\n",
        "\n",
        "res=reduce(count,n)\n",
        "res"
      ],
      "metadata": {
        "id": "mVSBzmYAPoH2"
      },
      "execution_count": null,
      "outputs": []
    },
    {
      "cell_type": "markdown",
      "source": [
        "###Filter"
      ],
      "metadata": {
        "id": "pgxpyLj7QmAL"
      }
    },
    {
      "cell_type": "code",
      "source": [
        "#Q1\n",
        "'''\n",
        "Used to filter out and apply a conditional to an iterable\n",
        "ex--->\n",
        "Sample code to filter out even numbers from a list\n",
        "'''\n",
        "def is_even(num):\n",
        "    return num % 2 == 0\n",
        "\n",
        "temp = [1, 2, 3, 4, 5, 6, 7, 8, 9, 10]\n",
        "\n",
        "even = filter(is_even, temp)\n",
        "\n",
        "res = list(even)\n",
        "\n",
        "print(res)"
      ],
      "metadata": {
        "colab": {
          "base_uri": "https://localhost:8080/"
        },
        "id": "675TmNdmP3Wo",
        "outputId": "c2e0f584-5fce-4fc9-e493-2259bb0b0940"
      },
      "execution_count": 76,
      "outputs": [
        {
          "output_type": "stream",
          "name": "stdout",
          "text": [
            "[2, 4, 6, 8, 10]\n"
          ]
        }
      ]
    },
    {
      "cell_type": "code",
      "source": [
        "#Q2\n",
        "def is_even(num):\n",
        "    return num % 2 == 0\n",
        "\n",
        "temp = [1, 2, 3, 4, 5, 6, 7, 8, 9, 10]\n",
        "\n",
        "even = filter(is_even, temp)\n",
        "\n",
        "res = list(even)\n",
        "\n",
        "print(res)"
      ],
      "metadata": {
        "colab": {
          "base_uri": "https://localhost:8080/"
        },
        "id": "8nvVkV7kDVRp",
        "outputId": "f4fb25fb-934a-4bce-a614-ef6d90b94e4c"
      },
      "execution_count": 61,
      "outputs": [
        {
          "output_type": "stream",
          "name": "stdout",
          "text": [
            "[2, 4, 6, 8, 10]\n"
          ]
        }
      ]
    },
    {
      "cell_type": "code",
      "source": [
        "#Q3\n",
        "from functools import reduce\n",
        "\n",
        "temp=['appu','nirmal','ammu','sudheer']\n",
        "\n",
        "def strt(x):\n",
        "  return x.startswith('a')\n",
        "\n",
        "res=list(filter(strt,temp))\n",
        "res"
      ],
      "metadata": {
        "colab": {
          "base_uri": "https://localhost:8080/"
        },
        "id": "oF4u6dInDeBu",
        "outputId": "07de2ff0-13fc-42c4-f4a2-cc9ac3bc23ec"
      },
      "execution_count": 75,
      "outputs": [
        {
          "output_type": "execute_result",
          "data": {
            "text/plain": [
              "['appu', 'ammu']"
            ]
          },
          "metadata": {},
          "execution_count": 75
        }
      ]
    },
    {
      "cell_type": "code",
      "source": [
        "#Q4\n",
        "def is_prime(n):\n",
        "    if n <= 1:\n",
        "        return False\n",
        "    if n <= 3:\n",
        "        return True\n",
        "    if n % 2 == 0 or n % 3 == 0:\n",
        "        return False\n",
        "\n",
        "    i = 5\n",
        "    while i * i <= n:\n",
        "        if n % i == 0 or n % (i + 2) == 0:\n",
        "            return False\n",
        "        i += 6\n",
        "\n",
        "    return True\n",
        "\n",
        "temp=[i for i in range(1,20)]\n",
        "res=list(filter(is_prime,temp))\n",
        "res"
      ],
      "metadata": {
        "colab": {
          "base_uri": "https://localhost:8080/"
        },
        "id": "sVlLNOeqEozs",
        "outputId": "aa62c9ce-7d5c-47e9-b5ac-9c10bb85787e"
      },
      "execution_count": 78,
      "outputs": [
        {
          "output_type": "execute_result",
          "data": {
            "text/plain": [
              "[2, 3, 5, 7, 11, 13, 17, 19]"
            ]
          },
          "metadata": {},
          "execution_count": 78
        }
      ]
    },
    {
      "cell_type": "code",
      "source": [
        "#Q5\n",
        "temp=[None,1,2,3,None]\n",
        "\n",
        "def rem(x):\n",
        "  return x!=None\n",
        "\n",
        "res=list(filter(rem,temp))\n",
        "res"
      ],
      "metadata": {
        "colab": {
          "base_uri": "https://localhost:8080/"
        },
        "id": "eBHRa4mYHX2F",
        "outputId": "00182538-4c64-4b6a-de0b-fb918135e187"
      },
      "execution_count": 81,
      "outputs": [
        {
          "output_type": "execute_result",
          "data": {
            "text/plain": [
              "[1, 2, 3]"
            ]
          },
          "metadata": {},
          "execution_count": 81
        }
      ]
    },
    {
      "cell_type": "code",
      "source": [
        "#Q6\n",
        "temp=['fsfse','apples','kundi','dog','elephant']\n",
        "\n",
        "def rem(x):\n",
        "  return len(x)>5\n",
        "\n",
        "\n",
        "res=list(filter(rem,temp))\n",
        "res"
      ],
      "metadata": {
        "colab": {
          "base_uri": "https://localhost:8080/"
        },
        "id": "1OwGvChZHs9M",
        "outputId": "7d9a79b4-b704-4867-8e4f-d5247c48e5e6"
      },
      "execution_count": 83,
      "outputs": [
        {
          "output_type": "execute_result",
          "data": {
            "text/plain": [
              "['apples', 'elephant']"
            ]
          },
          "metadata": {},
          "execution_count": 83
        }
      ]
    },
    {
      "cell_type": "code",
      "source": [
        "#Q7\n",
        "temp=[122,3,32,5345]\n",
        "\n",
        "def rem(x):\n",
        "  return x>1000\n",
        "\n",
        "res=list(filter(rem,temp))\n",
        "res"
      ],
      "metadata": {
        "colab": {
          "base_uri": "https://localhost:8080/"
        },
        "id": "w44xcNVlIrZF",
        "outputId": "e5117da6-2ff5-4325-b6f7-7239a299b300"
      },
      "execution_count": 84,
      "outputs": [
        {
          "output_type": "execute_result",
          "data": {
            "text/plain": [
              "[5345]"
            ]
          },
          "metadata": {},
          "execution_count": 84
        }
      ]
    },
    {
      "cell_type": "markdown",
      "source": [
        "###Basics of functions\n"
      ],
      "metadata": {
        "id": "ZqswSZit8wve"
      }
    },
    {
      "cell_type": "code",
      "source": [
        "#Q1\n",
        "'''\n",
        "A function is a block of code that helps w reuseability that performs a given task.\n",
        "'''"
      ],
      "metadata": {
        "colab": {
          "base_uri": "https://localhost:8080/",
          "height": 35
        },
        "id": "-9lrei-jMhG8",
        "outputId": "772f55c3-f4fb-4ba5-dd8a-11f57e51a74e"
      },
      "execution_count": 1,
      "outputs": [
        {
          "output_type": "execute_result",
          "data": {
            "text/plain": [
              "'\\nA function is a block of code that helps w reuseability that performs a given task.\\n'"
            ],
            "application/vnd.google.colaboratory.intrinsic+json": {
              "type": "string"
            }
          },
          "metadata": {},
          "execution_count": 1
        }
      ]
    },
    {
      "cell_type": "code",
      "source": [
        "#Q2\n",
        "def prod(x):\n",
        "  return x*x\n",
        "\n",
        "prod(6)\n",
        "'''\n",
        "In the above code  using a function called prod ive squared the input number\n",
        "'''"
      ],
      "metadata": {
        "colab": {
          "base_uri": "https://localhost:8080/",
          "height": 35
        },
        "id": "Btq90xC19K5a",
        "outputId": "3c2c1670-0011-4555-b57a-249d02422859"
      },
      "execution_count": 3,
      "outputs": [
        {
          "output_type": "execute_result",
          "data": {
            "text/plain": [
              "'\\nIn the above code  using a function called prod ive squared the input number\\n'"
            ],
            "application/vnd.google.colaboratory.intrinsic+json": {
              "type": "string"
            }
          },
          "metadata": {},
          "execution_count": 3
        }
      ]
    },
    {
      "cell_type": "code",
      "source": [
        "#Q3\n",
        "def prod(x):      #This would be the definition of the function ,where we define what it must do\n",
        "  return x*x\n",
        "\n",
        "prod(6)           #This would  be the calling of the function ,where we  call the function to carry out the set task for the provided value '6'"
      ],
      "metadata": {
        "colab": {
          "base_uri": "https://localhost:8080/"
        },
        "id": "6E5mppkw9Xsh",
        "outputId": "f010e534-89d4-42da-c6ea-af855ca1f6bc"
      },
      "execution_count": 4,
      "outputs": [
        {
          "output_type": "execute_result",
          "data": {
            "text/plain": [
              "36"
            ]
          },
          "metadata": {},
          "execution_count": 4
        }
      ]
    },
    {
      "cell_type": "code",
      "source": [
        "#Q4\n",
        "def Sum(x,y):\n",
        "  return(x+y)\n",
        "\n",
        "Sum(1,2)"
      ],
      "metadata": {
        "colab": {
          "base_uri": "https://localhost:8080/"
        },
        "id": "0NSmhXaA9x5K",
        "outputId": "3b4b6ef5-fb61-4a07-db5d-62463a254332"
      },
      "execution_count": 5,
      "outputs": [
        {
          "output_type": "execute_result",
          "data": {
            "text/plain": [
              "3"
            ]
          },
          "metadata": {},
          "execution_count": 5
        }
      ]
    },
    {
      "cell_type": "code",
      "source": [
        "#Q5\n",
        "'''\n",
        "The function signature provides us with the data type that is being expected to the function as well as the output data type too\n",
        "'''"
      ],
      "metadata": {
        "colab": {
          "base_uri": "https://localhost:8080/",
          "height": 35
        },
        "id": "3Z6IJieb99Ui",
        "outputId": "1df6fc95-5161-4e78-895b-9c6090828fe8"
      },
      "execution_count": 6,
      "outputs": [
        {
          "output_type": "execute_result",
          "data": {
            "text/plain": [
              "'\\nThe function signature provides us with the data type that is being expected to the function as well as the output data type too\\n'"
            ],
            "application/vnd.google.colaboratory.intrinsic+json": {
              "type": "string"
            }
          },
          "metadata": {},
          "execution_count": 6
        }
      ]
    },
    {
      "cell_type": "code",
      "source": [
        "#Q6\n",
        "def prod(x,y):\n",
        "  return x*y\n",
        "\n",
        "prod(42,10)"
      ],
      "metadata": {
        "colab": {
          "base_uri": "https://localhost:8080/"
        },
        "id": "Ax1VmX1r-k3B",
        "outputId": "57f81cd2-925a-471e-d556-cc309d8dd466"
      },
      "execution_count": 7,
      "outputs": [
        {
          "output_type": "execute_result",
          "data": {
            "text/plain": [
              "420"
            ]
          },
          "metadata": {},
          "execution_count": 7
        }
      ]
    },
    {
      "cell_type": "markdown",
      "source": [
        "###Recursion"
      ],
      "metadata": {
        "id": "L6bLpmnN-vEj"
      }
    },
    {
      "cell_type": "code",
      "source": [
        "#Q1\n"
      ],
      "metadata": {
        "id": "NkRbtq5B-rFa"
      },
      "execution_count": 8,
      "outputs": []
    },
    {
      "cell_type": "code",
      "source": [
        "#Q2\n",
        "def fact(x):\n",
        "  if x==0 or x==1:\n",
        "    return 1\n",
        "  return x*fact(x-1)\n",
        "\n",
        "\n",
        "fact(3)"
      ],
      "metadata": {
        "colab": {
          "base_uri": "https://localhost:8080/"
        },
        "id": "h3xfJfsY-0hy",
        "outputId": "20b75bc1-8d82-4a2a-9520-bf51d7b4b847"
      },
      "execution_count": 11,
      "outputs": [
        {
          "output_type": "execute_result",
          "data": {
            "text/plain": [
              "6"
            ]
          },
          "metadata": {},
          "execution_count": 11
        }
      ]
    },
    {
      "cell_type": "code",
      "source": [
        "#Q3\n",
        "def fib(x):\n",
        "  if x==0:\n",
        "    return 0\n",
        "  elif x==1:\n",
        "    return 1\n",
        "  return fib(x-1)+fib(x-2)\n",
        "\n",
        "fib(5)"
      ],
      "metadata": {
        "colab": {
          "base_uri": "https://localhost:8080/"
        },
        "id": "sVLUIT_N_iba",
        "outputId": "637f874b-5991-4a73-e576-59033ed57197"
      },
      "execution_count": 14,
      "outputs": [
        {
          "output_type": "execute_result",
          "data": {
            "text/plain": [
              "5"
            ]
          },
          "metadata": {},
          "execution_count": 14
        }
      ]
    },
    {
      "cell_type": "code",
      "source": [
        "#Q4\n",
        "temp=[i for i in range(1,5)]\n",
        "print(temp)\n",
        "def Sum(x):\n",
        "  if len(x)==0:\n",
        "    return 0\n",
        "  else:\n",
        "    return x[0]+Sum(x[1:])\n",
        "\n",
        "Sum(temp)\n",
        "\n"
      ],
      "metadata": {
        "colab": {
          "base_uri": "https://localhost:8080/"
        },
        "id": "tCmhTRewAIMR",
        "outputId": "e9238116-a4cf-434f-c70d-16ddb160d4c1"
      },
      "execution_count": 17,
      "outputs": [
        {
          "output_type": "stream",
          "name": "stdout",
          "text": [
            "[1, 2, 3, 4]\n"
          ]
        },
        {
          "output_type": "execute_result",
          "data": {
            "text/plain": [
              "10"
            ]
          },
          "metadata": {},
          "execution_count": 17
        }
      ]
    },
    {
      "cell_type": "code",
      "source": [
        "#Q5\n",
        "'''\n",
        "To prevent a stack over flow error we can set a recurstion depth\n",
        "'''"
      ],
      "metadata": {
        "colab": {
          "base_uri": "https://localhost:8080/",
          "height": 35
        },
        "id": "RF5UtbBbAfja",
        "outputId": "d6d36b4b-6280-41a7-a081-f4c231f68c4b"
      },
      "execution_count": 18,
      "outputs": [
        {
          "output_type": "execute_result",
          "data": {
            "text/plain": [
              "'\\nTo prevent a stack over flow error we can set a recurstion depth\\n'"
            ],
            "application/vnd.google.colaboratory.intrinsic+json": {
              "type": "string"
            }
          },
          "metadata": {},
          "execution_count": 18
        }
      ]
    },
    {
      "cell_type": "code",
      "source": [
        "#Q6\n",
        "n1,n2=10,45\n",
        "def gcd(a, b):\n",
        "    if b == 0:\n",
        "        return a\n",
        "    else:\n",
        "        return gcd(b, a % b)\n",
        "\n",
        "gcd(n1,n2)"
      ],
      "metadata": {
        "colab": {
          "base_uri": "https://localhost:8080/"
        },
        "id": "-Sl9TRVDBlWe",
        "outputId": "5163a1a0-9362-46a8-bb43-f4e96174fadf"
      },
      "execution_count": 20,
      "outputs": [
        {
          "output_type": "execute_result",
          "data": {
            "text/plain": [
              "5"
            ]
          },
          "metadata": {},
          "execution_count": 20
        }
      ]
    },
    {
      "cell_type": "code",
      "source": [
        "#Q7\n",
        "def rev(s):\n",
        "    if len(s) <= 1:\n",
        "        return s\n",
        "    else:\n",
        "        # Recursive case: Reverse the substring excluding the first character and append the first character\n",
        "        return rev(s[1:]) + s[0]\n",
        "\n",
        "rev('apples')\n",
        "\n"
      ],
      "metadata": {
        "colab": {
          "base_uri": "https://localhost:8080/",
          "height": 35
        },
        "id": "3FMebgTbCC4C",
        "outputId": "be998161-ad66-40a2-c778-8c6efb112636"
      },
      "execution_count": 21,
      "outputs": [
        {
          "output_type": "execute_result",
          "data": {
            "text/plain": [
              "'selppa'"
            ],
            "application/vnd.google.colaboratory.intrinsic+json": {
              "type": "string"
            }
          },
          "metadata": {},
          "execution_count": 21
        }
      ]
    },
    {
      "cell_type": "code",
      "source": [
        "#Q8\n",
        "x=2\n",
        "n=3\n",
        "def prod(x,n):\n",
        "  if x==0 :\n",
        "    return 0\n",
        "  elif n==0:\n",
        "    return 1\n",
        "  else:\n",
        "\n",
        "    return x*prod(x,n-1)\n",
        "\n",
        "prod(x,n)\n",
        ""
      ],
      "metadata": {
        "colab": {
          "base_uri": "https://localhost:8080/"
        },
        "id": "e8fEt72LCnpT",
        "outputId": "3a8c3792-d039-4aa7-d23b-ee893d4895cf"
      },
      "execution_count": 22,
      "outputs": [
        {
          "output_type": "execute_result",
          "data": {
            "text/plain": [
              "8"
            ]
          },
          "metadata": {},
          "execution_count": 22
        }
      ]
    },
    {
      "cell_type": "code",
      "source": [
        "#Q10\n",
        "def pal(s):\n",
        "    # Base case: If the string has 0 or 1 character, it's a palindrome\n",
        "    if len(s) <= 1:\n",
        "        return True\n",
        "    else:\n",
        "        # Compare the first and last characters and recursively check the inner substring\n",
        "        if s[0] == s[-1]:\n",
        "            return pal(s[1:-1])\n",
        "        else:\n",
        "            return False\n",
        "\n",
        "\n",
        "pal(\"apples\")"
      ],
      "metadata": {
        "colab": {
          "base_uri": "https://localhost:8080/"
        },
        "id": "h8G1FVB3DZri",
        "outputId": "84d36ae0-ef2b-4f73-b151-dc99584461fd"
      },
      "execution_count": 23,
      "outputs": [
        {
          "output_type": "execute_result",
          "data": {
            "text/plain": [
              "False"
            ]
          },
          "metadata": {},
          "execution_count": 23
        }
      ]
    },
    {
      "cell_type": "markdown",
      "source": [
        "###Function Parameters and Arguments"
      ],
      "metadata": {
        "id": "aN3N_JsVJSrG"
      }
    },
    {
      "cell_type": "code",
      "source": [
        "#Q1\n",
        "'''\n",
        "A formal parameters purpose is that they act as placeholders for the values that the function expects to receive when it is called.They also act as default values for the function\n",
        "Actual Arguments are the actual values that are provided to the  function during the fucntion call.\n",
        "'''"
      ],
      "metadata": {
        "colab": {
          "base_uri": "https://localhost:8080/",
          "height": 52
        },
        "id": "CtSOtVFsDwJ5",
        "outputId": "5494704f-5602-43fc-d53c-3a458bec1d96"
      },
      "execution_count": 24,
      "outputs": [
        {
          "output_type": "execute_result",
          "data": {
            "text/plain": [
              "'\\nA formal parameters purpose is that they act as placeholders for the values that the function expects to receive when it is called.They also act as default values for the function\\nActual Arguments are the actual values that are provided to the  function during the fucntion call.\\n'"
            ],
            "application/vnd.google.colaboratory.intrinsic+json": {
              "type": "string"
            }
          },
          "metadata": {},
          "execution_count": 24
        }
      ]
    },
    {
      "cell_type": "code",
      "source": [
        "#Q2\n",
        "def welc(name, greeting=\"Get out\"):\n",
        "    print(f\"{greeting}, {name}!\")\n",
        "\n",
        "\n",
        "welc('loser')\n"
      ],
      "metadata": {
        "colab": {
          "base_uri": "https://localhost:8080/"
        },
        "id": "m4Ip1wTJK2Pw",
        "outputId": "bfc43e97-ecc2-46d9-9ad7-26b272b9588d"
      },
      "execution_count": 25,
      "outputs": [
        {
          "output_type": "stream",
          "name": "stdout",
          "text": [
            "Get out, loser!\n"
          ]
        }
      ]
    },
    {
      "cell_type": "code",
      "source": [
        "#Q3\n",
        "def greet(name, greeting=\"Hello\", punctuation=\".\"):\n",
        "    message = f\"{greeting}, {name}{punctuation}\"\n",
        "    return message\n",
        "\n",
        "# Using keyword arguments to call the function\n",
        "message1 = greet(name=\"Loudesh\", greeting=\"Hi\", punctuation=\"!\")\n",
        "message2 = greet(greeting=\"Hey\", name=\"raju\")\n",
        "\n",
        "print(message1)\n",
        "print(message2)\n"
      ],
      "metadata": {
        "colab": {
          "base_uri": "https://localhost:8080/"
        },
        "id": "yYEXJ4ouLAA9",
        "outputId": "db5b3044-4900-4d2a-edb2-de07290f6c68"
      },
      "execution_count": 26,
      "outputs": [
        {
          "output_type": "stream",
          "name": "stdout",
          "text": [
            "Hi, Loudesh!\n",
            "Hey, raju.\n"
          ]
        }
      ]
    },
    {
      "cell_type": "code",
      "source": [
        "#Q4\n",
        "def Sum(*x):  # Inside the function, x becomes a tuple containing all the arguments passed\n",
        "  total=0\n",
        "  for n in x:\n",
        "    total+=n\n",
        "  return total\n",
        "\n",
        "Sum(1,2,3,4,5,5,6)"
      ],
      "metadata": {
        "colab": {
          "base_uri": "https://localhost:8080/"
        },
        "id": "uQlNl30GLeVR",
        "outputId": "89dcf826-6f2d-449c-cee6-7eb23af989d1"
      },
      "execution_count": 27,
      "outputs": [
        {
          "output_type": "execute_result",
          "data": {
            "text/plain": [
              "26"
            ]
          },
          "metadata": {},
          "execution_count": 27
        }
      ]
    },
    {
      "cell_type": "code",
      "source": [
        "#Q5\n",
        "'''\n",
        "*args lets us take in a variable number of positional arguments\n",
        "while\n",
        "**kwargs lets us take in a variable number of  keyword arguments\n",
        "'''"
      ],
      "metadata": {
        "colab": {
          "base_uri": "https://localhost:8080/",
          "height": 35
        },
        "id": "xNBMVIAJL3W5",
        "outputId": "859be355-4e93-4fe9-f1b7-43782f4309f9"
      },
      "execution_count": 28,
      "outputs": [
        {
          "output_type": "execute_result",
          "data": {
            "text/plain": [
              "'\\n*args lets us take in a variable number of positional arguments\\nwhile\\n**kwargs lets us take in a variable number of  keyword arguments \\n'"
            ],
            "application/vnd.google.colaboratory.intrinsic+json": {
              "type": "string"
            }
          },
          "metadata": {},
          "execution_count": 28
        }
      ]
    },
    {
      "cell_type": "markdown",
      "source": [
        "###Return Values and Scoping"
      ],
      "metadata": {
        "id": "03ogg0l8jbvH"
      }
    },
    {
      "cell_type": "code",
      "source": [
        "#Q1\n",
        "'''\n",
        "In python the return value is used to provide the output of a given function code block\n",
        "ex:\n",
        "'''\n",
        "def Sum(*x):  # Inside the function, x becomes a tuple containing all the arguments passed\n",
        "  total=0\n",
        "  for n in x:\n",
        "    total+=n\n",
        "  return total\n",
        "\n",
        "Sum(1,2,3,4,5,5,6)\n",
        "\n",
        "\n"
      ],
      "metadata": {
        "id": "aIs3g-b1Muyx"
      },
      "execution_count": null,
      "outputs": []
    },
    {
      "cell_type": "code",
      "source": [
        "#Q2\n",
        "'''\n",
        "A Global variable is a variable that is  accessible from anywhere within the script or module\n",
        "\n",
        "\n",
        "A local variable is a variable defined within a specific function or block of code and it is only accessible and visible within the function or block where it is defined.\n",
        "\n",
        "'''"
      ],
      "metadata": {
        "colab": {
          "base_uri": "https://localhost:8080/",
          "height": 52
        },
        "outputId": "0a413588-1ec7-450a-dd06-3a082d6eae63",
        "id": "qlhTIY3Wjq9Y"
      },
      "execution_count": 1,
      "outputs": [
        {
          "output_type": "execute_result",
          "data": {
            "text/plain": [
              "'\\nA Global variable is a variable that is  accessible from anywhere within the script or module\\n\\n\\nA local variable is a variable defined within a specific function or block of code and it is only accessible and visible within the function or block where it is defined.\\n\\n'"
            ],
            "application/vnd.google.colaboratory.intrinsic+json": {
              "type": "string"
            }
          },
          "metadata": {},
          "execution_count": 1
        }
      ]
    },
    {
      "cell_type": "code",
      "source": [
        "#Q3\n",
        "y=55\n",
        "global y\n",
        "def sum():\n",
        "  return y*2\n",
        "\n",
        "sum()"
      ],
      "metadata": {
        "colab": {
          "base_uri": "https://localhost:8080/"
        },
        "id": "Dqzk0kSRkn8m",
        "outputId": "2c8803d1-5b4d-42fd-e44b-cdee3356dcb2"
      },
      "execution_count": 6,
      "outputs": [
        {
          "output_type": "execute_result",
          "data": {
            "text/plain": [
              "110"
            ]
          },
          "metadata": {},
          "execution_count": 6
        }
      ]
    },
    {
      "cell_type": "code",
      "source": [
        "#Q4\n",
        "x = 10  # This is a global variable\n",
        "\n",
        "def my_function():\n",
        "    global x\n",
        "    x += 5\n",
        "\n",
        "x\n"
      ],
      "metadata": {
        "colab": {
          "base_uri": "https://localhost:8080/"
        },
        "id": "fwZ9NRb0kzpz",
        "outputId": "5c805805-d581-43b0-b441-a9285d70354f"
      },
      "execution_count": 10,
      "outputs": [
        {
          "output_type": "execute_result",
          "data": {
            "text/plain": [
              "10"
            ]
          },
          "metadata": {},
          "execution_count": 10
        }
      ]
    },
    {
      "cell_type": "code",
      "source": [
        "#Q5\n",
        "'''\n",
        "To access variable that is defined outside the function we can call it by making it a global variable.\n",
        "'''"
      ],
      "metadata": {
        "colab": {
          "base_uri": "https://localhost:8080/",
          "height": 35
        },
        "id": "wKVxNo7YlJ96",
        "outputId": "cf93cf37-54bc-46a9-c4f8-85611c503c3d"
      },
      "execution_count": 11,
      "outputs": [
        {
          "output_type": "execute_result",
          "data": {
            "text/plain": [
              "'\\nTo access variable that is defined outside the function we can call it by making it a global variable.\\n'"
            ],
            "application/vnd.google.colaboratory.intrinsic+json": {
              "type": "string"
            }
          },
          "metadata": {},
          "execution_count": 11
        }
      ]
    },
    {
      "cell_type": "markdown",
      "source": [
        "###Lambda Functions and Higher-Order Functions:\n"
      ],
      "metadata": {
        "id": "9Y7NHtUKUdkS"
      }
    },
    {
      "cell_type": "code",
      "source": [
        "#Q1\n",
        "'''\n",
        "They are typically used in situations where you need a simple, short function for a short period of time and don't want to define a full function using the def keyword.\n",
        "'''"
      ],
      "metadata": {
        "colab": {
          "base_uri": "https://localhost:8080/",
          "height": 35
        },
        "id": "0xK0vaskl3gm",
        "outputId": "b6e57240-f4a9-4785-c389-f1ea77883a53"
      },
      "execution_count": 1,
      "outputs": [
        {
          "output_type": "execute_result",
          "data": {
            "text/plain": [
              "\"\\nThey are typically used in situations where you need a simple, short function for a short period of time and don't want to define a full function using the def keyword.\\n\""
            ],
            "application/vnd.google.colaboratory.intrinsic+json": {
              "type": "string"
            }
          },
          "metadata": {},
          "execution_count": 1
        }
      ]
    },
    {
      "cell_type": "code",
      "source": [
        "#Q2\n",
        "data = [(1, 5), (3, 2), (2, 8), (4, 1)]\n",
        "\n",
        "res = sorted(data, key=lambda x: x[1])\n",
        "\n",
        "res"
      ],
      "metadata": {
        "colab": {
          "base_uri": "https://localhost:8080/"
        },
        "id": "6-Z7tA8jVR1m",
        "outputId": "2f3e87c7-1695-4126-f1f4-ea075512c2e0"
      },
      "execution_count": 2,
      "outputs": [
        {
          "output_type": "execute_result",
          "data": {
            "text/plain": [
              "[(4, 1), (3, 2), (1, 5), (2, 8)]"
            ]
          },
          "metadata": {},
          "execution_count": 2
        }
      ]
    },
    {
      "cell_type": "code",
      "source": [
        "#Q3\n",
        "\"\"\"\n",
        "a higher-order function is a function that can take one or more functions as arguments and/or return a function as its result.\n",
        "\"\"\"\n",
        "def ap_op(op, x, y):\n",
        "    return op(x, y)\n",
        "\n",
        "def add(x, y):\n",
        "    return x + y\n",
        "\n",
        "res=ap_op(add, 5, 3)\n",
        "res\n",
        "\n"
      ],
      "metadata": {
        "colab": {
          "base_uri": "https://localhost:8080/"
        },
        "id": "_D0ngmP5WFMJ",
        "outputId": "d0bdcd04-31fa-4b0f-aa24-222dce993c05"
      },
      "execution_count": 3,
      "outputs": [
        {
          "output_type": "execute_result",
          "data": {
            "text/plain": [
              "8"
            ]
          },
          "metadata": {},
          "execution_count": 3
        }
      ]
    },
    {
      "cell_type": "code",
      "source": [
        "#Q4\n",
        "def ap(temp,func):\n",
        "  res=[]\n",
        "  for num in temp:\n",
        "    res.append(mult(num))\n",
        "\n",
        "\n",
        "  return res\n",
        "\n",
        "\n",
        "def mult(x):\n",
        "  return x*2\n",
        "\n",
        "temp=[i for i in range(1,4)]\n",
        "res=ap(temp,mult)\n",
        "res"
      ],
      "metadata": {
        "colab": {
          "base_uri": "https://localhost:8080/"
        },
        "id": "_MAigbcqYObR",
        "outputId": "3ea49d9d-2c70-48d4-a803-f5cb9f8640de"
      },
      "execution_count": 15,
      "outputs": [
        {
          "output_type": "execute_result",
          "data": {
            "text/plain": [
              "[2, 4, 6]"
            ]
          },
          "metadata": {},
          "execution_count": 15
        }
      ]
    },
    {
      "cell_type": "markdown",
      "source": [
        "###Built in Functions"
      ],
      "metadata": {
        "id": "uN8ktk9gxkqb"
      }
    },
    {
      "cell_type": "code",
      "source": [
        "#Q1\n",
        "'''\n",
        "len()-Returns the number of elements  in a given collection\n",
        "min()-Finds the minimum value from a collection of values\n",
        "max()-Finds the maximum value from a colleciton of values\n",
        "'''"
      ],
      "metadata": {
        "colab": {
          "base_uri": "https://localhost:8080/",
          "height": 35
        },
        "id": "0NgxBhfVxd8V",
        "outputId": "b4ac906f-c1fd-4555-9943-8e2a94247c13"
      },
      "execution_count": 16,
      "outputs": [
        {
          "output_type": "execute_result",
          "data": {
            "text/plain": [
              "'\\nlen()-Returns the number of elements  in a given collection\\nmin()-Finds the minimum value from a collection of values\\nmax()-Finds the maximum value from a colleciton of values\\n'"
            ],
            "application/vnd.google.colaboratory.intrinsic+json": {
              "type": "string"
            }
          },
          "metadata": {},
          "execution_count": 16
        }
      ]
    },
    {
      "cell_type": "code",
      "source": [
        "#Q2\n",
        "def add(x):\n",
        "  return x+2\n",
        "temp=[1,2,3]\n",
        "res=list(map(add,temp))\n"
      ],
      "metadata": {
        "id": "_bCG29xJyIze"
      },
      "execution_count": 22,
      "outputs": []
    },
    {
      "cell_type": "code",
      "source": [
        "#Q3\n",
        "'''\n",
        "Filter is used to apply a conditional to an iterable\n",
        "'''\n",
        "\n",
        "def ck(x):\n",
        "  return x>2\n",
        "\n",
        "temp=[1,2,3,4]\n",
        "res=list(filter(ck,temp))\n",
        "res"
      ],
      "metadata": {
        "colab": {
          "base_uri": "https://localhost:8080/"
        },
        "id": "njoqa_j0yT7R",
        "outputId": "8deaeb47-ba26-4e6a-ebc2-6fa4ae7a1f50"
      },
      "execution_count": 23,
      "outputs": [
        {
          "output_type": "execute_result",
          "data": {
            "text/plain": [
              "[3, 4]"
            ]
          },
          "metadata": {},
          "execution_count": 23
        }
      ]
    },
    {
      "cell_type": "code",
      "source": [
        "#Q4\n",
        "from functools import reduce\n",
        "def prod(x,y):\n",
        "  return x*y\n",
        "\n",
        "temp=[1,2,3,4,5,56]\n",
        "res=reduce(prod,temp)\n",
        "res"
      ],
      "metadata": {
        "colab": {
          "base_uri": "https://localhost:8080/"
        },
        "id": "ZkdbADusyzxJ",
        "outputId": "8d7a7793-c9aa-40ee-f2c1-18bede88a6cb"
      },
      "execution_count": 25,
      "outputs": [
        {
          "output_type": "execute_result",
          "data": {
            "text/plain": [
              "6720"
            ]
          },
          "metadata": {},
          "execution_count": 25
        }
      ]
    },
    {
      "cell_type": "markdown",
      "source": [
        "###Best Practices"
      ],
      "metadata": {
        "id": "Uf5kqbIhzXRZ"
      }
    },
    {
      "cell_type": "code",
      "source": [
        "#Q1\n",
        "'''\n",
        "Docstrings in Python are used to provide documentation and descriptions for\n",
        "functions, classes, and modules. They serve as a form of inline documentation, allowing developers to describe the purpose, usage, and other important information about the code\n",
        "'''"
      ],
      "metadata": {
        "id": "SIzd6q6v0M2D"
      },
      "execution_count": null,
      "outputs": []
    },
    {
      "cell_type": "code",
      "source": [
        "#Q2\n",
        "'''\n",
        "Some of the best practices are\n",
        "1.Use Descriptive and Readable Names\n",
        "2.Be consistent\n",
        "3.Use lowercase letters for variables and functions\n",
        "4.Instead of spaces use'_'\n",
        "5.Constants in Uppercase\n",
        "\n",
        "\n",
        "'''"
      ],
      "metadata": {
        "colab": {
          "base_uri": "https://localhost:8080/",
          "height": 35
        },
        "id": "en0OYTCwzHMZ",
        "outputId": "647a4e74-1874-4c7e-8fa1-bae8c30f58a5"
      },
      "execution_count": 26,
      "outputs": [
        {
          "output_type": "execute_result",
          "data": {
            "text/plain": [
              "\"\\nSome of the best practices are\\n1.Use Descriptive and Readable Names\\n2.Be consistent\\n3.Use lowercase letters for variables and functions\\n4.Instead of spaces use'_'\\n5.Constants in Uppercase\\n\\n\\n\""
            ],
            "application/vnd.google.colaboratory.intrinsic+json": {
              "type": "string"
            }
          },
          "metadata": {},
          "execution_count": 26
        }
      ]
    },
    {
      "cell_type": "code",
      "source": [],
      "metadata": {
        "id": "t4iktLiS0MaJ"
      },
      "execution_count": null,
      "outputs": []
    }
  ]
}