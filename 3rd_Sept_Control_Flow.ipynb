{
  "nbformat": 4,
  "nbformat_minor": 0,
  "metadata": {
    "colab": {
      "provenance": []
    },
    "kernelspec": {
      "name": "python3",
      "display_name": "Python 3"
    },
    "language_info": {
      "name": "python"
    }
  },
  "cells": [
    {
      "cell_type": "markdown",
      "source": [
        "###Basic if else\n"
      ],
      "metadata": {
        "id": "qBGTWB8b9Phg"
      }
    },
    {
      "cell_type": "code",
      "execution_count": null,
      "metadata": {
        "colab": {
          "base_uri": "https://localhost:8080/"
        },
        "id": "MZqFoQCu89ML",
        "outputId": "c9169fc8-c1b0-4cc5-9cde-c88d17577ed9"
      },
      "outputs": [
        {
          "output_type": "stream",
          "name": "stdout",
          "text": [
            "+ve\n"
          ]
        }
      ],
      "source": [
        "#Q1\n",
        "n=5\n",
        "if n>=0:\n",
        "  print('+ve')\n",
        "else:\n",
        "  print('-ve')"
      ]
    },
    {
      "cell_type": "code",
      "source": [
        "#Q2\n",
        "n=18\n",
        "if n>=18:\n",
        "  print('Can vote')\n",
        "else:\n",
        "  print('Cannot vote')"
      ],
      "metadata": {
        "colab": {
          "base_uri": "https://localhost:8080/"
        },
        "id": "afl3gRsR9MYa",
        "outputId": "fd87f454-b63b-4d23-ccd4-80c2484ce496"
      },
      "execution_count": null,
      "outputs": [
        {
          "output_type": "stream",
          "name": "stdout",
          "text": [
            "Can vote\n"
          ]
        }
      ]
    },
    {
      "cell_type": "code",
      "source": [
        "#Q3\n",
        "n1,n2=20,30\n",
        "if n1>n2:\n",
        "  print(f\"{n1} is bigger\")\n",
        "else:\n",
        "  print(f\"{n2} is bigger\")"
      ],
      "metadata": {
        "colab": {
          "base_uri": "https://localhost:8080/"
        },
        "id": "tRYP92ia9Sz4",
        "outputId": "68eade80-9ba5-481b-9bf5-54650fb50615"
      },
      "execution_count": null,
      "outputs": [
        {
          "output_type": "stream",
          "name": "stdout",
          "text": [
            "30 is bigger\n"
          ]
        }
      ]
    },
    {
      "cell_type": "code",
      "source": [
        "#Q4\n",
        "year=2025\n",
        "if (year % 4 == 0 and year % 100 != 0) or (year % 400 == 0):\n",
        "  print(\"Leap year\")\n",
        "else:\n",
        "  print(\"Not\")"
      ],
      "metadata": {
        "colab": {
          "base_uri": "https://localhost:8080/"
        },
        "id": "n0Gut6Vw9qe4",
        "outputId": "03aee78d-5c18-4166-8205-603f70030fa0"
      },
      "execution_count": null,
      "outputs": [
        {
          "output_type": "stream",
          "name": "stdout",
          "text": [
            "Not\n"
          ]
        }
      ]
    },
    {
      "cell_type": "code",
      "source": [
        "#Q5\n",
        "vow='aeiou'\n",
        "char='t'\n",
        "if char in vow:\n",
        "  print(\"vowel\")\n",
        "else:\n",
        "  print(\"Not\")"
      ],
      "metadata": {
        "colab": {
          "base_uri": "https://localhost:8080/"
        },
        "id": "LAFuqmth9-74",
        "outputId": "0ddc53f1-3fc9-4932-fb36-1700c166b04c"
      },
      "execution_count": null,
      "outputs": [
        {
          "output_type": "stream",
          "name": "stdout",
          "text": [
            "Not\n"
          ]
        }
      ]
    },
    {
      "cell_type": "code",
      "source": [
        "#Q6\n",
        "num=66\n",
        "if num%2==0:\n",
        "  print(\"Even\")\n",
        "else:\n",
        "  print(\"Odd\")"
      ],
      "metadata": {
        "colab": {
          "base_uri": "https://localhost:8080/"
        },
        "id": "seODvxY7-NwI",
        "outputId": "0510c1ac-61f6-497e-d222-7a4fedb92807"
      },
      "execution_count": null,
      "outputs": [
        {
          "output_type": "stream",
          "name": "stdout",
          "text": [
            "Even\n"
          ]
        }
      ]
    },
    {
      "cell_type": "code",
      "source": [
        "#Q7\n",
        "num=-99\n",
        "if num<0:\n",
        "  print(num*-1)\n",
        "else:\n",
        "  print(num)"
      ],
      "metadata": {
        "colab": {
          "base_uri": "https://localhost:8080/"
        },
        "id": "kyF6Y6w2-Wv6",
        "outputId": "2b4211ca-118d-4006-91eb-f63596e232fe"
      },
      "execution_count": null,
      "outputs": [
        {
          "output_type": "stream",
          "name": "stdout",
          "text": [
            "99\n"
          ]
        }
      ]
    },
    {
      "cell_type": "code",
      "source": [
        "#Q8\n",
        "n1,n2,n3=9,15,2\n",
        "if n1>n2:\n",
        "\n",
        "  if n1>n3:\n",
        "    print(n1)\n",
        "elif n2>n1:\n",
        "  if n2>n3:\n",
        "    print(n2)\n",
        "  else:\n",
        "    print(n3)\n",
        "else:\n",
        "  print(n3)"
      ],
      "metadata": {
        "colab": {
          "base_uri": "https://localhost:8080/"
        },
        "id": "5TbtIUu6-nz4",
        "outputId": "c5eb441e-54b4-4a33-a86f-aedf59cf34f8"
      },
      "execution_count": null,
      "outputs": [
        {
          "output_type": "stream",
          "name": "stdout",
          "text": [
            "15\n"
          ]
        }
      ]
    },
    {
      "cell_type": "code",
      "source": [
        "#Q9\n",
        "text='nshfbh'\n",
        "if text==text[::-1]:\n",
        "  print(\"palindrome\")\n",
        "else:\n",
        "  print(\"Not\")"
      ],
      "metadata": {
        "colab": {
          "base_uri": "https://localhost:8080/"
        },
        "id": "_RDRPx-b_CPC",
        "outputId": "a5be618f-25e3-4127-a3f9-d82040db15a7"
      },
      "execution_count": null,
      "outputs": [
        {
          "output_type": "stream",
          "name": "stdout",
          "text": [
            "Not\n"
          ]
        }
      ]
    },
    {
      "cell_type": "code",
      "source": [
        "#Q10\n",
        "sc=90\n",
        "if sc>60:\n",
        "  if sc<85:\n",
        "    print(\"B\")\n",
        "  else:\n",
        "    print(\"A\")\n",
        "else:\n",
        "  print(\"F\")"
      ],
      "metadata": {
        "colab": {
          "base_uri": "https://localhost:8080/"
        },
        "id": "XuZWbQeh_y_Y",
        "outputId": "40b5d300-a8db-4507-8110-98ec95fd2756"
      },
      "execution_count": null,
      "outputs": [
        {
          "output_type": "stream",
          "name": "stdout",
          "text": [
            "A\n"
          ]
        }
      ]
    },
    {
      "cell_type": "code",
      "source": [
        "#Q11\n",
        "n1,n2,n3=9,44,2\n",
        "if n1>n2:\n",
        "\n",
        "  if n1>n3:\n",
        "    print(n1)\n",
        "elif n2>n1:\n",
        "  if n2>n3:\n",
        "    print(n2)\n",
        "  else:\n",
        "    print(n3)\n",
        "else:\n",
        "  print(n3)"
      ],
      "metadata": {
        "colab": {
          "base_uri": "https://localhost:8080/"
        },
        "id": "yX3IrRHTAaIi",
        "outputId": "b134ec6d-f46d-4c8e-e6b4-5dae6f0573e5"
      },
      "execution_count": null,
      "outputs": [
        {
          "output_type": "stream",
          "name": "stdout",
          "text": [
            "44\n"
          ]
        }
      ]
    },
    {
      "cell_type": "code",
      "source": [
        "#Q12\n",
        "s1,s2,s3=3,4,5\n",
        "if s1==s2==s3:\n",
        "  print(\"Equilateral\")\n",
        "else:\n",
        "  if s1==s2 or s2==s3 or s1==s3:\n",
        "    print(\"Isosceles\")\n",
        "  else:\n",
        "    print(\"Scalene\")"
      ],
      "metadata": {
        "colab": {
          "base_uri": "https://localhost:8080/"
        },
        "id": "lJJI24WfBA6H",
        "outputId": "c1221b1d-a5ef-42b7-93f9-a354cf6a5a88"
      },
      "execution_count": null,
      "outputs": [
        {
          "output_type": "stream",
          "name": "stdout",
          "text": [
            "Scalene\n"
          ]
        }
      ]
    },
    {
      "cell_type": "code",
      "source": [
        "#Q13\n",
        "year = 1555\n",
        "\n",
        "\n",
        "if (year % 4 == 0 and year % 100 != 0) or (year % 400 == 0):\n",
        "    print(f\"{year} is a leap year.\")\n",
        "\n",
        "    if year % 100 == 0:\n",
        "        print(f\"{year} is also a century year.\")\n",
        "    else:\n",
        "        print(f\"{year} is not a century year.\")\n",
        "else:\n",
        "    print(f\"{year} is not a leap year.\")\n"
      ],
      "metadata": {
        "id": "bmFuEkpFBN-I",
        "colab": {
          "base_uri": "https://localhost:8080/"
        },
        "outputId": "83b97672-92eb-4ea9-9f89-7e96514e3470"
      },
      "execution_count": 2,
      "outputs": [
        {
          "output_type": "stream",
          "name": "stdout",
          "text": [
            "1555 is not a leap year.\n"
          ]
        }
      ]
    },
    {
      "cell_type": "code",
      "execution_count": 5,
      "metadata": {
        "colab": {
          "base_uri": "https://localhost:8080/"
        },
        "outputId": "4c0ab1dc-0031-4aa9-9bc4-ad9a3b3404a2",
        "id": "9jYAOK3nBSm0"
      },
      "outputs": [
        {
          "output_type": "stream",
          "name": "stdout",
          "text": [
            "+ve\n"
          ]
        }
      ],
      "source": [
        "#Q14\n",
        "n=5\n",
        "if n>0:\n",
        "  print('+ve')\n",
        "elif n==0:\n",
        "  print(\"0\")\n",
        "else:\n",
        "  print('-ve')"
      ]
    },
    {
      "cell_type": "code",
      "source": [
        "#Q15\n",
        "n=18\n",
        "if n>13:\n",
        "  if n<19:\n",
        "    print('Can vote')\n",
        "  else:\n",
        "    print('Not a teen')\n",
        "else:\n",
        "  print('Not a teen')"
      ],
      "metadata": {
        "colab": {
          "base_uri": "https://localhost:8080/"
        },
        "id": "NzENnQn3Bh4l",
        "outputId": "941680f6-3e64-4bbc-c96b-f8483da144fe"
      },
      "execution_count": 7,
      "outputs": [
        {
          "output_type": "stream",
          "name": "stdout",
          "text": [
            "Can vote\n"
          ]
        }
      ]
    },
    {
      "cell_type": "code",
      "source": [
        "#Q16\n",
        "n=199\n",
        "if n!=90:\n",
        "  if n>90:\n",
        "    print(\"Obtuse\")\n",
        "  else:\n",
        "    print(\"Acute\")\n",
        "\n",
        "else:\n",
        "  print(\"Right\")\n"
      ],
      "metadata": {
        "colab": {
          "base_uri": "https://localhost:8080/"
        },
        "id": "BQNguFGODznL",
        "outputId": "005e101d-f590-451e-898d-245964261d59"
      },
      "execution_count": 8,
      "outputs": [
        {
          "output_type": "stream",
          "name": "stdout",
          "text": [
            "Obtuse\n"
          ]
        }
      ]
    },
    {
      "cell_type": "code",
      "source": [
        "#Q18\n",
        "n=7\n",
        "if n==1:\n",
        "  print(\"Monday\")\n",
        "elif n==2:\n",
        "  print(\"Tuesday\")\n",
        "elif n==3:\n",
        "  print(\"Wednesday\")\n",
        "elif n==4:\n",
        "  print(\"Thursday\")\n",
        "elif n==5:\n",
        "  print(\"Friday\")\n",
        "elif n==6:\n",
        "  print(\"Saturday\")\n",
        "elif n==7:\n",
        "  print(\"Sunday\")\n",
        "else:\n",
        "  print(\"Invalid number\")"
      ],
      "metadata": {
        "colab": {
          "base_uri": "https://localhost:8080/"
        },
        "id": "utKBeYc3FRrz",
        "outputId": "d797a19b-9890-4011-b313-971c2cad2812"
      },
      "execution_count": 10,
      "outputs": [
        {
          "output_type": "stream",
          "name": "stdout",
          "text": [
            "Sunday\n"
          ]
        }
      ]
    },
    {
      "cell_type": "code",
      "source": [
        "#Q20\n",
        "import math\n",
        "n=17\n",
        "if n<2 or n%2==0:\n",
        "  print(\"False\")\n",
        "else:\n",
        "  sqrt_n = int(math.sqrt(n))\n",
        "  for i in range(3, sqrt_n + 1, 2):\n",
        "        if n % i == 0:\n",
        "\n",
        "          print(False)\n",
        "          break\n",
        "        else:\n",
        "          print(True)"
      ],
      "metadata": {
        "colab": {
          "base_uri": "https://localhost:8080/"
        },
        "id": "Hc9hWmvIF6MG",
        "outputId": "565a8e83-1454-45c4-c4a0-6336d825f497"
      },
      "execution_count": 5,
      "outputs": [
        {
          "output_type": "stream",
          "name": "stdout",
          "text": [
            "True\n"
          ]
        }
      ]
    },
    {
      "cell_type": "code",
      "source": [
        "#Q23\n",
        "height=1.77\n",
        "weight=81.5\n",
        "BMI=weight/(height**2)\n",
        "if BMI<18.5:\n",
        "  print(\"UnderWeight\")\n",
        "elif BMI<25:\n",
        "  print(\"Normal\")\n",
        "else:\n",
        "  print(\"Overweight\")"
      ],
      "metadata": {
        "colab": {
          "base_uri": "https://localhost:8080/"
        },
        "id": "hTrv5aDMb9lv",
        "outputId": "c38c5a48-5a80-40c8-958c-d92188e47dbb"
      },
      "execution_count": 7,
      "outputs": [
        {
          "output_type": "stream",
          "name": "stdout",
          "text": [
            "Overweight\n"
          ]
        }
      ]
    },
    {
      "cell_type": "code",
      "source": [
        "#Q24\n",
        "num=-98\n",
        "if num>0:\n",
        "  print(\"Positive\")\n",
        "elif num==0:\n",
        "  print(\"Zero\")\n",
        "else:\n",
        "  print(\"Negative\")"
      ],
      "metadata": {
        "colab": {
          "base_uri": "https://localhost:8080/"
        },
        "id": "FeUtVYnpetVP",
        "outputId": "d8c67fe3-3946-4373-de44-ae92f29c5cdf"
      },
      "execution_count": 8,
      "outputs": [
        {
          "output_type": "stream",
          "name": "stdout",
          "text": [
            "Negative\n"
          ]
        }
      ]
    },
    {
      "cell_type": "code",
      "source": [
        "#Q25\n",
        "char='u'\n",
        "if char.isupper():\n",
        "  print(\"Upper\")\n",
        "elif char.islower():\n",
        "  print(\"Lower\")\n",
        "else:\n",
        "  print(\"Special\")"
      ],
      "metadata": {
        "colab": {
          "base_uri": "https://localhost:8080/"
        },
        "id": "CgyL-QVQfV2e",
        "outputId": "5b515089-205b-4ada-a94b-2ed2df6752e3"
      },
      "execution_count": 11,
      "outputs": [
        {
          "output_type": "stream",
          "name": "stdout",
          "text": [
            "Lower\n"
          ]
        }
      ]
    },
    {
      "cell_type": "code",
      "source": [],
      "metadata": {
        "id": "FDwd2NYXfhqm"
      },
      "execution_count": null,
      "outputs": []
    }
  ]
}