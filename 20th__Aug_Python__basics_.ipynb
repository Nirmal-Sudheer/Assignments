{
  "nbformat": 4,
  "nbformat_minor": 0,
  "metadata": {
    "colab": {
      "provenance": []
    },
    "kernelspec": {
      "name": "python3",
      "display_name": "Python 3"
    },
    "language_info": {
      "name": "python"
    }
  },
  "cells": [
    {
      "cell_type": "markdown",
      "source": [
        "###String Based"
      ],
      "metadata": {
        "id": "kL7jaWC7mrzI"
      }
    },
    {
      "cell_type": "code",
      "execution_count": null,
      "metadata": {
        "colab": {
          "base_uri": "https://localhost:8080/",
          "height": 35
        },
        "id": "LgvfQ6AWk73x",
        "outputId": "edcbcc64-1dc9-4816-fb92-07ab699d7278"
      },
      "outputs": [
        {
          "output_type": "execute_result",
          "data": {
            "text/plain": [
              "'doof'"
            ],
            "application/vnd.google.colaboratory.intrinsic+json": {
              "type": "string"
            }
          },
          "metadata": {},
          "execution_count": 1
        }
      ],
      "source": [
        "#Q1\n",
        "s=\"food\"\n",
        "rev_s=s[::-1]\n",
        "rev_s"
      ]
    },
    {
      "cell_type": "code",
      "source": [
        "#Q2\n",
        "s=\"food\"\n",
        "rev_s=s[::-1]\n",
        "if rev_s==s:\n",
        "  print(\"Palindrome\")\n",
        "else:\n",
        "  print(\"Not\")"
      ],
      "metadata": {
        "colab": {
          "base_uri": "https://localhost:8080/"
        },
        "id": "-j03GCV6m7FZ",
        "outputId": "411475b6-f75a-4643-83e3-0a3fb0caaa93"
      },
      "execution_count": null,
      "outputs": [
        {
          "output_type": "stream",
          "name": "stdout",
          "text": [
            "Not\n"
          ]
        }
      ]
    },
    {
      "cell_type": "code",
      "source": [
        "#Q3\n",
        "s=\"food\"\n",
        "s=s.upper()\n",
        "s"
      ],
      "metadata": {
        "colab": {
          "base_uri": "https://localhost:8080/",
          "height": 35
        },
        "id": "0xliNtn1nMhX",
        "outputId": "655234c9-6ac4-4465-fbf8-bfa7c8e4d749"
      },
      "execution_count": null,
      "outputs": [
        {
          "output_type": "execute_result",
          "data": {
            "text/plain": [
              "'FOOD'"
            ],
            "application/vnd.google.colaboratory.intrinsic+json": {
              "type": "string"
            }
          },
          "metadata": {},
          "execution_count": 5
        }
      ]
    },
    {
      "cell_type": "code",
      "source": [
        "#Q4\n",
        "s=\"food\"\n",
        "s=s.lower()\n",
        "s"
      ],
      "metadata": {
        "colab": {
          "base_uri": "https://localhost:8080/",
          "height": 35
        },
        "id": "S_OUq8aVnRdw",
        "outputId": "9df897e6-a328-4e6e-ba23-b803070647f2"
      },
      "execution_count": null,
      "outputs": [
        {
          "output_type": "execute_result",
          "data": {
            "text/plain": [
              "'food'"
            ],
            "application/vnd.google.colaboratory.intrinsic+json": {
              "type": "string"
            }
          },
          "metadata": {},
          "execution_count": 6
        }
      ]
    },
    {
      "cell_type": "code",
      "source": [
        "#Q5\n",
        "count=0\n",
        "vowels=['a','e','i','o','u']\n",
        "s=\"food\"\n",
        "for i in s:\n",
        "  if i in vowels:\n",
        "    count+=1\n",
        "print(count)"
      ],
      "metadata": {
        "colab": {
          "base_uri": "https://localhost:8080/"
        },
        "id": "cq-lLXX7nYjm",
        "outputId": "cba4e0d0-70aa-4a24-cf4f-3d2448fed4ed"
      },
      "execution_count": null,
      "outputs": [
        {
          "output_type": "stream",
          "name": "stdout",
          "text": [
            "2\n"
          ]
        }
      ]
    },
    {
      "cell_type": "code",
      "source": [
        "#Q6\n",
        "\n",
        "count=0\n",
        "vowels=['a','e','i','o','u']\n",
        "s=\"foods\"\n",
        "for i in s:\n",
        "  if i  not in vowels:\n",
        "    count+=1\n",
        "print(count)"
      ],
      "metadata": {
        "colab": {
          "base_uri": "https://localhost:8080/"
        },
        "id": "k7lLVjBdnv0A",
        "outputId": "f8af76e6-743b-4fa6-d00c-ddc994f63d31"
      },
      "execution_count": null,
      "outputs": [
        {
          "output_type": "stream",
          "name": "stdout",
          "text": [
            "3\n"
          ]
        }
      ]
    },
    {
      "cell_type": "code",
      "source": [
        "#Q7\n",
        "\n",
        "L=[]\n",
        "s=\" i foods\"\n",
        "s=s.replace(\" \",'')\n",
        "s"
      ],
      "metadata": {
        "colab": {
          "base_uri": "https://localhost:8080/",
          "height": 35
        },
        "id": "YvI7p0Men4Cf",
        "outputId": "2f7532a4-3581-48f0-d20e-e4bad26cf2d0"
      },
      "execution_count": null,
      "outputs": [
        {
          "output_type": "execute_result",
          "data": {
            "text/plain": [
              "'ifoods'"
            ],
            "application/vnd.google.colaboratory.intrinsic+json": {
              "type": "string"
            }
          },
          "metadata": {},
          "execution_count": 12
        }
      ]
    },
    {
      "cell_type": "code",
      "source": [
        "#Q8\n",
        "\n",
        "count=0\n",
        "s=\"foods\"\n",
        "for i in s:\n",
        "  count+=1\n",
        "count"
      ],
      "metadata": {
        "colab": {
          "base_uri": "https://localhost:8080/"
        },
        "id": "pT-c6AwFte8i",
        "outputId": "f508b753-9f8e-464b-c68a-a3e5c0f415b9"
      },
      "execution_count": null,
      "outputs": [
        {
          "output_type": "execute_result",
          "data": {
            "text/plain": [
              "5"
            ]
          },
          "metadata": {},
          "execution_count": 13
        }
      ]
    },
    {
      "cell_type": "code",
      "source": [
        "#Q9\n",
        "s=\" I foods\"\n",
        "if 'foods' in s:\n",
        "  print(\"Yes\")"
      ],
      "metadata": {
        "colab": {
          "base_uri": "https://localhost:8080/"
        },
        "id": "yomAW18ot9Mi",
        "outputId": "26288c78-e019-4952-a9f1-aab918af8fe2"
      },
      "execution_count": null,
      "outputs": [
        {
          "output_type": "stream",
          "name": "stdout",
          "text": [
            "Yes\n"
          ]
        }
      ]
    },
    {
      "cell_type": "code",
      "source": [
        "#Q10\n",
        "s=\" I foods\"\n",
        "t=\"suck\"\n",
        "res=s.replace(\"foods\",t)\n",
        "res"
      ],
      "metadata": {
        "colab": {
          "base_uri": "https://localhost:8080/",
          "height": 35
        },
        "id": "4Nig_g-ZuJ4L",
        "outputId": "0d39c485-6df9-439d-c67a-430b17df4edf"
      },
      "execution_count": null,
      "outputs": [
        {
          "output_type": "execute_result",
          "data": {
            "text/plain": [
              "' I suck'"
            ],
            "application/vnd.google.colaboratory.intrinsic+json": {
              "type": "string"
            }
          },
          "metadata": {},
          "execution_count": 16
        }
      ]
    },
    {
      "cell_type": "code",
      "source": [
        "#Q11\n",
        "s=\" I foods foods foods\"\n",
        "counts=s.count(\"foods\")\n",
        "counts"
      ],
      "metadata": {
        "colab": {
          "base_uri": "https://localhost:8080/"
        },
        "id": "Xcpvy-D7uZbz",
        "outputId": "2654b925-adcc-40e1-9e37-3deda58c0288"
      },
      "execution_count": null,
      "outputs": [
        {
          "output_type": "execute_result",
          "data": {
            "text/plain": [
              "3"
            ]
          },
          "metadata": {},
          "execution_count": 20
        }
      ]
    },
    {
      "cell_type": "code",
      "source": [
        "#Q12\n",
        "s=\" I fried foods \"\n",
        "s.index('fried')\n"
      ],
      "metadata": {
        "colab": {
          "base_uri": "https://localhost:8080/"
        },
        "id": "3-FYkMCFuixi",
        "outputId": "d66aa20c-c3f5-44c9-d43d-e99fd30f8dad"
      },
      "execution_count": null,
      "outputs": [
        {
          "output_type": "execute_result",
          "data": {
            "text/plain": [
              "3"
            ]
          },
          "metadata": {},
          "execution_count": 22
        }
      ]
    },
    {
      "cell_type": "code",
      "source": [
        "#Q13\n",
        "s=\" I fried foods fried  \"\n",
        "last=s.rfind('fried')\n",
        "last\n"
      ],
      "metadata": {
        "colab": {
          "base_uri": "https://localhost:8080/"
        },
        "id": "N-OsWmj-vLgT",
        "outputId": "648596f4-1037-405e-cdf5-88b3bc8bf9e9"
      },
      "execution_count": null,
      "outputs": [
        {
          "output_type": "execute_result",
          "data": {
            "text/plain": [
              "15"
            ]
          },
          "metadata": {},
          "execution_count": 28
        }
      ]
    },
    {
      "cell_type": "code",
      "source": [
        "#Q14\n",
        "s=\"I fried foods fried\"\n",
        "ind_Words=s.split(\" \")\n",
        "ind_Words"
      ],
      "metadata": {
        "colab": {
          "base_uri": "https://localhost:8080/"
        },
        "id": "jZjAvZ__vwvB",
        "outputId": "1791e7b2-eb09-4f4b-db0e-9ae23ac6123f"
      },
      "execution_count": null,
      "outputs": [
        {
          "output_type": "execute_result",
          "data": {
            "text/plain": [
              "['I', 'fried', 'foods', 'fried']"
            ]
          },
          "metadata": {},
          "execution_count": 31
        }
      ]
    },
    {
      "cell_type": "code",
      "source": [
        "#Q15\n",
        "words=['I', 'fried', 'foods', 'fried']\n",
        "res=\" \".join(words)\n",
        "res"
      ],
      "metadata": {
        "colab": {
          "base_uri": "https://localhost:8080/",
          "height": 35
        },
        "id": "mBlmnWAhv15B",
        "outputId": "5925bac8-ba17-49f1-b1f8-e90bd4ad8838"
      },
      "execution_count": null,
      "outputs": [
        {
          "output_type": "execute_result",
          "data": {
            "text/plain": [
              "'I fried foods fried'"
            ],
            "application/vnd.google.colaboratory.intrinsic+json": {
              "type": "string"
            }
          },
          "metadata": {},
          "execution_count": 33
        }
      ]
    },
    {
      "cell_type": "code",
      "source": [
        "#Q16\n",
        "s=\"I fried foods fried\"\n",
        "res=s.replace(\" \",\"_\")\n",
        "res"
      ],
      "metadata": {
        "colab": {
          "base_uri": "https://localhost:8080/",
          "height": 35
        },
        "id": "jwth5WPKw15o",
        "outputId": "8aa49ae1-adcf-4483-e571-0217886738df"
      },
      "execution_count": null,
      "outputs": [
        {
          "output_type": "execute_result",
          "data": {
            "text/plain": [
              "'I_fried_foods_fried'"
            ],
            "application/vnd.google.colaboratory.intrinsic+json": {
              "type": "string"
            }
          },
          "metadata": {},
          "execution_count": 34
        }
      ]
    },
    {
      "cell_type": "code",
      "source": [
        "#Q17\n",
        "s=\"foried foods fried\"\n",
        "if s.startswith('fried'):\n",
        "  print(True)\n",
        "else:\n",
        "  print(False)"
      ],
      "metadata": {
        "colab": {
          "base_uri": "https://localhost:8080/"
        },
        "id": "acgxDCn8w-W5",
        "outputId": "0ecfe8a6-1763-48a4-c16e-056ac9d2854a"
      },
      "execution_count": null,
      "outputs": [
        {
          "output_type": "stream",
          "name": "stdout",
          "text": [
            "False\n"
          ]
        }
      ]
    },
    {
      "cell_type": "code",
      "source": [
        "#Q18\n",
        "s=\"fried foods fried\"\n",
        "if s.endswith('fried'):\n",
        "  print(True)\n",
        "else:\n",
        "  print(False)"
      ],
      "metadata": {
        "colab": {
          "base_uri": "https://localhost:8080/"
        },
        "id": "OYO5RYTRxS2R",
        "outputId": "facfa7f6-a512-42f7-a959-64e35a780509"
      },
      "execution_count": null,
      "outputs": [
        {
          "output_type": "stream",
          "name": "stdout",
          "text": [
            "True\n"
          ]
        }
      ]
    },
    {
      "cell_type": "code",
      "source": [
        "#Q19\n",
        "s=\"hello world\"\n",
        "s.capitalize()"
      ],
      "metadata": {
        "colab": {
          "base_uri": "https://localhost:8080/",
          "height": 35
        },
        "id": "GUzL_jaQxq-B",
        "outputId": "67e1091e-3b0d-4601-b4f3-e095715c7c2a"
      },
      "execution_count": null,
      "outputs": [
        {
          "output_type": "execute_result",
          "data": {
            "text/plain": [
              "'Hello world'"
            ],
            "application/vnd.google.colaboratory.intrinsic+json": {
              "type": "string"
            }
          },
          "metadata": {},
          "execution_count": 41
        }
      ]
    },
    {
      "cell_type": "code",
      "source": [
        "#Q20\n",
        "words='fried food is not parabola'\n",
        "words_split=words.split(' ')\n",
        "longest=0\n",
        "\n",
        "for i in words_split:\n",
        "  longest=max(len(i),longest)\n",
        "\n",
        "longest"
      ],
      "metadata": {
        "colab": {
          "base_uri": "https://localhost:8080/"
        },
        "id": "jkW5LkUixyY5",
        "outputId": "1693cbea-c311-4e59-b7e2-93045347b55b"
      },
      "execution_count": null,
      "outputs": [
        {
          "output_type": "execute_result",
          "data": {
            "text/plain": [
              "8"
            ]
          },
          "metadata": {},
          "execution_count": 5
        }
      ]
    },
    {
      "cell_type": "code",
      "source": [
        "#Q21\n",
        "words='fried food is not parabola'\n",
        "words_split=words.split(' ')\n",
        "smallest=len(words_split[0])\n",
        "for i in words_split:\n",
        "  smallest=min(len(i),smallest)\n",
        "\n",
        "smallest\n"
      ],
      "metadata": {
        "colab": {
          "base_uri": "https://localhost:8080/"
        },
        "id": "hvm99oCOPmFt",
        "outputId": "ae2ff299-fcad-456b-ef2e-1e46fc2e4073"
      },
      "execution_count": null,
      "outputs": [
        {
          "output_type": "stream",
          "name": "stdout",
          "text": [
            "5\n"
          ]
        },
        {
          "output_type": "execute_result",
          "data": {
            "text/plain": [
              "2"
            ]
          },
          "metadata": {},
          "execution_count": 9
        }
      ]
    },
    {
      "cell_type": "code",
      "source": [
        "#Q22\n",
        "words='fried food is not parabola'\n",
        "rev_words=words.split(\" \")\n",
        "res=rev_words[::-1]\n",
        "\" \".join(res)\n"
      ],
      "metadata": {
        "id": "gpKxToP6QRsj",
        "colab": {
          "base_uri": "https://localhost:8080/",
          "height": 35
        },
        "outputId": "4630b996-b4e7-49d3-b758-ba8406044d50"
      },
      "execution_count": null,
      "outputs": [
        {
          "output_type": "execute_result",
          "data": {
            "text/plain": [
              "'parabola not is food fried'"
            ],
            "application/vnd.google.colaboratory.intrinsic+json": {
              "type": "string"
            }
          },
          "metadata": {},
          "execution_count": 4
        }
      ]
    },
    {
      "cell_type": "code",
      "source": [
        "#Q23\n",
        "words='friedfoodisnotparabola'\n",
        "result=words.isalnum()\n",
        "result"
      ],
      "metadata": {
        "colab": {
          "base_uri": "https://localhost:8080/"
        },
        "id": "gVSrbtoULfUh",
        "outputId": "de7a2b8e-feb0-4108-bad9-bfddcb77955f"
      },
      "execution_count": null,
      "outputs": [
        {
          "output_type": "execute_result",
          "data": {
            "text/plain": [
              "True"
            ]
          },
          "metadata": {},
          "execution_count": 24
        }
      ]
    },
    {
      "cell_type": "code",
      "source": [
        "#Q24\n",
        "words= 'apple4poop69'\n",
        "numbers=[]\n",
        "for i in words:\n",
        "  if i.isdigit():\n",
        "    numbers.append(i)\n",
        "\n",
        "numbers"
      ],
      "metadata": {
        "colab": {
          "base_uri": "https://localhost:8080/"
        },
        "id": "s7EnzaDMMSwH",
        "outputId": "a425925f-be3a-49f0-e7b4-cd8103472500"
      },
      "execution_count": null,
      "outputs": [
        {
          "output_type": "execute_result",
          "data": {
            "text/plain": [
              "['4', '6', '9']"
            ]
          },
          "metadata": {},
          "execution_count": 18
        }
      ]
    },
    {
      "cell_type": "code",
      "source": [
        "#Q25\n",
        "words='fried food is not 9 parabola'\n",
        "\n",
        "res=[]\n",
        "for i in words:\n",
        "  if i.isalpha():\n",
        "    res.append(i)\n",
        "res\n"
      ],
      "metadata": {
        "colab": {
          "base_uri": "https://localhost:8080/"
        },
        "id": "xEVonfnRMdln",
        "outputId": "44f85107-570b-48c3-962c-f588b8d965bc"
      },
      "execution_count": null,
      "outputs": [
        {
          "output_type": "execute_result",
          "data": {
            "text/plain": [
              "['f',\n",
              " 'r',\n",
              " 'i',\n",
              " 'e',\n",
              " 'd',\n",
              " 'f',\n",
              " 'o',\n",
              " 'o',\n",
              " 'd',\n",
              " 'i',\n",
              " 's',\n",
              " 'n',\n",
              " 'o',\n",
              " 't',\n",
              " 'p',\n",
              " 'a',\n",
              " 'r',\n",
              " 'a',\n",
              " 'b',\n",
              " 'o',\n",
              " 'l',\n",
              " 'a']"
            ]
          },
          "metadata": {},
          "execution_count": 22
        }
      ]
    },
    {
      "cell_type": "code",
      "source": [
        " #Q26\n",
        "words='I Love APples'\n",
        "count=0\n",
        "for i in words:\n",
        "  if i.isupper():\n",
        "    count+=1\n",
        "\n",
        "count"
      ],
      "metadata": {
        "colab": {
          "base_uri": "https://localhost:8080/"
        },
        "id": "hOc5pN-pOXW4",
        "outputId": "f0d967c3-bba6-451a-a98b-1448bc0b8b68"
      },
      "execution_count": null,
      "outputs": [
        {
          "output_type": "execute_result",
          "data": {
            "text/plain": [
              "4"
            ]
          },
          "metadata": {},
          "execution_count": 25
        }
      ]
    },
    {
      "cell_type": "code",
      "source": [
        "#Q27\n",
        "words='I Love APples'\n",
        "count=0\n",
        "for i in words:\n",
        "  if i.islower():\n",
        "    count+=1\n",
        "\n",
        "count"
      ],
      "metadata": {
        "colab": {
          "base_uri": "https://localhost:8080/"
        },
        "id": "i9R1o_xVPAXY",
        "outputId": "c30f6e9b-fc8c-475b-d093-84b30a46f2a1"
      },
      "execution_count": null,
      "outputs": [
        {
          "output_type": "execute_result",
          "data": {
            "text/plain": [
              "7"
            ]
          },
          "metadata": {},
          "execution_count": 26
        }
      ]
    },
    {
      "cell_type": "code",
      "source": [
        "#Q28\n",
        "words='I Love APples'\n",
        "res=''\n",
        "for i in words:\n",
        "  if i.isupper():\n",
        "    res=res+i.lower()\n",
        "  elif i.islower():\n",
        "    res=res+i.upper()\n",
        "  else:\n",
        "    res=res+\" \"\n",
        "\n",
        "res\n"
      ],
      "metadata": {
        "colab": {
          "base_uri": "https://localhost:8080/",
          "height": 35
        },
        "id": "rMIJ2OjoPIdf",
        "outputId": "1b483bea-65ee-463c-f088-65a1f1324cdf"
      },
      "execution_count": null,
      "outputs": [
        {
          "output_type": "execute_result",
          "data": {
            "text/plain": [
              "'i lOVE apPLES'"
            ],
            "application/vnd.google.colaboratory.intrinsic+json": {
              "type": "string"
            }
          },
          "metadata": {},
          "execution_count": 27
        }
      ]
    },
    {
      "cell_type": "code",
      "source": [
        "#Q29\n",
        "rem=\"apples\"\n",
        "words='I Love apples'\n",
        "split=words.split(\" \")\n",
        "res=[]\n",
        "for i in split:\n",
        "  if i!=rem:\n",
        "    res.append(i)\n",
        "\" \".join(res)"
      ],
      "metadata": {
        "colab": {
          "base_uri": "https://localhost:8080/",
          "height": 35
        },
        "id": "DpAEzohbPqXm",
        "outputId": "babcc3b2-5d2b-4bf6-bc7d-aae6dac84c2c"
      },
      "execution_count": null,
      "outputs": [
        {
          "output_type": "execute_result",
          "data": {
            "text/plain": [
              "'I Love'"
            ],
            "application/vnd.google.colaboratory.intrinsic+json": {
              "type": "string"
            }
          },
          "metadata": {},
          "execution_count": 32
        }
      ]
    },
    {
      "cell_type": "code",
      "source": [
        "#Q30\n",
        "import re\n",
        "\n",
        "id=\"food@mail.com\"\n",
        "pattern = r'^[\\w\\.-]+@[\\w\\.-]+\\.\\w+$'\n",
        "res=re.match(pattern,id)\n",
        "if res:\n",
        "  print(True)\n",
        "else:\n",
        "  print(False)"
      ],
      "metadata": {
        "colab": {
          "base_uri": "https://localhost:8080/"
        },
        "id": "t1NPkLUkP8pJ",
        "outputId": "b67a2362-bb4d-4588-8f46-783ed1870e76"
      },
      "execution_count": null,
      "outputs": [
        {
          "output_type": "stream",
          "name": "stdout",
          "text": [
            "True\n"
          ]
        }
      ]
    },
    {
      "cell_type": "code",
      "source": [
        "#Q31\n",
        "id=\"food@mail.com\"\n",
        "split=id.split(\"@\")\n",
        "split[0]\n",
        "\n"
      ],
      "metadata": {
        "colab": {
          "base_uri": "https://localhost:8080/",
          "height": 35
        },
        "id": "7EbHlI-7RwcH",
        "outputId": "54373b94-13cb-4122-ec97-2ae1273932e5"
      },
      "execution_count": null,
      "outputs": [
        {
          "output_type": "execute_result",
          "data": {
            "text/plain": [
              "'food'"
            ],
            "application/vnd.google.colaboratory.intrinsic+json": {
              "type": "string"
            }
          },
          "metadata": {},
          "execution_count": 37
        }
      ]
    },
    {
      "cell_type": "code",
      "source": [
        "#Q32\n",
        "id=\"food@mail.com\"\n",
        "split=id.split(\"@\")\n",
        "split[1]"
      ],
      "metadata": {
        "colab": {
          "base_uri": "https://localhost:8080/",
          "height": 35
        },
        "id": "aPNQBUFESo3P",
        "outputId": "cf5d3919-0061-40c0-ddb3-0bbbb93df138"
      },
      "execution_count": null,
      "outputs": [
        {
          "output_type": "execute_result",
          "data": {
            "text/plain": [
              "'mail.com'"
            ],
            "application/vnd.google.colaboratory.intrinsic+json": {
              "type": "string"
            }
          },
          "metadata": {},
          "execution_count": 38
        }
      ]
    },
    {
      "cell_type": "code",
      "source": [
        "#Q33\n",
        "\n",
        "ip=\" i hate       teniis    kfmckef \"\n",
        "op = re.sub(r'\\s+', ' ', ip)\n",
        "op\n"
      ],
      "metadata": {
        "colab": {
          "base_uri": "https://localhost:8080/",
          "height": 35
        },
        "id": "sN72cXgdStPX",
        "outputId": "ad085132-9b9d-487c-b5d2-4f68195d7d5c"
      },
      "execution_count": null,
      "outputs": [
        {
          "output_type": "execute_result",
          "data": {
            "text/plain": [
              "' i hate teniis kfmckef '"
            ],
            "application/vnd.google.colaboratory.intrinsic+json": {
              "type": "string"
            }
          },
          "metadata": {},
          "execution_count": 39
        }
      ]
    },
    {
      "cell_type": "code",
      "source": [
        "from prompt_toolkit.shortcuts.progress_bar.base import E\n",
        "#Q34\n",
        "ip='www.example.com'\n",
        "op=ip.split(\".\")\n",
        "if op[0]==\"www\":\n",
        "  print(True)\n",
        "else:\n",
        "  print(False)"
      ],
      "metadata": {
        "colab": {
          "base_uri": "https://localhost:8080/"
        },
        "id": "pX_ew5yrTq_m",
        "outputId": "e429f388-4ddf-4e1d-b851-04dc670860c3"
      },
      "execution_count": null,
      "outputs": [
        {
          "output_type": "stream",
          "name": "stdout",
          "text": [
            "True\n"
          ]
        }
      ]
    },
    {
      "cell_type": "code",
      "source": [
        "#Q35\n",
        "ip=\"https://colab.research.google.com/drive/1a02KNBtwE47-vpQTXnKCCE1i-vabu5Fg#scrollTo=nprKaypWVIZW\"\n",
        "pattern = r'^(https?|ftp)://'\n",
        "res=re.match(pattern,ip)\n",
        "if res:\n",
        "  print(True)\n",
        "else:\n",
        "  print(False)\n"
      ],
      "metadata": {
        "colab": {
          "base_uri": "https://localhost:8080/"
        },
        "id": "nprKaypWVIZW",
        "outputId": "3714221b-efd5-4cd2-80e7-3982660c54d1"
      },
      "execution_count": null,
      "outputs": [
        {
          "output_type": "stream",
          "name": "stdout",
          "text": [
            "True\n"
          ]
        }
      ]
    },
    {
      "cell_type": "code",
      "source": [
        "#Q36\n",
        "from collections import Counter\n",
        "ip='www.example.com'\n",
        "res=Counter(ip)\n",
        "res"
      ],
      "metadata": {
        "colab": {
          "base_uri": "https://localhost:8080/"
        },
        "id": "hWBFnCJ5VqYw",
        "outputId": "162bbc84-48a7-4b04-c8df-5ea801323979"
      },
      "execution_count": null,
      "outputs": [
        {
          "output_type": "execute_result",
          "data": {
            "text/plain": [
              "Counter({'w': 3,\n",
              "         '.': 2,\n",
              "         'e': 2,\n",
              "         'x': 1,\n",
              "         'a': 1,\n",
              "         'm': 2,\n",
              "         'p': 1,\n",
              "         'l': 1,\n",
              "         'c': 1,\n",
              "         'o': 1})"
            ]
          },
          "metadata": {},
          "execution_count": 48
        }
      ]
    },
    {
      "cell_type": "code",
      "source": [
        "#Q37\n",
        "res=''\n",
        "words='I !Love apples'\n",
        "for i in words:\n",
        "  if i.isalpha()==True or i==\" \":\n",
        "    res=res+i\n",
        "\n",
        "res"
      ],
      "metadata": {
        "colab": {
          "base_uri": "https://localhost:8080/",
          "height": 35
        },
        "id": "KbqpJUidV69W",
        "outputId": "f3532074-1aed-44de-f17f-629e2b13395c"
      },
      "execution_count": null,
      "outputs": [
        {
          "output_type": "execute_result",
          "data": {
            "text/plain": [
              "'I Love apples'"
            ],
            "application/vnd.google.colaboratory.intrinsic+json": {
              "type": "string"
            }
          },
          "metadata": {},
          "execution_count": 50
        }
      ]
    },
    {
      "cell_type": "code",
      "source": [
        "#Q38\n",
        "s='45775637344'\n",
        "if s.isdigit():\n",
        "  print(True)\n",
        "else:\n",
        "  print(False)"
      ],
      "metadata": {
        "colab": {
          "base_uri": "https://localhost:8080/"
        },
        "id": "9ZuxvNTpXTKH",
        "outputId": "96e14bf3-47e5-453e-e554-166694cbff3b"
      },
      "execution_count": null,
      "outputs": [
        {
          "output_type": "stream",
          "name": "stdout",
          "text": [
            "True\n"
          ]
        }
      ]
    },
    {
      "cell_type": "code",
      "source": [
        "#Q39\n",
        "s='fooooooo9ood'\n",
        "if s.isalpha():\n",
        "  print(True)\n",
        "else:\n",
        "  print(False)"
      ],
      "metadata": {
        "colab": {
          "base_uri": "https://localhost:8080/"
        },
        "id": "NuPaF42OXlce",
        "outputId": "38b18a10-544e-4ee2-ccdb-7fc179227623"
      },
      "execution_count": null,
      "outputs": [
        {
          "output_type": "stream",
          "name": "stdout",
          "text": [
            "False\n"
          ]
        }
      ]
    },
    {
      "cell_type": "code",
      "source": [
        "#Q40\n",
        "s='fooooooo9ood'\n",
        "res=[]\n",
        "for i in s:\n",
        "  res.append(i)\n",
        "res"
      ],
      "metadata": {
        "colab": {
          "base_uri": "https://localhost:8080/"
        },
        "id": "2o6209r2XuIH",
        "outputId": "5a267bf7-7f1f-4f70-e928-7c7bdc4c98a0"
      },
      "execution_count": null,
      "outputs": [
        {
          "output_type": "execute_result",
          "data": {
            "text/plain": [
              "['f', 'o', 'o', 'o', 'o', 'o', 'o', 'o', '9', 'o', 'o', 'd']"
            ]
          },
          "metadata": {},
          "execution_count": 56
        }
      ]
    },
    {
      "cell_type": "code",
      "source": [
        "#Q41\n",
        "ip1 = \"listen\"\n",
        "ip2 = \"silent\"\n",
        "if Counter(ip1)==Counter(ip2):\n",
        "  print(True)\n",
        "else:\n",
        "  print(False)"
      ],
      "metadata": {
        "colab": {
          "base_uri": "https://localhost:8080/"
        },
        "id": "eG5-uMdNX3Yu",
        "outputId": "1421f74c-4546-4283-f662-b568c35e4262"
      },
      "execution_count": null,
      "outputs": [
        {
          "output_type": "stream",
          "name": "stdout",
          "text": [
            "True\n"
          ]
        }
      ]
    },
    {
      "cell_type": "code",
      "source": [
        "#Q42\n",
        "text = \"Hello, World!\"\n",
        "shift = 3\n",
        "encoded_text = \"\"\n",
        "\n",
        "for char in text:\n",
        "    if char.isalpha():\n",
        "        is_upper = char.isupper()\n",
        "        char = char.lower()\n",
        "        shifted_char = chr(((ord(char) - ord('a') + shift) % 26) + ord('a'))\n",
        "        if is_upper:\n",
        "            shifted_char = shifted_char.upper()\n",
        "        encoded_text += shifted_char\n",
        "    else:\n",
        "        encoded_text += char\n",
        "\n",
        "print(encoded_text)\n"
      ],
      "metadata": {
        "colab": {
          "base_uri": "https://localhost:8080/"
        },
        "id": "UZITlAgqYZbG",
        "outputId": "f9463a39-f870-49cc-cbfd-b607ad667ad3"
      },
      "execution_count": null,
      "outputs": [
        {
          "output_type": "stream",
          "name": "stdout",
          "text": [
            "Khoor, Zruog!\n"
          ]
        }
      ]
    },
    {
      "cell_type": "code",
      "source": [
        "#Q44\n",
        "text='food food food heehee heehee'\n",
        "split=text.split(\" \")\n",
        "res=Counter(split)\n",
        "res=list(res)\n",
        "res[0]"
      ],
      "metadata": {
        "colab": {
          "base_uri": "https://localhost:8080/",
          "height": 35
        },
        "id": "IqvHXZ8TZlAm",
        "outputId": "f29dd6b1-d5e6-4df9-f24d-e28cca26b2d4"
      },
      "execution_count": null,
      "outputs": [
        {
          "output_type": "execute_result",
          "data": {
            "text/plain": [
              "'food'"
            ],
            "application/vnd.google.colaboratory.intrinsic+json": {
              "type": "string"
            }
          },
          "metadata": {},
          "execution_count": 68
        }
      ]
    },
    {
      "cell_type": "code",
      "source": [
        "#Q45\n",
        "text='food food food heehee heehee'\n",
        "res=set()\n",
        "split=text.split(\" \")\n",
        "for i in split:\n",
        "  res.add(i)\n",
        "\n",
        "res"
      ],
      "metadata": {
        "colab": {
          "base_uri": "https://localhost:8080/"
        },
        "id": "3XobfR6EaBC1",
        "outputId": "34103a8b-5084-466d-b8d6-c27a94bae481"
      },
      "execution_count": null,
      "outputs": [
        {
          "output_type": "execute_result",
          "data": {
            "text/plain": [
              "{'food', 'heehee'}"
            ]
          },
          "metadata": {},
          "execution_count": 71
        }
      ]
    },
    {
      "cell_type": "code",
      "source": [
        "#Q46\n",
        "word = \"banana\"\n",
        "vowels = \"aeiouAEIOU\"\n",
        "count = 0\n",
        "prev_char = \"\"\n",
        "\n",
        "for char in word:\n",
        "    if char in vowels and prev_char not in vowels:\n",
        "        count += 1\n",
        "    prev_char = char\n",
        "\n",
        "if word.endswith((\"es\", \"ed\")):\n",
        "    count -= 1\n",
        "\n",
        "if word.endswith(\"le\") and len(word) > 2 and word[-3] not in vowels:\n",
        "    count += 1\n",
        "\n",
        "if count == 0:\n",
        "    count = 1\n",
        "\n",
        "print(count)\n"
      ],
      "metadata": {
        "colab": {
          "base_uri": "https://localhost:8080/"
        },
        "id": "FGBhr0nFbRdG",
        "outputId": "89a48ed3-aba4-4d69-8acc-4b2d39deb6d8"
      },
      "execution_count": null,
      "outputs": [
        {
          "output_type": "stream",
          "name": "stdout",
          "text": [
            "3\n"
          ]
        }
      ]
    },
    {
      "cell_type": "code",
      "source": [
        "#Q47\n",
        "\n",
        "text = \"Hello, World!\"\n",
        "\n",
        "pattern = r'[!@#$%^&*()_+{}\\[\\]:;\"\\'<>,.?/~`]'\n",
        "\n",
        "if re.search(pattern, text):\n",
        "    print(True)\n",
        "else:\n",
        "    print(False)\n"
      ],
      "metadata": {
        "colab": {
          "base_uri": "https://localhost:8080/"
        },
        "id": "Tyzy2Xvppmkl",
        "outputId": "82ce283d-abbb-4124-f265-2fa7dcb13cb5"
      },
      "execution_count": null,
      "outputs": [
        {
          "output_type": "stream",
          "name": "stdout",
          "text": [
            "True\n"
          ]
        }
      ]
    },
    {
      "cell_type": "code",
      "source": [
        "#Q48\n",
        "text='i love food'\n",
        "split=text.split(\" \")\n",
        "n=int(input(\"Which word to remove  : \"))\n",
        "n=n-1\n",
        "split.pop(n)\n",
        "res=\" \".join(split)\n",
        "res"
      ],
      "metadata": {
        "colab": {
          "base_uri": "https://localhost:8080/",
          "height": 53
        },
        "id": "_v0R2BerpR8j",
        "outputId": "0507f67d-19bd-4fae-f8fe-f629127ba6ac"
      },
      "execution_count": null,
      "outputs": [
        {
          "name": "stdout",
          "output_type": "stream",
          "text": [
            "Which word to remove  : 1\n"
          ]
        },
        {
          "output_type": "execute_result",
          "data": {
            "text/plain": [
              "'love food'"
            ],
            "application/vnd.google.colaboratory.intrinsic+json": {
              "type": "string"
            }
          },
          "metadata": {},
          "execution_count": 76
        }
      ]
    },
    {
      "cell_type": "code",
      "source": [
        "#Q49\n",
        "text='i love food'\n",
        "ins=\"street\"\n",
        "split=text.split(\" \")\n",
        "n=int(input(\"Where to add word : \"))\n",
        "n=n-1\n",
        "split.insert(n,ins)\n",
        "\" \".join(split)"
      ],
      "metadata": {
        "colab": {
          "base_uri": "https://localhost:8080/",
          "height": 53
        },
        "id": "_4yUpboCqEQs",
        "outputId": "fb7fd8f4-988a-4047-b166-a6ca9728c8a8"
      },
      "execution_count": null,
      "outputs": [
        {
          "name": "stdout",
          "output_type": "stream",
          "text": [
            "Where to add word : 1\n"
          ]
        },
        {
          "output_type": "execute_result",
          "data": {
            "text/plain": [
              "'street i love food'"
            ],
            "application/vnd.google.colaboratory.intrinsic+json": {
              "type": "string"
            }
          },
          "metadata": {},
          "execution_count": 86
        }
      ]
    },
    {
      "cell_type": "code",
      "source": [
        "#Q50\n",
        "text='i,love,food'\n",
        "csv=[text.split(\",\")]\n",
        "csv"
      ],
      "metadata": {
        "colab": {
          "base_uri": "https://localhost:8080/"
        },
        "id": "VuUQZZmDrL8z",
        "outputId": "3d37c7fe-2844-48a8-a392-c0da9a435efd"
      },
      "execution_count": null,
      "outputs": [
        {
          "output_type": "execute_result",
          "data": {
            "text/plain": [
              "[['i', 'love', 'food']]"
            ]
          },
          "metadata": {},
          "execution_count": 87
        }
      ]
    },
    {
      "cell_type": "markdown",
      "source": [
        "###List Based"
      ],
      "metadata": {
        "id": "2Ot4he5CtBrM"
      }
    },
    {
      "cell_type": "code",
      "source": [
        "#Q1\n",
        "res=[i for i  in range(1,11)]\n",
        "res"
      ],
      "metadata": {
        "colab": {
          "base_uri": "https://localhost:8080/"
        },
        "id": "0ft0jIvns_rr",
        "outputId": "b6bc1004-5845-4486-bd39-b1fd95168bba"
      },
      "execution_count": null,
      "outputs": [
        {
          "output_type": "execute_result",
          "data": {
            "text/plain": [
              "[1, 2, 3, 4, 5, 6, 7, 8, 9, 10]"
            ]
          },
          "metadata": {},
          "execution_count": 92
        }
      ]
    },
    {
      "cell_type": "code",
      "source": [
        "#Q2\n",
        "res=[i for i  in range(1,11)]\n",
        "count=0\n",
        "for i in res:\n",
        "  count+=1\n",
        "\n",
        "count"
      ],
      "metadata": {
        "colab": {
          "base_uri": "https://localhost:8080/"
        },
        "id": "iGPJlzQ5uwrh",
        "outputId": "65253e9f-f8e4-43a2-8e87-bd04659fc3f0"
      },
      "execution_count": null,
      "outputs": [
        {
          "output_type": "execute_result",
          "data": {
            "text/plain": [
              "10"
            ]
          },
          "metadata": {},
          "execution_count": 93
        }
      ]
    },
    {
      "cell_type": "code",
      "source": [
        "#Q3\n",
        "res=[i for i  in range(1,11)]\n",
        "res.append(1)\n",
        "res"
      ],
      "metadata": {
        "colab": {
          "base_uri": "https://localhost:8080/"
        },
        "id": "FpyxGOZgvOjC",
        "outputId": "45fa0870-7170-4d73-c83e-fe50ff4b87ab"
      },
      "execution_count": null,
      "outputs": [
        {
          "output_type": "execute_result",
          "data": {
            "text/plain": [
              "[1, 2, 3, 4, 5, 6, 7, 8, 9, 10, 1]"
            ]
          },
          "metadata": {},
          "execution_count": 94
        }
      ]
    },
    {
      "cell_type": "code",
      "source": [
        "#Q4\n",
        "res=[i for i  in range(1,11)]\n",
        "res.insert(2,55)  #insert value\n",
        "res"
      ],
      "metadata": {
        "colab": {
          "base_uri": "https://localhost:8080/"
        },
        "id": "WmqgML5CvXZr",
        "outputId": "c4f56d1c-e031-4e3b-d6f5-fc21900bc078"
      },
      "execution_count": null,
      "outputs": [
        {
          "output_type": "execute_result",
          "data": {
            "text/plain": [
              "[1, 2, 55, 3, 4, 5, 6, 7, 8, 9, 10]"
            ]
          },
          "metadata": {},
          "execution_count": 95
        }
      ]
    },
    {
      "cell_type": "code",
      "source": [
        "#Q5\n",
        "res=[i for i  in range(1,11)]\n",
        "res.remove(7) #value\n",
        "res"
      ],
      "metadata": {
        "colab": {
          "base_uri": "https://localhost:8080/"
        },
        "id": "VDX4dE-0vlzK",
        "outputId": "ae27a57f-50f6-4083-86f2-373900a8565f"
      },
      "execution_count": null,
      "outputs": [
        {
          "output_type": "execute_result",
          "data": {
            "text/plain": [
              "[1, 2, 3, 4, 5, 6, 8, 9, 10]"
            ]
          },
          "metadata": {},
          "execution_count": 96
        }
      ]
    },
    {
      "cell_type": "code",
      "source": [
        "#Q6\n",
        "res=[i for i  in range(1,11)]\n",
        "res.pop(2)  #index\n",
        "res"
      ],
      "metadata": {
        "colab": {
          "base_uri": "https://localhost:8080/"
        },
        "id": "rpXWeSlPxcTC",
        "outputId": "ed9aa655-6ac7-459a-e3c1-5280d320bfa8"
      },
      "execution_count": null,
      "outputs": [
        {
          "output_type": "execute_result",
          "data": {
            "text/plain": [
              "[1, 2, 4, 5, 6, 7, 8, 9, 10]"
            ]
          },
          "metadata": {},
          "execution_count": 97
        }
      ]
    },
    {
      "cell_type": "code",
      "source": [
        "#Q7\n",
        "res=[i for i  in range(1,11)]\n",
        "if 88 in res:\n",
        "  print(True)\n",
        "else:\n",
        "  print(False)"
      ],
      "metadata": {
        "id": "sc73_bQOxiph",
        "colab": {
          "base_uri": "https://localhost:8080/"
        },
        "outputId": "4a47618c-cb32-4ec1-991a-9c13f222735e"
      },
      "execution_count": null,
      "outputs": [
        {
          "output_type": "stream",
          "name": "stdout",
          "text": [
            "False\n"
          ]
        }
      ]
    },
    {
      "cell_type": "code",
      "source": [
        "#Q8\n",
        "res=[i for i  in range(1,11)]\n",
        "res.append(9)\n",
        "res.index(9)  #Gives first occurance"
      ],
      "metadata": {
        "colab": {
          "base_uri": "https://localhost:8080/"
        },
        "id": "FiEsxkSWqxF1",
        "outputId": "be5a7e85-0bb0-4429-cecd-f17fa60c68dd"
      },
      "execution_count": null,
      "outputs": [
        {
          "output_type": "execute_result",
          "data": {
            "text/plain": [
              "8"
            ]
          },
          "metadata": {},
          "execution_count": 3
        }
      ]
    },
    {
      "cell_type": "code",
      "source": [
        "#Q9\n",
        "res=[1,2,2,2,43,4]\n",
        "count=0\n",
        "for i in res:\n",
        "  if i ==2:\n",
        "    count+=1\n",
        "count"
      ],
      "metadata": {
        "colab": {
          "base_uri": "https://localhost:8080/"
        },
        "id": "8P4LiuvNrGEw",
        "outputId": "fca552a7-0f91-4891-dd74-638bb65bcee1"
      },
      "execution_count": null,
      "outputs": [
        {
          "output_type": "execute_result",
          "data": {
            "text/plain": [
              "3"
            ]
          },
          "metadata": {},
          "execution_count": 4
        }
      ]
    },
    {
      "cell_type": "code",
      "source": [
        "#Q10\n",
        "res=[i for i  in range(1,11)]\n",
        "res[::-1]"
      ],
      "metadata": {
        "colab": {
          "base_uri": "https://localhost:8080/"
        },
        "id": "sCZV84NYrla5",
        "outputId": "6f79aaaf-14d2-4e0c-ac15-14f87c0723ba"
      },
      "execution_count": null,
      "outputs": [
        {
          "output_type": "execute_result",
          "data": {
            "text/plain": [
              "[10, 9, 8, 7, 6, 5, 4, 3, 2, 1]"
            ]
          },
          "metadata": {},
          "execution_count": 5
        }
      ]
    },
    {
      "cell_type": "code",
      "source": [
        "#Q11\n",
        "res=[i for i  in range(1,11)]\n",
        "res=res[::-1]\n",
        "res.sort()\n",
        "res"
      ],
      "metadata": {
        "colab": {
          "base_uri": "https://localhost:8080/"
        },
        "id": "LtZ7ZVIyrtMQ",
        "outputId": "0262a94e-b422-4888-9f46-6db3df42c3df"
      },
      "execution_count": null,
      "outputs": [
        {
          "output_type": "execute_result",
          "data": {
            "text/plain": [
              "[1, 2, 3, 4, 5, 6, 7, 8, 9, 10]"
            ]
          },
          "metadata": {},
          "execution_count": 8
        }
      ]
    },
    {
      "cell_type": "code",
      "source": [
        "#Q12\n",
        "res=[i for i  in range(1,11)]\n",
        "res=sorted(res,reverse=True)\n",
        "res"
      ],
      "metadata": {
        "colab": {
          "base_uri": "https://localhost:8080/"
        },
        "id": "eamRbWWGr2XX",
        "outputId": "be825f2a-3b40-49b6-c80f-dffabc0e6734"
      },
      "execution_count": null,
      "outputs": [
        {
          "output_type": "execute_result",
          "data": {
            "text/plain": [
              "[10, 9, 8, 7, 6, 5, 4, 3, 2, 1]"
            ]
          },
          "metadata": {},
          "execution_count": 16
        }
      ]
    },
    {
      "cell_type": "code",
      "source": [
        "#Q13\n",
        "res=[i for i in range(2,21,2)]\n",
        "res"
      ],
      "metadata": {
        "colab": {
          "base_uri": "https://localhost:8080/"
        },
        "id": "0cQbGGZpsHGn",
        "outputId": "a5580894-ff8f-4881-ef4f-977736f0b68d"
      },
      "execution_count": null,
      "outputs": [
        {
          "output_type": "execute_result",
          "data": {
            "text/plain": [
              "[2, 4, 6, 8, 10, 12, 14, 16, 18, 20]"
            ]
          },
          "metadata": {},
          "execution_count": 17
        }
      ]
    },
    {
      "cell_type": "code",
      "source": [
        "#Q14\n",
        "res=[i for i in range(1,20,2)]\n",
        "res"
      ],
      "metadata": {
        "colab": {
          "base_uri": "https://localhost:8080/"
        },
        "id": "_hYmL0HGtHwn",
        "outputId": "756dee7b-caf3-4163-831b-0f8fa5f37964"
      },
      "execution_count": null,
      "outputs": [
        {
          "output_type": "execute_result",
          "data": {
            "text/plain": [
              "[1, 3, 5, 7, 9, 11, 13, 15, 17, 19]"
            ]
          },
          "metadata": {},
          "execution_count": 18
        }
      ]
    },
    {
      "cell_type": "code",
      "source": [
        "#Q15\n",
        "res=[i for i in range(2,21,2)]\n",
        "res=sum(res)\n",
        "res"
      ],
      "metadata": {
        "colab": {
          "base_uri": "https://localhost:8080/"
        },
        "id": "7iEaa-g8tMcP",
        "outputId": "6aa5a17f-e9d6-40f3-c24d-fe5594a73a50"
      },
      "execution_count": null,
      "outputs": [
        {
          "output_type": "execute_result",
          "data": {
            "text/plain": [
              "110"
            ]
          },
          "metadata": {},
          "execution_count": 23
        }
      ]
    },
    {
      "cell_type": "code",
      "source": [
        "#Q16\n",
        "res=[i for i in range(2,21,2)]\n",
        "res=max(res)\n",
        "res"
      ],
      "metadata": {
        "colab": {
          "base_uri": "https://localhost:8080/"
        },
        "id": "iZdhYbh3th4Q",
        "outputId": "5406d937-0337-4422-9f73-755cd488c00f"
      },
      "execution_count": null,
      "outputs": [
        {
          "output_type": "execute_result",
          "data": {
            "text/plain": [
              "20"
            ]
          },
          "metadata": {},
          "execution_count": 24
        }
      ]
    },
    {
      "cell_type": "code",
      "source": [
        "#Q17\n",
        "res=[i for i in range(2,21,2)]\n",
        "res=min(res)\n",
        "res"
      ],
      "metadata": {
        "colab": {
          "base_uri": "https://localhost:8080/"
        },
        "id": "9S6Y6SKuuAR3",
        "outputId": "398862cb-6440-48e7-ccda-f374074ffaef"
      },
      "execution_count": null,
      "outputs": [
        {
          "output_type": "execute_result",
          "data": {
            "text/plain": [
              "2"
            ]
          },
          "metadata": {},
          "execution_count": 25
        }
      ]
    },
    {
      "cell_type": "code",
      "source": [
        "#Q18\n",
        "res=[i*i for i in range(1,11)]\n",
        "res"
      ],
      "metadata": {
        "colab": {
          "base_uri": "https://localhost:8080/"
        },
        "id": "XPeLBfFSuDz_",
        "outputId": "be1df00e-5877-4575-931f-54df5f8f24dd"
      },
      "execution_count": null,
      "outputs": [
        {
          "output_type": "execute_result",
          "data": {
            "text/plain": [
              "[1, 4, 9, 16, 25, 36, 49, 64, 81, 100]"
            ]
          },
          "metadata": {},
          "execution_count": 26
        }
      ]
    },
    {
      "cell_type": "code",
      "source": [
        "#Q19\n",
        "import random\n",
        "res=[random.randint(1,200)for i  in range(1,5)]\n",
        "res"
      ],
      "metadata": {
        "colab": {
          "base_uri": "https://localhost:8080/"
        },
        "id": "gS1eriqKuPoA",
        "outputId": "c1d293d6-024d-4f52-e455-769940f106e1"
      },
      "execution_count": null,
      "outputs": [
        {
          "output_type": "execute_result",
          "data": {
            "text/plain": [
              "[154, 127, 101, 161]"
            ]
          },
          "metadata": {},
          "execution_count": 29
        }
      ]
    },
    {
      "cell_type": "code",
      "source": [
        "#Q20\n",
        "res=[1,2,2,3,3,3,4,5]\n",
        "res=set(res)\n",
        "res=list(res)\n",
        "res"
      ],
      "metadata": {
        "colab": {
          "base_uri": "https://localhost:8080/"
        },
        "id": "pghrmmtOuppf",
        "outputId": "c1dc2e0f-7337-4fa8-8178-815a0ccc0384"
      },
      "execution_count": null,
      "outputs": [
        {
          "output_type": "execute_result",
          "data": {
            "text/plain": [
              "[1, 2, 3, 4, 5]"
            ]
          },
          "metadata": {},
          "execution_count": 30
        }
      ]
    },
    {
      "cell_type": "code",
      "source": [
        "#Q21\n",
        "res1=[1,2,2,3,3,3,4,5]\n",
        "res2=[1,4,5]\n",
        "ans=[]\n",
        "for i in res2:\n",
        "  if i in res1:\n",
        "    ans.append(i)\n",
        "ans"
      ],
      "metadata": {
        "colab": {
          "base_uri": "https://localhost:8080/"
        },
        "id": "AnAehAcbu98w",
        "outputId": "04a559ef-772f-49eb-f1ed-a2917aaa48e8"
      },
      "execution_count": null,
      "outputs": [
        {
          "output_type": "execute_result",
          "data": {
            "text/plain": [
              "[1, 4, 5]"
            ]
          },
          "metadata": {},
          "execution_count": 31
        }
      ]
    },
    {
      "cell_type": "code",
      "source": [
        "#Q22\n",
        "res1=[1,2,2,3,3,3,4,5]\n",
        "res2=[1,4,5]\n",
        "ans=[]\n",
        "for i in res1:\n",
        "  if i not  in res2:\n",
        "    ans.append(i)\n",
        "ans"
      ],
      "metadata": {
        "colab": {
          "base_uri": "https://localhost:8080/"
        },
        "id": "uslrsfaavXlY",
        "outputId": "23e0149f-3e2f-409e-fdb0-8949f0faa9c2"
      },
      "execution_count": null,
      "outputs": [
        {
          "output_type": "execute_result",
          "data": {
            "text/plain": [
              "[2, 2, 3, 3, 3]"
            ]
          },
          "metadata": {},
          "execution_count": 33
        }
      ]
    },
    {
      "cell_type": "code",
      "source": [
        "#Q23\n",
        "res1=[1,2,2,3,3,3,4,5]\n",
        "res2=[1,4,5]\n",
        "res=res1+res2\n",
        "\n",
        "res"
      ],
      "metadata": {
        "colab": {
          "base_uri": "https://localhost:8080/"
        },
        "id": "HCy2V6-ZvmyP",
        "outputId": "46067d2b-0cce-4b5a-dcef-a10cddc172dd"
      },
      "execution_count": null,
      "outputs": [
        {
          "output_type": "execute_result",
          "data": {
            "text/plain": [
              "[1, 2, 2, 3, 3, 3, 4, 5, 1, 4, 5]"
            ]
          },
          "metadata": {},
          "execution_count": 35
        }
      ]
    },
    {
      "cell_type": "code",
      "source": [
        "#Q24\n",
        "res=[1,4,5]\n",
        "res=[i*2 for i in res]\n",
        "res"
      ],
      "metadata": {
        "colab": {
          "base_uri": "https://localhost:8080/"
        },
        "id": "VHzCMdPWw6pm",
        "outputId": "a27f4134-7974-4ab3-99ba-333990b9f6cf"
      },
      "execution_count": null,
      "outputs": [
        {
          "output_type": "execute_result",
          "data": {
            "text/plain": [
              "[2, 8, 10]"
            ]
          },
          "metadata": {},
          "execution_count": 36
        }
      ]
    },
    {
      "cell_type": "code",
      "source": [
        "#Q25\n",
        "res=[1,4,5]\n",
        "ans=[]\n",
        "for i in res:\n",
        "  if i%2==0:\n",
        "    ans.append(i)\n",
        "ans"
      ],
      "metadata": {
        "colab": {
          "base_uri": "https://localhost:8080/"
        },
        "id": "2LYyc6SdxG6H",
        "outputId": "5543d0d0-6c7d-4a3c-89ca-0532961342a0"
      },
      "execution_count": null,
      "outputs": [
        {
          "output_type": "execute_result",
          "data": {
            "text/plain": [
              "[4]"
            ]
          },
          "metadata": {},
          "execution_count": 38
        }
      ]
    },
    {
      "cell_type": "code",
      "source": [
        "#Q26\n",
        "words=['1','2','3']\n",
        "res=[int(i) for i in words]\n",
        "res"
      ],
      "metadata": {
        "colab": {
          "base_uri": "https://localhost:8080/"
        },
        "id": "-hUS6x8TxV8Y",
        "outputId": "fa40f425-86be-4440-e73f-e3879f0a17d2"
      },
      "execution_count": null,
      "outputs": [
        {
          "output_type": "execute_result",
          "data": {
            "text/plain": [
              "[1, 2, 3]"
            ]
          },
          "metadata": {},
          "execution_count": 39
        }
      ]
    },
    {
      "cell_type": "code",
      "source": [
        "#Q27\n",
        "numbers=[1,2,3]\n",
        "res=[str(i) for i in numbers]\n",
        "res"
      ],
      "metadata": {
        "colab": {
          "base_uri": "https://localhost:8080/"
        },
        "id": "IQuwLU3azs4l",
        "outputId": "0aa2990c-2ca5-48d1-f8c5-8a6e5be8b4d3"
      },
      "execution_count": null,
      "outputs": [
        {
          "output_type": "execute_result",
          "data": {
            "text/plain": [
              "['1', '2', '3']"
            ]
          },
          "metadata": {},
          "execution_count": 40
        }
      ]
    },
    {
      "cell_type": "code",
      "source": [
        "#Q29\n",
        "nested_list = [1, [2, [3, 4], 5], 6, [7, 8]]\n",
        "flat_list = []\n",
        "\n",
        "while nested_list:\n",
        "    item = nested_list.pop(0)\n",
        "    if isinstance(item, list):\n",
        "        nested_list = item + nested_list\n",
        "    else:\n",
        "        flat_list.append(item)\n",
        "\n",
        "flat_list\n"
      ],
      "metadata": {
        "colab": {
          "base_uri": "https://localhost:8080/"
        },
        "id": "nuhS0aqSz8MM",
        "outputId": "36962690-d995-491d-fc2a-3eb5cf57b9f5"
      },
      "execution_count": null,
      "outputs": [
        {
          "output_type": "execute_result",
          "data": {
            "text/plain": [
              "[1, 2, 3, 4, 5, 6, 7, 8]"
            ]
          },
          "metadata": {},
          "execution_count": 41
        }
      ]
    },
    {
      "cell_type": "code",
      "source": [
        "#Q30\n",
        "res1=[1,2,3,4,5]\n",
        "res2=sorted(res1)\n",
        "if res1==res2:\n",
        "  print(True)\n",
        "else:\n",
        "  print(False)"
      ],
      "metadata": {
        "colab": {
          "base_uri": "https://localhost:8080/"
        },
        "id": "4EQVpBlr1FPM",
        "outputId": "4f2bd7b1-ce50-4d51-b15d-46d3efc3acd8"
      },
      "execution_count": null,
      "outputs": [
        {
          "output_type": "stream",
          "name": "stdout",
          "text": [
            "True\n"
          ]
        }
      ]
    },
    {
      "cell_type": "code",
      "source": [
        "#Q31\n",
        "res=[i for i in range(1,11)]\n",
        "n=2\n",
        "while n>0:\n",
        "  k=res.pop(0)\n",
        "  res.append(k)\n",
        "  n-=1\n",
        "res"
      ],
      "metadata": {
        "colab": {
          "base_uri": "https://localhost:8080/"
        },
        "id": "0KoZdM5ek_Mm",
        "outputId": "55b599f1-ea84-4c4f-9809-9303f3283bf9"
      },
      "execution_count": null,
      "outputs": [
        {
          "output_type": "execute_result",
          "data": {
            "text/plain": [
              "[3, 4, 5, 6, 7, 8, 9, 10, 1, 2]"
            ]
          },
          "metadata": {},
          "execution_count": 10
        }
      ]
    },
    {
      "cell_type": "code",
      "source": [
        "#Q32\n",
        "res=[i for i in range(1,11)]\n",
        "n=2\n",
        "new=[]\n",
        "while n>0:\n",
        "  k=res.pop(-1)\n",
        "  new.append(k)\n",
        "  n-=1\n",
        "res=new+res\n",
        "res"
      ],
      "metadata": {
        "colab": {
          "base_uri": "https://localhost:8080/"
        },
        "id": "4xmfdgTinS80",
        "outputId": "91f7fd01-5e8b-42ad-e776-b82692d1d358"
      },
      "execution_count": null,
      "outputs": [
        {
          "output_type": "execute_result",
          "data": {
            "text/plain": [
              "[10, 9, 1, 2, 3, 4, 5, 6, 7, 8]"
            ]
          },
          "metadata": {},
          "execution_count": 18
        }
      ]
    },
    {
      "cell_type": "code",
      "source": [
        "#Q33\n",
        "res= []\n",
        "\n",
        "for number in range(2, 51):\n",
        "    is_prime = True\n",
        "    for divisor in range(2, int(number**0.5) + 1):\n",
        "        if number % divisor == 0:\n",
        "            is_prime = False\n",
        "            break\n",
        "    if is_prime:\n",
        "        res.append(number)\n",
        "\n",
        "res"
      ],
      "metadata": {
        "colab": {
          "base_uri": "https://localhost:8080/"
        },
        "id": "DxaA1hr0nuFM",
        "outputId": "8b7613d0-e0b8-4d55-e129-5dd26154aca1"
      },
      "execution_count": null,
      "outputs": [
        {
          "output_type": "execute_result",
          "data": {
            "text/plain": [
              "[2, 3, 5, 7, 11, 13, 17, 19, 23, 29, 31, 37, 41, 43, 47]"
            ]
          },
          "metadata": {},
          "execution_count": 24
        }
      ]
    },
    {
      "cell_type": "code",
      "source": [
        "#Q34\n",
        "res=[i for i in range(1,13)]\n",
        "n=3\n",
        "\n",
        "res1=[]\n",
        "for i in range(0, len(res), n):\n",
        "  chunk = res[i:i + n]\n",
        "\n",
        "  res1.append(chunk)\n",
        "res1"
      ],
      "metadata": {
        "colab": {
          "base_uri": "https://localhost:8080/"
        },
        "id": "tDBRduq2wAPZ",
        "outputId": "e7977340-ed7f-489e-df38-955e8b5bc456"
      },
      "execution_count": null,
      "outputs": [
        {
          "output_type": "execute_result",
          "data": {
            "text/plain": [
              "[[1, 2, 3], [4, 5, 6], [7, 8, 9], [10, 11, 12]]"
            ]
          },
          "metadata": {},
          "execution_count": 39
        }
      ]
    },
    {
      "cell_type": "code",
      "source": [
        "#Q35\n",
        "res=[i for i in range(1,13)]\n",
        "res=res[::-1]\n",
        "res[1]"
      ],
      "metadata": {
        "colab": {
          "base_uri": "https://localhost:8080/"
        },
        "id": "ys7kvrflxO1Z",
        "outputId": "fd2a7b49-d641-4824-e6bf-d8441a64b8bd"
      },
      "execution_count": null,
      "outputs": [
        {
          "output_type": "execute_result",
          "data": {
            "text/plain": [
              "11"
            ]
          },
          "metadata": {},
          "execution_count": 40
        }
      ]
    },
    {
      "cell_type": "code",
      "source": [
        "#Q36\n",
        "res=[i for i in range(1,13)]\n",
        "res=[i*i for i in res]\n",
        "res"
      ],
      "metadata": {
        "colab": {
          "base_uri": "https://localhost:8080/"
        },
        "id": "P-UYC4UlzAxv",
        "outputId": "6424e53c-3384-40cd-c3fd-7ef6d16f0c92"
      },
      "execution_count": null,
      "outputs": [
        {
          "output_type": "execute_result",
          "data": {
            "text/plain": [
              "[1, 4, 9, 16, 25, 36, 49, 64, 81, 100, 121, 144]"
            ]
          },
          "metadata": {},
          "execution_count": 41
        }
      ]
    },
    {
      "cell_type": "code",
      "source": [
        "#Q37\n",
        "res=[i for i in range(1,13)]\n",
        "temp={}\n",
        "for i in res:\n",
        "  temp[i]=res.index(1)\n",
        "\n",
        "\n",
        "temp\n"
      ],
      "metadata": {
        "colab": {
          "base_uri": "https://localhost:8080/"
        },
        "id": "czVuU6aw0_Yn",
        "outputId": "ad557f5d-b2a0-4983-d251-c77c0b7c7a89"
      },
      "execution_count": null,
      "outputs": [
        {
          "output_type": "execute_result",
          "data": {
            "text/plain": [
              "{1: 0, 2: 0, 3: 0, 4: 0, 5: 0, 6: 0, 7: 0, 8: 0, 9: 0, 10: 0, 11: 0, 12: 0}"
            ]
          },
          "metadata": {},
          "execution_count": 46
        }
      ]
    },
    {
      "cell_type": "code",
      "source": [
        "#Q38\n",
        "import random\n",
        "\n",
        "res=[i for i in range(1,13)]\n",
        "k=random.shuffle(res)\n",
        "k"
      ],
      "metadata": {
        "id": "S3GJcY9x1cav"
      },
      "execution_count": null,
      "outputs": []
    },
    {
      "cell_type": "code",
      "source": [
        "#Q39\n",
        "temp=[i for i in range(1,11)]\n",
        "res=[]\n",
        "prod=1\n",
        "\n",
        "for i in  temp :\n",
        "  prod=prod*i\n",
        "  res.append(prod)\n",
        "res"
      ],
      "metadata": {
        "colab": {
          "base_uri": "https://localhost:8080/"
        },
        "id": "MLUeeAo92XKm",
        "outputId": "b148f234-f5f4-483d-b9dc-9386b833eb9b"
      },
      "execution_count": null,
      "outputs": [
        {
          "output_type": "execute_result",
          "data": {
            "text/plain": [
              "[1, 2, 6, 24, 120, 720, 5040, 40320, 362880, 3628800]"
            ]
          },
          "metadata": {},
          "execution_count": 57
        }
      ]
    },
    {
      "cell_type": "code",
      "source": [
        "#Q40\n",
        "temp1=[1,2,3,4]\n",
        "temp2=[4,5,6,7]\n",
        "res=0\n",
        "for i in temp1:\n",
        "  if i in temp2:\n",
        "    res=1\n",
        "if res==1:\n",
        "  print(True)\n",
        "else:\n",
        "  print(False)"
      ],
      "metadata": {
        "colab": {
          "base_uri": "https://localhost:8080/"
        },
        "id": "vvLOz2tq3F3P",
        "outputId": "23ebb358-3608-4006-e089-b66374bcdad7"
      },
      "execution_count": null,
      "outputs": [
        {
          "output_type": "stream",
          "name": "stdout",
          "text": [
            "True\n"
          ]
        }
      ]
    },
    {
      "cell_type": "code",
      "source": [
        "#Q41\n",
        "temp=[i for i in range(1,5)]\n",
        "for i in range(len(temp)):\n",
        "  temp.pop()\n",
        "\n",
        "temp"
      ],
      "metadata": {
        "colab": {
          "base_uri": "https://localhost:8080/"
        },
        "id": "vMgIdLNe4eDW",
        "outputId": "0e5488f8-5503-4ca5-8703-80faddac99e1"
      },
      "execution_count": null,
      "outputs": [
        {
          "output_type": "execute_result",
          "data": {
            "text/plain": [
              "[]"
            ]
          },
          "metadata": {},
          "execution_count": 64
        }
      ]
    },
    {
      "cell_type": "code",
      "source": [
        "#Q42\n",
        "temp=[-1,-2,3,4,5]\n",
        "for i in temp:\n",
        "  if i <0:\n",
        "    temp[temp.index(i)]=0\n",
        "temp"
      ],
      "metadata": {
        "colab": {
          "base_uri": "https://localhost:8080/"
        },
        "id": "MrV4p80M4ta3",
        "outputId": "69b766fb-21c1-46a0-cbe2-87d7d78dfcd6"
      },
      "execution_count": null,
      "outputs": [
        {
          "output_type": "execute_result",
          "data": {
            "text/plain": [
              "[0, 0, 3, 4, 5]"
            ]
          },
          "metadata": {},
          "execution_count": 65
        }
      ]
    },
    {
      "cell_type": "code",
      "source": [
        "#Q43\n",
        "s='poop'\n",
        "res=[i for i in s]\n",
        "res"
      ],
      "metadata": {
        "colab": {
          "base_uri": "https://localhost:8080/"
        },
        "id": "2manBQDz92Ek",
        "outputId": "ebcc1252-2fa5-426f-cdd0-b8501a88da57"
      },
      "execution_count": null,
      "outputs": [
        {
          "output_type": "execute_result",
          "data": {
            "text/plain": [
              "['p', 'o', 'o', 'p']"
            ]
          },
          "metadata": {},
          "execution_count": 66
        }
      ]
    },
    {
      "cell_type": "code",
      "source": [
        "#Q44\n",
        "temp=['i','love','feet']\n",
        "res=\" \".join(temp)\n",
        "res"
      ],
      "metadata": {
        "colab": {
          "base_uri": "https://localhost:8080/",
          "height": 35
        },
        "id": "5RRH8VW698YT",
        "outputId": "b95f21b5-45eb-490f-cd32-c4bd746ab5d0"
      },
      "execution_count": null,
      "outputs": [
        {
          "output_type": "execute_result",
          "data": {
            "text/plain": [
              "'i love feet'"
            ],
            "application/vnd.google.colaboratory.intrinsic+json": {
              "type": "string"
            }
          },
          "metadata": {},
          "execution_count": 67
        }
      ]
    },
    {
      "cell_type": "code",
      "source": [
        "#Q45\n",
        "res=[]\n",
        "n=5\n",
        "prod=1\n",
        "while n>0:\n",
        "  prod=prod*2\n",
        "  res.append(prod)\n",
        "  n-=1\n",
        "\n",
        "res"
      ],
      "metadata": {
        "colab": {
          "base_uri": "https://localhost:8080/"
        },
        "id": "CuPoZSzX-GJU",
        "outputId": "9896cc93-3afe-4aaf-9f47-127e3ee52f8d"
      },
      "execution_count": null,
      "outputs": [
        {
          "output_type": "execute_result",
          "data": {
            "text/plain": [
              "[2, 4, 8, 16, 32]"
            ]
          },
          "metadata": {},
          "execution_count": 69
        }
      ]
    },
    {
      "cell_type": "code",
      "source": [
        "#Q46\n",
        "temp=['i','love','feets']\n",
        "max=''\n",
        "for i in temp:\n",
        "  if len(i)>len(max):\n",
        "    max=i\n",
        "\n",
        "max\n"
      ],
      "metadata": {
        "colab": {
          "base_uri": "https://localhost:8080/",
          "height": 35
        },
        "id": "Y6UM1i11-NcZ",
        "outputId": "ca771653-997f-4803-f88c-74c55f802245"
      },
      "execution_count": null,
      "outputs": [
        {
          "output_type": "execute_result",
          "data": {
            "text/plain": [
              "'feets'"
            ],
            "application/vnd.google.colaboratory.intrinsic+json": {
              "type": "string"
            }
          },
          "metadata": {},
          "execution_count": 72
        }
      ]
    },
    {
      "cell_type": "code",
      "source": [
        "#Q47\n",
        "temp=['i','love','feets']\n",
        "min=temp[0]\n",
        "for i in temp:\n",
        "  if len(i)<len(min):\n",
        "    min=i\n",
        "\n",
        "min\n",
        "\n"
      ],
      "metadata": {
        "colab": {
          "base_uri": "https://localhost:8080/",
          "height": 35
        },
        "id": "6cFzhdTd-2ic",
        "outputId": "ebaec5ff-476f-4eed-ed07-cc98580d1c86"
      },
      "execution_count": null,
      "outputs": [
        {
          "output_type": "execute_result",
          "data": {
            "text/plain": [
              "'i'"
            ],
            "application/vnd.google.colaboratory.intrinsic+json": {
              "type": "string"
            }
          },
          "metadata": {},
          "execution_count": 74
        }
      ]
    },
    {
      "cell_type": "code",
      "source": [
        "#Q48\n",
        "n=3\n",
        "\n",
        "numbers = []\n",
        "\n",
        "for i in range(1, n + 1):\n",
        "    triangular_number = i * (i + 1) // 2\n",
        "    numbers .append(triangular_number)\n",
        "\n",
        "numbers\n",
        "\n"
      ],
      "metadata": {
        "colab": {
          "base_uri": "https://localhost:8080/"
        },
        "id": "dNy07WAu_Gvj",
        "outputId": "ab4060c4-0612-4cc5-f384-c8965e357222"
      },
      "execution_count": null,
      "outputs": [
        {
          "output_type": "execute_result",
          "data": {
            "text/plain": [
              "[1, 3, 6]"
            ]
          },
          "metadata": {},
          "execution_count": 76
        }
      ]
    },
    {
      "cell_type": "code",
      "source": [
        "#Q49\n",
        "temp1=[[1,2],3,4]\n",
        "temp2=[1,2]\n",
        "if temp2 in temp1:\n",
        "  print(True)\n"
      ],
      "metadata": {
        "id": "HEYcRv9TAGCT"
      },
      "execution_count": null,
      "outputs": []
    },
    {
      "cell_type": "code",
      "source": [
        "#Q50\n",
        "temp1=[1,2,3,4,5]\n",
        "\n",
        "#Swapping 1 and 4\n",
        "l=temp1.index(4)\n",
        "temp1[temp1.index(1)]=4\n",
        "temp1[l]=1\n",
        "temp1\n"
      ],
      "metadata": {
        "colab": {
          "base_uri": "https://localhost:8080/"
        },
        "id": "BUJ0nyxmAVqC",
        "outputId": "cc78bd5d-cbd7-49d2-9052-ad469a2dc967"
      },
      "execution_count": null,
      "outputs": [
        {
          "output_type": "execute_result",
          "data": {
            "text/plain": [
              "[4, 2, 3, 1, 5]"
            ]
          },
          "metadata": {},
          "execution_count": 80
        }
      ]
    },
    {
      "cell_type": "code",
      "source": [
        "'''\n",
        "WHY ARE THERE SO MANY QUESTIONS\n",
        "'''"
      ],
      "metadata": {
        "colab": {
          "base_uri": "https://localhost:8080/",
          "height": 35
        },
        "id": "wOoJbdN6A1VT",
        "outputId": "329c576e-8a0f-4064-ec71-68dc87ffd53a"
      },
      "execution_count": null,
      "outputs": [
        {
          "output_type": "execute_result",
          "data": {
            "text/plain": [
              "'\\nWHY ARE THERE SO MANY QUESTIONS\\n'"
            ],
            "application/vnd.google.colaboratory.intrinsic+json": {
              "type": "string"
            }
          },
          "metadata": {},
          "execution_count": 81
        }
      ]
    },
    {
      "cell_type": "code",
      "source": [
        "###Tuple Based"
      ],
      "metadata": {
        "id": "RRRhch8FA_tC"
      },
      "execution_count": null,
      "outputs": []
    },
    {
      "cell_type": "code",
      "source": [
        "#Q1\n",
        "temp=tuple(range(1,6))\n",
        "temp"
      ],
      "metadata": {
        "colab": {
          "base_uri": "https://localhost:8080/"
        },
        "id": "AcTlM_RqBDJs",
        "outputId": "a3fb7732-6a1b-4fb9-da90-0f5409e853cd"
      },
      "execution_count": null,
      "outputs": [
        {
          "output_type": "execute_result",
          "data": {
            "text/plain": [
              "(1, 2, 3, 4, 5)"
            ]
          },
          "metadata": {},
          "execution_count": 88
        }
      ]
    },
    {
      "cell_type": "code",
      "source": [
        "#Q2\n",
        "temp=tuple(range(1,6))\n",
        "temp[2]"
      ],
      "metadata": {
        "colab": {
          "base_uri": "https://localhost:8080/"
        },
        "id": "6-Y8eF0wBJOT",
        "outputId": "6a134114-60bc-46b6-c072-cbe6c7259cad"
      },
      "execution_count": null,
      "outputs": [
        {
          "output_type": "execute_result",
          "data": {
            "text/plain": [
              "3"
            ]
          },
          "metadata": {},
          "execution_count": 89
        }
      ]
    },
    {
      "cell_type": "code",
      "source": [
        "#Q3\n",
        "temp=tuple(range(1,6))\n",
        "count=0\n",
        "for i in temp:\n",
        "  count+=1\n",
        "count"
      ],
      "metadata": {
        "colab": {
          "base_uri": "https://localhost:8080/"
        },
        "id": "f1LSzUg4EYvi",
        "outputId": "19c99034-cce1-4053-c8bb-9d2dedee71f6"
      },
      "execution_count": null,
      "outputs": [
        {
          "output_type": "execute_result",
          "data": {
            "text/plain": [
              "5"
            ]
          },
          "metadata": {},
          "execution_count": 90
        }
      ]
    },
    {
      "cell_type": "code",
      "source": [
        "#Q4\n",
        "from collections import Counter\n",
        "temp=tuple(range(1,6))\n",
        "temp=list(temp)\n",
        "res=Counter(temp)\n",
        "res"
      ],
      "metadata": {
        "colab": {
          "base_uri": "https://localhost:8080/"
        },
        "id": "0fY0MRKLEh1q",
        "outputId": "f86e5abf-ce18-4f42-fe5f-c0b811ae07c1"
      },
      "execution_count": null,
      "outputs": [
        {
          "output_type": "execute_result",
          "data": {
            "text/plain": [
              "Counter({1: 1, 2: 1, 3: 1, 4: 1, 5: 1})"
            ]
          },
          "metadata": {},
          "execution_count": 94
        }
      ]
    },
    {
      "cell_type": "code",
      "source": [
        "#Q5\n",
        "temp=(1,2,3,2,5)\n",
        "temp.index(2)\n"
      ],
      "metadata": {
        "colab": {
          "base_uri": "https://localhost:8080/"
        },
        "id": "IQnwE4e2EvJK",
        "outputId": "22ec1bbc-2612-497f-a5b4-2d614f1508ad"
      },
      "execution_count": null,
      "outputs": [
        {
          "output_type": "execute_result",
          "data": {
            "text/plain": [
              "1"
            ]
          },
          "metadata": {},
          "execution_count": 95
        }
      ]
    },
    {
      "cell_type": "code",
      "source": [
        "#Q6\n",
        "temp=(1,2,3,2,5)\n",
        "if 3 in temp:\n",
        "  print(True)\n",
        "else:\n",
        "  print(False)"
      ],
      "metadata": {
        "colab": {
          "base_uri": "https://localhost:8080/"
        },
        "id": "h7W0f2JQFyeB",
        "outputId": "f125664f-08eb-49c6-a6b0-536182e0f22f"
      },
      "execution_count": null,
      "outputs": [
        {
          "output_type": "stream",
          "name": "stdout",
          "text": [
            "True\n"
          ]
        }
      ]
    },
    {
      "cell_type": "code",
      "source": [
        "#Q7\n",
        "temp=tuple(range(1,6))\n",
        "temp=list(temp)\n",
        "type(temp)"
      ],
      "metadata": {
        "colab": {
          "base_uri": "https://localhost:8080/"
        },
        "id": "34PInHu3F5pp",
        "outputId": "b945875e-53cb-4c05-a849-7be5a829a8f4"
      },
      "execution_count": null,
      "outputs": [
        {
          "output_type": "execute_result",
          "data": {
            "text/plain": [
              "list"
            ]
          },
          "metadata": {},
          "execution_count": 98
        }
      ]
    },
    {
      "cell_type": "code",
      "source": [
        "#Q8\n",
        "temp=[i for i in range(1,3)]\n",
        "temp=tuple(temp)\n",
        "type(temp)"
      ],
      "metadata": {
        "colab": {
          "base_uri": "https://localhost:8080/"
        },
        "id": "JBKS9NQSGS1h",
        "outputId": "cdbd070f-9e4f-410d-98bc-6b8e4134378c"
      },
      "execution_count": null,
      "outputs": [
        {
          "output_type": "execute_result",
          "data": {
            "text/plain": [
              "tuple"
            ]
          },
          "metadata": {},
          "execution_count": 99
        }
      ]
    },
    {
      "cell_type": "code",
      "source": [
        "#Q9\n",
        "temp=(1,2)\n",
        "x,y=temp[0],temp[1]\n"
      ],
      "metadata": {
        "id": "zP2u_gp4Gbyp"
      },
      "execution_count": null,
      "outputs": []
    },
    {
      "cell_type": "code",
      "source": [
        "#Q10\n",
        "temp=tuple(range(2,11,2))\n",
        "temp"
      ],
      "metadata": {
        "colab": {
          "base_uri": "https://localhost:8080/"
        },
        "id": "uNM0_GHSHA3p",
        "outputId": "adbeef97-75b2-47ef-eb6d-f4fc8a6effe5"
      },
      "execution_count": null,
      "outputs": [
        {
          "output_type": "execute_result",
          "data": {
            "text/plain": [
              "(2, 4, 6, 8, 10)"
            ]
          },
          "metadata": {},
          "execution_count": 102
        }
      ]
    },
    {
      "cell_type": "code",
      "source": [
        "#Q11\n",
        "temp=tuple(range(1,11,2))\n",
        "temp"
      ],
      "metadata": {
        "colab": {
          "base_uri": "https://localhost:8080/"
        },
        "id": "9w_bn-FwHKCQ",
        "outputId": "45565d83-9622-4f6c-be73-8038ec9cf9ce"
      },
      "execution_count": null,
      "outputs": [
        {
          "output_type": "execute_result",
          "data": {
            "text/plain": [
              "(1, 3, 5, 7, 9)"
            ]
          },
          "metadata": {},
          "execution_count": 103
        }
      ]
    },
    {
      "cell_type": "code",
      "source": [
        "#Q12\n",
        "temp=tuple(range(1,11,2))\n",
        "temp1=tuple(range(1,11,3))\n",
        "temp+temp1"
      ],
      "metadata": {
        "id": "4l57ucUuHNwo",
        "colab": {
          "base_uri": "https://localhost:8080/"
        },
        "outputId": "5196f9bf-4712-4a7a-8d32-3d5afc55d73a"
      },
      "execution_count": null,
      "outputs": [
        {
          "output_type": "execute_result",
          "data": {
            "text/plain": [
              "(1, 3, 5, 7, 9, 1, 4, 7, 10)"
            ]
          },
          "metadata": {},
          "execution_count": 1
        }
      ]
    },
    {
      "cell_type": "code",
      "source": [
        "#Q13\n",
        "temp=tuple(range(1,11,2))\n",
        "temp=temp*3\n",
        "temp"
      ],
      "metadata": {
        "colab": {
          "base_uri": "https://localhost:8080/"
        },
        "id": "lP-1pPbrnuaE",
        "outputId": "17b99cbd-3538-486d-e766-11f57998aa32"
      },
      "execution_count": null,
      "outputs": [
        {
          "output_type": "execute_result",
          "data": {
            "text/plain": [
              "(1, 3, 5, 7, 9, 1, 3, 5, 7, 9, 1, 3, 5, 7, 9)"
            ]
          },
          "metadata": {},
          "execution_count": 2
        }
      ]
    },
    {
      "cell_type": "code",
      "source": [
        "#Q14\n",
        "temp=tuple(range(1,11,2))\n",
        "\n",
        "if temp:\n",
        "  print(True)\n",
        "else:\n",
        "  print(False)\n"
      ],
      "metadata": {
        "colab": {
          "base_uri": "https://localhost:8080/"
        },
        "id": "CMcz2LYyoBMr",
        "outputId": "705c42ed-9518-479b-f94a-0349c8ad1ad3"
      },
      "execution_count": null,
      "outputs": [
        {
          "output_type": "stream",
          "name": "stdout",
          "text": [
            "True\n"
          ]
        }
      ]
    },
    {
      "cell_type": "code",
      "source": [
        "#Q15\n",
        "temp=(1,2,3,(4,5))\n",
        "temp"
      ],
      "metadata": {
        "colab": {
          "base_uri": "https://localhost:8080/"
        },
        "id": "RF1TTQxpohw6",
        "outputId": "737b48d1-3aa2-4e67-db0a-e7cb5dd789ad"
      },
      "execution_count": null,
      "outputs": [
        {
          "output_type": "execute_result",
          "data": {
            "text/plain": [
              "(1, 2, 3, (4, 5))"
            ]
          },
          "metadata": {},
          "execution_count": 9
        }
      ]
    },
    {
      "cell_type": "code",
      "source": [
        "#Q16\n",
        "temp=(1,2,3,(4,5))\n",
        "temp[3][0]"
      ],
      "metadata": {
        "colab": {
          "base_uri": "https://localhost:8080/"
        },
        "id": "g9rRrujPpL3K",
        "outputId": "303ab6a1-f4e2-4a18-a165-f2c5ecaffe9c"
      },
      "execution_count": null,
      "outputs": [
        {
          "output_type": "execute_result",
          "data": {
            "text/plain": [
              "4"
            ]
          },
          "metadata": {},
          "execution_count": 10
        }
      ]
    },
    {
      "cell_type": "code",
      "source": [
        "#Q17\n",
        "temp=(5)\n",
        "temp"
      ],
      "metadata": {
        "colab": {
          "base_uri": "https://localhost:8080/"
        },
        "id": "B9mo1JWnpZUy",
        "outputId": "95370c60-aa5a-4f21-a4a3-ba1e99ff1ce2"
      },
      "execution_count": null,
      "outputs": [
        {
          "output_type": "execute_result",
          "data": {
            "text/plain": [
              "5"
            ]
          },
          "metadata": {},
          "execution_count": 11
        }
      ]
    },
    {
      "cell_type": "code",
      "source": [
        "#Q18\n",
        "temp2=(1,2,3,(4,5))\n",
        "temp1=(1,2,3,(4,5))\n",
        "if temp1==temp2:\n",
        "  print(True)\n",
        "else:\n",
        "  print(False)"
      ],
      "metadata": {
        "colab": {
          "base_uri": "https://localhost:8080/"
        },
        "id": "j-w--NRRptvK",
        "outputId": "31addecc-d901-40a1-a28c-4370c989b01b"
      },
      "execution_count": null,
      "outputs": [
        {
          "output_type": "stream",
          "name": "stdout",
          "text": [
            "True\n"
          ]
        }
      ]
    },
    {
      "cell_type": "code",
      "source": [
        "#Q19\n",
        "temp2=(1,2,3,(4,5))\n",
        "del temp2\n"
      ],
      "metadata": {
        "id": "CllFdS-op85y"
      },
      "execution_count": null,
      "outputs": []
    },
    {
      "cell_type": "code",
      "source": [
        "#Q20\n",
        "temp1=(1,2,3,(4,5))\n",
        "temp2=temp1[1:3]\n",
        "temp2\n"
      ],
      "metadata": {
        "colab": {
          "base_uri": "https://localhost:8080/"
        },
        "id": "AwF5mzJKqQw9",
        "outputId": "78c505d9-ece3-494e-c34a-faea3c82eb65"
      },
      "execution_count": null,
      "outputs": [
        {
          "output_type": "execute_result",
          "data": {
            "text/plain": [
              "(2, 3)"
            ]
          },
          "metadata": {},
          "execution_count": 14
        }
      ]
    },
    {
      "cell_type": "code",
      "source": [
        "#Q21\n",
        "temp1=(1,2,3)\n",
        "max(temp1)\n",
        "\n",
        "\n"
      ],
      "metadata": {
        "colab": {
          "base_uri": "https://localhost:8080/"
        },
        "id": "2VDLvivtqXGq",
        "outputId": "fff7a4c4-5488-4fd1-e9e4-3a661b03ac7a"
      },
      "execution_count": null,
      "outputs": [
        {
          "output_type": "execute_result",
          "data": {
            "text/plain": [
              "3"
            ]
          },
          "metadata": {},
          "execution_count": 21
        }
      ]
    },
    {
      "cell_type": "code",
      "source": [
        "#Q22\n",
        "temp1=(1,2,3)\n",
        "min(temp1)"
      ],
      "metadata": {
        "colab": {
          "base_uri": "https://localhost:8080/"
        },
        "id": "eJVyS4KPqtHa",
        "outputId": "4ffb9e96-c335-461e-a575-5a2bd3337257"
      },
      "execution_count": null,
      "outputs": [
        {
          "output_type": "execute_result",
          "data": {
            "text/plain": [
              "1"
            ]
          },
          "metadata": {},
          "execution_count": 22
        }
      ]
    },
    {
      "cell_type": "code",
      "source": [
        "#Q23\n",
        "s='poop'\n",
        "k=[]\n",
        "for i in s:\n",
        "  k.append(i)\n",
        "\n",
        "res=tuple(k)\n",
        "res"
      ],
      "metadata": {
        "colab": {
          "base_uri": "https://localhost:8080/"
        },
        "id": "nG8CE6jIq1t6",
        "outputId": "3afcc967-2a1e-48ef-c2f8-5f94ca466cef"
      },
      "execution_count": null,
      "outputs": [
        {
          "output_type": "execute_result",
          "data": {
            "text/plain": [
              "('p', 'o', 'o', 'p')"
            ]
          },
          "metadata": {},
          "execution_count": 25
        }
      ]
    },
    {
      "cell_type": "code",
      "source": [
        "#Q24\n",
        "temp=('p','o','o','p')\n",
        "res=''\n",
        "for i in temp:\n",
        "  res=res+i\n",
        "res"
      ],
      "metadata": {
        "colab": {
          "base_uri": "https://localhost:8080/",
          "height": 35
        },
        "id": "zpiGMPlnrR8x",
        "outputId": "f771f115-5539-4475-a611-92dc88c2bd70"
      },
      "execution_count": null,
      "outputs": [
        {
          "output_type": "execute_result",
          "data": {
            "text/plain": [
              "'poop'"
            ],
            "application/vnd.google.colaboratory.intrinsic+json": {
              "type": "string"
            }
          },
          "metadata": {},
          "execution_count": 26
        }
      ]
    },
    {
      "cell_type": "code",
      "source": [
        "#Q25\n",
        "x=1\n",
        "y='s'\n",
        "z=[1]\n",
        "res=(x,y,z)\n",
        "res"
      ],
      "metadata": {
        "colab": {
          "base_uri": "https://localhost:8080/"
        },
        "id": "rNQCSvQvr17r",
        "outputId": "b72443dc-0702-4842-bb42-9feed3e883f2"
      },
      "execution_count": null,
      "outputs": [
        {
          "output_type": "execute_result",
          "data": {
            "text/plain": [
              "(1, 's', [1])"
            ]
          },
          "metadata": {},
          "execution_count": 1
        }
      ]
    },
    {
      "cell_type": "code",
      "source": [
        "#Q26\n",
        "temp1=tuple(range(1,4))\n",
        "temp2=tuple(range(1,4))\n",
        "if temp1==temp2:\n",
        "  print(True)"
      ],
      "metadata": {
        "colab": {
          "base_uri": "https://localhost:8080/"
        },
        "id": "wn89l5SpfJFJ",
        "outputId": "22109ac0-bbc9-4949-e68d-a5a6bc133ba3"
      },
      "execution_count": null,
      "outputs": [
        {
          "output_type": "stream",
          "name": "stdout",
          "text": [
            "True\n"
          ]
        }
      ]
    },
    {
      "cell_type": "code",
      "source": [
        "#Q27\n",
        "temp1=(5,3,2,1)\n",
        "temp1=sorted(temp1)\n",
        "temp1"
      ],
      "metadata": {
        "colab": {
          "base_uri": "https://localhost:8080/"
        },
        "id": "Dk3qw4PmfUnR",
        "outputId": "621a1e03-fc02-42ed-f592-425d8ae0cc5d"
      },
      "execution_count": null,
      "outputs": [
        {
          "output_type": "execute_result",
          "data": {
            "text/plain": [
              "[1, 2, 3, 5]"
            ]
          },
          "metadata": {},
          "execution_count": 4
        }
      ]
    },
    {
      "cell_type": "code",
      "source": [
        "#Q28\n",
        "temp1=list((5,3,2,1))\n",
        "for i in temp1:\n",
        "  k=  temp1.pop(0)\n",
        "\n",
        "  temp1.append(str(k))\n",
        "\n",
        "temp1"
      ],
      "metadata": {
        "colab": {
          "base_uri": "https://localhost:8080/"
        },
        "id": "cFqKUWuHgV66",
        "outputId": "de95211f-fe22-4c64-b841-8e29b1887082"
      },
      "execution_count": null,
      "outputs": [
        {
          "output_type": "execute_result",
          "data": {
            "text/plain": [
              "['5', '3', '2', '1']"
            ]
          },
          "metadata": {},
          "execution_count": 7
        }
      ]
    },
    {
      "cell_type": "code",
      "source": [
        "#Q29\n",
        "temp1=list(('5','3','2','1'))\n",
        "for i in temp1:\n",
        "  k=  temp1.pop(0)\n",
        "\n",
        "  temp1.append(int(k))\n",
        "\n",
        "temp1\n",
        "\n",
        "\n"
      ],
      "metadata": {
        "colab": {
          "base_uri": "https://localhost:8080/"
        },
        "id": "8qQvMVCoflaC",
        "outputId": "2337345a-5991-4fa5-f023-6fc74361c5a1"
      },
      "execution_count": null,
      "outputs": [
        {
          "output_type": "execute_result",
          "data": {
            "text/plain": [
              "[5, 3, 2, 1]"
            ]
          },
          "metadata": {},
          "execution_count": 6
        }
      ]
    },
    {
      "cell_type": "code",
      "source": [
        "#Q30\n",
        "temp1=(5,3,2,1)\n",
        "temp2=(3,2,1)\n",
        "temp1+temp2\n"
      ],
      "metadata": {
        "colab": {
          "base_uri": "https://localhost:8080/"
        },
        "id": "29pz8_27gx8Q",
        "outputId": "0a1b871c-bda4-4170-9f3d-bdb42e4a2f17"
      },
      "execution_count": null,
      "outputs": [
        {
          "output_type": "execute_result",
          "data": {
            "text/plain": [
              "(5, 3, 2, 1, 3, 2, 1)"
            ]
          },
          "metadata": {},
          "execution_count": 8
        }
      ]
    },
    {
      "cell_type": "code",
      "source": [
        "#Q32\n",
        "prime_numbers = (2, 3, 5, 7, 11)\n",
        "\n",
        "prime_numbers\n"
      ],
      "metadata": {
        "colab": {
          "base_uri": "https://localhost:8080/"
        },
        "id": "t3qhikk4g-vQ",
        "outputId": "53e9ebce-2eeb-4d42-ac58-eee7b355b345"
      },
      "execution_count": null,
      "outputs": [
        {
          "output_type": "execute_result",
          "data": {
            "text/plain": [
              "(2, 3, 5, 7, 11)"
            ]
          },
          "metadata": {},
          "execution_count": 13
        }
      ]
    },
    {
      "cell_type": "code",
      "source": [
        "#Q33\n",
        "temp1=(5,3,2,1)\n",
        "if temp1==temp1[::-1]:\n",
        "  print(True)\n",
        "else:\n",
        "  print(False)"
      ],
      "metadata": {
        "colab": {
          "base_uri": "https://localhost:8080/"
        },
        "id": "ixHiedjBiGrT",
        "outputId": "7182194a-a605-41a5-bd24-bf7211420ae0"
      },
      "execution_count": null,
      "outputs": [
        {
          "output_type": "stream",
          "name": "stdout",
          "text": [
            "False\n"
          ]
        }
      ]
    },
    {
      "cell_type": "code",
      "source": [
        "#Q34\n",
        "res=tuple([i*i for i in range(1,6)])\n",
        "res"
      ],
      "metadata": {
        "colab": {
          "base_uri": "https://localhost:8080/"
        },
        "id": "IesL_BwdjHX6",
        "outputId": "5b68f18b-9f93-4688-bc1a-a3cdd920de44"
      },
      "execution_count": null,
      "outputs": [
        {
          "output_type": "execute_result",
          "data": {
            "text/plain": [
              "(1, 4, 9, 16, 25)"
            ]
          },
          "metadata": {},
          "execution_count": 15
        }
      ]
    },
    {
      "cell_type": "code",
      "source": [
        "#Q35\n",
        "res=list((1,2,3,4))\n",
        "for i in res:\n",
        "  if i%2==0:\n",
        "    res.remove(i)\n",
        "tuple(res)"
      ],
      "metadata": {
        "colab": {
          "base_uri": "https://localhost:8080/"
        },
        "id": "KQwsS-LqjR8p",
        "outputId": "ccc24286-51e6-4fe0-c6de-743e883f993b"
      },
      "execution_count": null,
      "outputs": [
        {
          "output_type": "execute_result",
          "data": {
            "text/plain": [
              "(1, 3)"
            ]
          },
          "metadata": {},
          "execution_count": 18
        }
      ]
    },
    {
      "cell_type": "code",
      "source": [
        "#Q36\n",
        "res=(1,2,3,4)\n",
        "\n",
        "res=tuple([i*2 for i in  res])\n",
        "res"
      ],
      "metadata": {
        "colab": {
          "base_uri": "https://localhost:8080/"
        },
        "id": "ufGhMaU_j4O5",
        "outputId": "2ed829c3-e216-44ca-aa89-6584fa925679"
      },
      "execution_count": null,
      "outputs": [
        {
          "output_type": "execute_result",
          "data": {
            "text/plain": [
              "(2, 4, 6, 8)"
            ]
          },
          "metadata": {},
          "execution_count": 20
        }
      ]
    },
    {
      "cell_type": "code",
      "source": [
        "#Q37\n",
        "import random\n",
        "res=[]\n",
        "n=4\n",
        "while n>0:\n",
        "  n-=1\n",
        "  res.append(random.randint(1,50))\n",
        "\n",
        "tuple(res)\n"
      ],
      "metadata": {
        "colab": {
          "base_uri": "https://localhost:8080/"
        },
        "id": "gTTFlTo6kLny",
        "outputId": "e8b8619e-73e5-43b5-a5fa-36c241cd0f2f"
      },
      "execution_count": null,
      "outputs": [
        {
          "output_type": "execute_result",
          "data": {
            "text/plain": [
              "(36, 11, 6, 10)"
            ]
          },
          "metadata": {},
          "execution_count": 24
        }
      ]
    },
    {
      "cell_type": "code",
      "source": [
        "#Q38\n",
        "res=(1,2,4,3)\n",
        "if res==sorted(res):\n",
        "  print(True)\n",
        "else:\n",
        "  print(False)\n"
      ],
      "metadata": {
        "colab": {
          "base_uri": "https://localhost:8080/"
        },
        "id": "YiXEmNEsklrq",
        "outputId": "787795e5-a56a-4742-b21d-7a722b261b20"
      },
      "execution_count": null,
      "outputs": [
        {
          "output_type": "stream",
          "name": "stdout",
          "text": [
            "False\n"
          ]
        }
      ]
    },
    {
      "cell_type": "code",
      "source": [
        "#Q39\n",
        "res=[i for i in range(1,11)]\n",
        "n=2\n",
        "while n>0:\n",
        "  k=res.pop(0)\n",
        "  res.append(k)\n",
        "  n-=1\n",
        "tuple(res)"
      ],
      "metadata": {
        "colab": {
          "base_uri": "https://localhost:8080/"
        },
        "id": "m1yn11Avk25K",
        "outputId": "a4cc9b38-5178-4906-a0fb-4d39dff90844"
      },
      "execution_count": null,
      "outputs": [
        {
          "output_type": "execute_result",
          "data": {
            "text/plain": [
              "(3, 4, 5, 6, 7, 8, 9, 10, 1, 2)"
            ]
          },
          "metadata": {},
          "execution_count": 29
        }
      ]
    },
    {
      "cell_type": "code",
      "source": [
        "#Q40\n",
        "res=[i for i in range(1,11)]\n",
        "n=2\n",
        "new=[]\n",
        "while n>0:\n",
        "  k=res.pop(-1)\n",
        "  new.append(k)\n",
        "  n-=1\n",
        "res=new+res\n",
        "tuple(res)"
      ],
      "metadata": {
        "colab": {
          "base_uri": "https://localhost:8080/"
        },
        "id": "wYE0esCXleED",
        "outputId": "44008339-9879-4566-a1ef-53f8f5faf183"
      },
      "execution_count": null,
      "outputs": [
        {
          "output_type": "execute_result",
          "data": {
            "text/plain": [
              "(10, 9, 1, 2, 3, 4, 5, 6, 7, 8)"
            ]
          },
          "metadata": {},
          "execution_count": 30
        }
      ]
    },
    {
      "cell_type": "code",
      "source": [
        "#Q41\n",
        "fibonacci_sequence = [0, 1]\n",
        "\n",
        "for i in range(3):\n",
        "    next_number = fibonacci_sequence[-1] + fibonacci_sequence[-2]\n",
        "    fibonacci_sequence.append(next_number)\n",
        "\n",
        "res = fibonacci_sequence[:5]\n",
        "tuple(res)"
      ],
      "metadata": {
        "colab": {
          "base_uri": "https://localhost:8080/"
        },
        "id": "lcJSGOipljZ6",
        "outputId": "797289f8-a28b-4d94-bb09-ca1d0d3fe7f0"
      },
      "execution_count": null,
      "outputs": [
        {
          "output_type": "execute_result",
          "data": {
            "text/plain": [
              "(0, 1, 1, 2, 3)"
            ]
          },
          "metadata": {},
          "execution_count": 32
        }
      ]
    },
    {
      "cell_type": "code",
      "source": [
        "#Q42\n",
        "res=[]\n",
        "while True :\n",
        "  ip=input(\"Enter number: \")\n",
        "  if ip=='Out':\n",
        "    break\n",
        "  else:\n",
        "    res.append(ip)\n",
        "\n",
        "tuple(res)\n",
        "\n"
      ],
      "metadata": {
        "colab": {
          "base_uri": "https://localhost:8080/"
        },
        "id": "JkI8d2mCmIDi",
        "outputId": "1989bab9-683e-4394-e611-ca4f5bd1826b"
      },
      "execution_count": null,
      "outputs": [
        {
          "name": "stdout",
          "output_type": "stream",
          "text": [
            "Enter number: 3\n",
            "Enter number: 2\n",
            "Enter number: \n",
            "Enter number: \n",
            "Enter number: 1\n",
            "Enter number: Out\n"
          ]
        },
        {
          "output_type": "execute_result",
          "data": {
            "text/plain": [
              "('3', '2', '', '', '1')"
            ]
          },
          "metadata": {},
          "execution_count": 35
        }
      ]
    },
    {
      "cell_type": "code",
      "source": [
        "#Q43\n",
        "res=[1,2,3]\n",
        "k=res.index(1)\n",
        "res[2]=1\n",
        "res[k]=3\n",
        "tuple(res)"
      ],
      "metadata": {
        "colab": {
          "base_uri": "https://localhost:8080/"
        },
        "id": "tNY3cXGQnMqk",
        "outputId": "0ee83a61-3231-432e-c6e2-e7e90b0a67a0"
      },
      "execution_count": null,
      "outputs": [
        {
          "output_type": "execute_result",
          "data": {
            "text/plain": [
              "[3, 2, 1]"
            ]
          },
          "metadata": {},
          "execution_count": 37
        }
      ]
    },
    {
      "cell_type": "code",
      "source": [
        "#Q44\n",
        "res=(1,2,3,4)\n",
        "res[::-1]\n"
      ],
      "metadata": {
        "colab": {
          "base_uri": "https://localhost:8080/"
        },
        "id": "W89UGNW5oZaS",
        "outputId": "c301f055-ebff-4f28-9470-bee342ac335f"
      },
      "execution_count": null,
      "outputs": [
        {
          "output_type": "execute_result",
          "data": {
            "text/plain": [
              "(4, 3, 2, 1)"
            ]
          },
          "metadata": {},
          "execution_count": 38
        }
      ]
    },
    {
      "cell_type": "code",
      "source": [
        "#Q45\n",
        "n=3\n",
        "res=[]\n",
        "prod=1\n",
        "while n>0:\n",
        "  prod=prod*2\n",
        "  n-=1\n",
        "  res.append(prod)\n",
        "\n",
        "tuple(res)"
      ],
      "metadata": {
        "colab": {
          "base_uri": "https://localhost:8080/"
        },
        "id": "5JFPWgl7op5L",
        "outputId": "ec033cfd-c19c-4bba-a7e7-47fca4d218be"
      },
      "execution_count": null,
      "outputs": [
        {
          "output_type": "execute_result",
          "data": {
            "text/plain": [
              "(2, 4, 8)"
            ]
          },
          "metadata": {},
          "execution_count": 39
        }
      ]
    },
    {
      "cell_type": "code",
      "source": [
        "#Q46\n",
        "temp=('ss','vnfnfnf','ndhduauna')\n",
        "max=''\n",
        "for i in temp:\n",
        "  if len(i)>len(max):\n",
        "    max=i\n",
        "\n",
        "max"
      ],
      "metadata": {
        "colab": {
          "base_uri": "https://localhost:8080/",
          "height": 35
        },
        "id": "AicMcZHlp7wf",
        "outputId": "3a9c43f5-4efd-4b32-98b6-1e6032568958"
      },
      "execution_count": null,
      "outputs": [
        {
          "output_type": "execute_result",
          "data": {
            "text/plain": [
              "'ndhduauna'"
            ],
            "application/vnd.google.colaboratory.intrinsic+json": {
              "type": "string"
            }
          },
          "metadata": {},
          "execution_count": 41
        }
      ]
    },
    {
      "cell_type": "code",
      "source": [
        "#Q47\n",
        "temp=('ss','vnfnfnf','ndhduauna')\n",
        "min=temp[0]\n",
        "for i in temp:\n",
        "  if len(i)<len(min):\n",
        "    min=i\n",
        "\n",
        "min"
      ],
      "metadata": {
        "colab": {
          "base_uri": "https://localhost:8080/",
          "height": 35
        },
        "id": "qSye66OKqpBS",
        "outputId": "0d4feb49-5a75-4de2-d5cd-06d4f5d42c08"
      },
      "execution_count": null,
      "outputs": [
        {
          "output_type": "execute_result",
          "data": {
            "text/plain": [
              "'ss'"
            ],
            "application/vnd.google.colaboratory.intrinsic+json": {
              "type": "string"
            }
          },
          "metadata": {},
          "execution_count": 42
        }
      ]
    },
    {
      "cell_type": "markdown",
      "source": [
        "###Set Based"
      ],
      "metadata": {
        "id": "GgEK1m1BrHFW"
      }
    },
    {
      "cell_type": "code",
      "source": [
        "#Q1\n",
        "res=set([i for i in  range(1,6)])\n",
        "res"
      ],
      "metadata": {
        "colab": {
          "base_uri": "https://localhost:8080/"
        },
        "id": "vgdaK4AUq6cs",
        "outputId": "cd6131e6-e4eb-4b7d-8a2a-18822a7daa20"
      },
      "execution_count": null,
      "outputs": [
        {
          "output_type": "execute_result",
          "data": {
            "text/plain": [
              "{1, 2, 3, 4, 5}"
            ]
          },
          "metadata": {},
          "execution_count": 44
        }
      ]
    },
    {
      "cell_type": "code",
      "source": [
        "#Q2\n",
        "res=set()\n",
        "res.add(1)\n",
        "res"
      ],
      "metadata": {
        "colab": {
          "base_uri": "https://localhost:8080/"
        },
        "id": "GVepv8dArViy",
        "outputId": "a3f83720-85ed-43d6-8770-a23a0ab47a7a"
      },
      "execution_count": null,
      "outputs": [
        {
          "output_type": "execute_result",
          "data": {
            "text/plain": [
              "{1}"
            ]
          },
          "metadata": {},
          "execution_count": 45
        }
      ]
    },
    {
      "cell_type": "code",
      "source": [
        "#Q3\n",
        "res={1,23}\n",
        "res.remove(1)\n",
        "res"
      ],
      "metadata": {
        "colab": {
          "base_uri": "https://localhost:8080/"
        },
        "id": "_38RXIZZrm95",
        "outputId": "e45b9ca7-b63d-407d-9b79-af9fa1ebdb98"
      },
      "execution_count": null,
      "outputs": [
        {
          "output_type": "execute_result",
          "data": {
            "text/plain": [
              "{23}"
            ]
          },
          "metadata": {},
          "execution_count": 49
        }
      ]
    },
    {
      "cell_type": "code",
      "source": [
        "#Q4\n",
        "res={1,23}\n",
        "if 1 in res:\n",
        "  print(True)\n",
        "else:\n",
        "  print(False)"
      ],
      "metadata": {
        "colab": {
          "base_uri": "https://localhost:8080/"
        },
        "id": "_uW02MvIruiq",
        "outputId": "5653f52c-b590-4747-9023-1919b741177b"
      },
      "execution_count": null,
      "outputs": [
        {
          "output_type": "stream",
          "name": "stdout",
          "text": [
            "True\n"
          ]
        }
      ]
    },
    {
      "cell_type": "code",
      "source": [
        "#Q5\n",
        "res={1,2,23}\n",
        "count=0\n",
        "for i in res:\n",
        "  count+=1\n",
        "count"
      ],
      "metadata": {
        "colab": {
          "base_uri": "https://localhost:8080/"
        },
        "id": "q6GhQlqUsM5h",
        "outputId": "9500cb90-3e3f-40cf-d53e-20f9a18311cc"
      },
      "execution_count": null,
      "outputs": [
        {
          "output_type": "execute_result",
          "data": {
            "text/plain": [
              "3"
            ]
          },
          "metadata": {},
          "execution_count": 51
        }
      ]
    },
    {
      "cell_type": "code",
      "source": [
        "#Q6\n",
        "res={1,2,23}\n",
        "res.clear()\n",
        "res\n"
      ],
      "metadata": {
        "colab": {
          "base_uri": "https://localhost:8080/"
        },
        "id": "fwfZGDEIsmcM",
        "outputId": "f7fcd0da-8cd2-4f5e-f4fe-b59e8630a20d"
      },
      "execution_count": null,
      "outputs": [
        {
          "output_type": "execute_result",
          "data": {
            "text/plain": [
              "set()"
            ]
          },
          "metadata": {},
          "execution_count": 55
        }
      ]
    },
    {
      "cell_type": "code",
      "source": [
        "#Q7\n",
        "res={i for i in range(2,10,2)}\n",
        "res"
      ],
      "metadata": {
        "colab": {
          "base_uri": "https://localhost:8080/"
        },
        "id": "vhBb1rdGsykC",
        "outputId": "526ce35f-04f0-48b0-ea73-fb244bd86c3c"
      },
      "execution_count": null,
      "outputs": [
        {
          "output_type": "execute_result",
          "data": {
            "text/plain": [
              "{2, 4, 6, 8}"
            ]
          },
          "metadata": {},
          "execution_count": 56
        }
      ]
    },
    {
      "cell_type": "code",
      "source": [
        "#Q8\n",
        "res={i for i in range(1,10,2)}\n",
        "res"
      ],
      "metadata": {
        "colab": {
          "base_uri": "https://localhost:8080/"
        },
        "id": "LDh0Ws6EtXBT",
        "outputId": "48223aca-bda1-4bb6-ad20-e39f081a39b4"
      },
      "execution_count": null,
      "outputs": [
        {
          "output_type": "execute_result",
          "data": {
            "text/plain": [
              "{1, 3, 5, 7, 9}"
            ]
          },
          "metadata": {},
          "execution_count": 57
        }
      ]
    },
    {
      "cell_type": "code",
      "source": [
        "#Q9\n",
        "temp1={1,2,3,4}\n",
        "temp2={4,5,6,7,8}\n",
        "res=set(temp1)\n",
        "for i in temp2:\n",
        "\n",
        "\n"
      ],
      "metadata": {
        "id": "dD8fFHj2vjbJ"
      },
      "execution_count": null,
      "outputs": []
    },
    {
      "cell_type": "code",
      "source": [
        "#Q10\n",
        "temp1={1,2,3,4}\n",
        "temp2={4,5,6,7,8}\n",
        "for i in temp2:\n",
        "  temp1.add(i)\n",
        "temp1"
      ],
      "metadata": {
        "colab": {
          "base_uri": "https://localhost:8080/"
        },
        "id": "4MZz-ThutiTC",
        "outputId": "004375b4-8a09-46ce-e411-133434ccb2a7"
      },
      "execution_count": null,
      "outputs": [
        {
          "output_type": "execute_result",
          "data": {
            "text/plain": [
              "{1, 2, 3, 4, 5, 6, 7, 8}"
            ]
          },
          "metadata": {},
          "execution_count": 63
        }
      ]
    },
    {
      "cell_type": "code",
      "source": [
        "#Q11\n",
        "temp1={1,2,3,4}\n",
        "temp2={1,2,3}\n",
        "temp1-temp2"
      ],
      "metadata": {
        "colab": {
          "base_uri": "https://localhost:8080/"
        },
        "id": "PvOiYeDOwJOs",
        "outputId": "6605d93b-d49b-4481-eacd-475a8f59fb52"
      },
      "execution_count": null,
      "outputs": [
        {
          "output_type": "execute_result",
          "data": {
            "text/plain": [
              "{4}"
            ]
          },
          "metadata": {},
          "execution_count": 66
        }
      ]
    },
    {
      "cell_type": "code",
      "source": [
        "#Q12\n",
        "temp1={1,2,3,4}\n",
        "temp2={2}\n",
        "if temp2.issubset(temp1):\n",
        "  print(True)\n",
        "else:\n",
        "  print(False)"
      ],
      "metadata": {
        "colab": {
          "base_uri": "https://localhost:8080/"
        },
        "id": "edqX_tJpxIz6",
        "outputId": "c4b96f1d-7f41-4d3c-a8ae-fc429b43fa2a"
      },
      "execution_count": null,
      "outputs": [
        {
          "output_type": "stream",
          "name": "stdout",
          "text": [
            "True\n"
          ]
        }
      ]
    },
    {
      "cell_type": "code",
      "source": [
        "#Q13\n",
        "temp1={1,2,3,4}\n",
        "temp2={2}\n",
        "if temp2.issuperset(temp1):\n",
        "  print(True)\n",
        "else:\n",
        "  print(False)"
      ],
      "metadata": {
        "colab": {
          "base_uri": "https://localhost:8080/"
        },
        "id": "i_0DDGlUxWSB",
        "outputId": "d8c6f257-8457-46fb-bd17-5de015a4acd5"
      },
      "execution_count": null,
      "outputs": [
        {
          "output_type": "stream",
          "name": "stdout",
          "text": [
            "False\n"
          ]
        }
      ]
    },
    {
      "cell_type": "code",
      "source": [
        "#Q14\n",
        "res=[1,2,3]\n",
        "set(res)"
      ],
      "metadata": {
        "colab": {
          "base_uri": "https://localhost:8080/"
        },
        "id": "NEFuh1pVyuDa",
        "outputId": "140e74c5-507f-4227-98e3-c5a1749ae68b"
      },
      "execution_count": null,
      "outputs": [
        {
          "output_type": "execute_result",
          "data": {
            "text/plain": [
              "{1, 2, 3}"
            ]
          },
          "metadata": {},
          "execution_count": 76
        }
      ]
    },
    {
      "cell_type": "code",
      "source": [
        "#Q15\n",
        "res={1,2,3}\n",
        "list(res)"
      ],
      "metadata": {
        "colab": {
          "base_uri": "https://localhost:8080/"
        },
        "id": "6sipzNtky0d6",
        "outputId": "dffd7a81-853b-4410-eea0-d4c49a19b703"
      },
      "execution_count": null,
      "outputs": [
        {
          "output_type": "execute_result",
          "data": {
            "text/plain": [
              "[1, 2, 3]"
            ]
          },
          "metadata": {},
          "execution_count": 77
        }
      ]
    },
    {
      "cell_type": "code",
      "source": [
        "#Q16\n",
        "temp=list({1,2,3,4,5})\n",
        "l=len(temp)\n",
        "temp.pop(random.randint(1,l))\n",
        "set(temp)"
      ],
      "metadata": {
        "colab": {
          "base_uri": "https://localhost:8080/"
        },
        "id": "_Zc-bb9My6Ni",
        "outputId": "46c3109e-2d0f-4a21-9452-34307161960f"
      },
      "execution_count": null,
      "outputs": [
        {
          "output_type": "execute_result",
          "data": {
            "text/plain": [
              "{1, 2, 3, 5}"
            ]
          },
          "metadata": {},
          "execution_count": 82
        }
      ]
    },
    {
      "cell_type": "code",
      "source": [
        "#Q17\n",
        "temp=list({1,2,3,4,5})\n",
        "l=len(temp)\n",
        "temp.pop(random.randint(1,l))\n",
        "set(temp)\n"
      ],
      "metadata": {
        "colab": {
          "base_uri": "https://localhost:8080/"
        },
        "id": "gffbJzYhzNxq",
        "outputId": "b9f1452a-2615-4001-bafe-aa55a5a319bb"
      },
      "execution_count": null,
      "outputs": [
        {
          "output_type": "execute_result",
          "data": {
            "text/plain": [
              "{1, 2, 3, 4}"
            ]
          },
          "metadata": {},
          "execution_count": 83
        }
      ]
    },
    {
      "cell_type": "code",
      "source": [
        "#Q18\n",
        "temp1={1,2,4}\n",
        "temp2={4,5,6}\n",
        "if temp2.isdisjoint(temp1):\n",
        "  print(\"Nothing\")\n",
        "else:\n",
        "  print(\"similar\")"
      ],
      "metadata": {
        "id": "wyaOyxwkzhIi",
        "colab": {
          "base_uri": "https://localhost:8080/"
        },
        "outputId": "a6aebdda-e1f6-4c7f-da93-f28257a92cd8"
      },
      "execution_count": null,
      "outputs": [
        {
          "output_type": "stream",
          "name": "stdout",
          "text": [
            "similar\n"
          ]
        }
      ]
    },
    {
      "cell_type": "code",
      "source": [
        "#Q19\n",
        "set1 = {1, 2, 3, 4, 5}\n",
        "set2 = {3, 4, 5, 6, 7}\n",
        "\n",
        "symmetric_diff = set1 ^ set2\n",
        "\n",
        "print(\"Symmetric Difference:\", symmetric_diff)\n"
      ],
      "metadata": {
        "id": "gOhUdyl94oFW",
        "colab": {
          "base_uri": "https://localhost:8080/"
        },
        "outputId": "39ab62b1-8a35-45bd-dea3-c5b575a1e2f6"
      },
      "execution_count": 7,
      "outputs": [
        {
          "output_type": "stream",
          "name": "stdout",
          "text": [
            "Symmetric Difference: {1, 2, 6, 7}\n"
          ]
        }
      ]
    },
    {
      "cell_type": "code",
      "source": [
        "#Q20\n",
        "temp={1,2,3}\n",
        "res={i for i in temp}\n",
        "res\n"
      ],
      "metadata": {
        "colab": {
          "base_uri": "https://localhost:8080/"
        },
        "id": "xpvlt9N7E6OO",
        "outputId": "c0abb24d-88d1-4634-ec7c-3fcc520dfe3e"
      },
      "execution_count": 8,
      "outputs": [
        {
          "output_type": "execute_result",
          "data": {
            "text/plain": [
              "{1, 2, 3}"
            ]
          },
          "metadata": {},
          "execution_count": 8
        }
      ]
    },
    {
      "cell_type": "code",
      "source": [
        "#Q21\n",
        "res={1,2,3,5,7}\n"
      ],
      "metadata": {
        "id": "279HN5E6FSzu"
      },
      "execution_count": 9,
      "outputs": []
    },
    {
      "cell_type": "code",
      "source": [
        "#Q22\n",
        "temp1={1,2,3}\n",
        "temp2={1,2,3}\n",
        "if temp1==temp2:\n",
        "  print(True)"
      ],
      "metadata": {
        "colab": {
          "base_uri": "https://localhost:8080/"
        },
        "id": "pL_gmUWGFhAs",
        "outputId": "a91fa546-4a1d-4d93-f6b5-465d83812381"
      },
      "execution_count": 11,
      "outputs": [
        {
          "output_type": "stream",
          "name": "stdout",
          "text": [
            "True\n"
          ]
        }
      ]
    },
    {
      "cell_type": "code",
      "source": [
        "#Q23\n",
        "res = frozenset([1, 2, 3, 4, 5])\n",
        "res"
      ],
      "metadata": {
        "colab": {
          "base_uri": "https://localhost:8080/"
        },
        "id": "DQzG37mBFohu",
        "outputId": "dd4728a6-015e-47bd-df9e-c061dcfe2634"
      },
      "execution_count": 12,
      "outputs": [
        {
          "output_type": "execute_result",
          "data": {
            "text/plain": [
              "frozenset({1, 2, 3, 4, 5})"
            ]
          },
          "metadata": {},
          "execution_count": 12
        }
      ]
    },
    {
      "cell_type": "code",
      "source": [
        "#Q24\n",
        "set1 = {1, 2, 3}\n",
        "set2 = {4, 5, 6}\n",
        "\n",
        "# Check if set1 and set2 are disjoint\n",
        "are_disjoint = set1.isdisjoint(set2)\n",
        "\n",
        "if are_disjoint:\n",
        "    print(\"set1 and set2 are disjoint\")\n",
        "else:\n",
        "    print(\"set1 and set2 are not disjoint\")\n"
      ],
      "metadata": {
        "colab": {
          "base_uri": "https://localhost:8080/"
        },
        "id": "j1uEY3GdF2md",
        "outputId": "3b2bacec-c3a9-4de7-b0a0-4208d28eab9f"
      },
      "execution_count": 15,
      "outputs": [
        {
          "output_type": "stream",
          "name": "stdout",
          "text": [
            "set1 and set2 are disjoint\n"
          ]
        }
      ]
    },
    {
      "cell_type": "code",
      "source": [
        "#Q25\n",
        "res={i*i for i in range(1,6) }\n",
        "res"
      ],
      "metadata": {
        "colab": {
          "base_uri": "https://localhost:8080/"
        },
        "id": "QT8NVVDDF9-E",
        "outputId": "4fe06a1e-c81e-4c98-fa93-26e2f20acccd"
      },
      "execution_count": 14,
      "outputs": [
        {
          "output_type": "execute_result",
          "data": {
            "text/plain": [
              "{1, 4, 9, 16, 25}"
            ]
          },
          "metadata": {},
          "execution_count": 14
        }
      ]
    },
    {
      "cell_type": "code",
      "source": [
        "#Q26\n",
        "set2 = {4, 5, 6}\n",
        "res={i for i in set2 if i%2!=0}\n",
        "res"
      ],
      "metadata": {
        "colab": {
          "base_uri": "https://localhost:8080/"
        },
        "id": "gFkzRibFGDbF",
        "outputId": "4f261f56-024e-4dc7-ced5-55a5eee9b7f5"
      },
      "execution_count": 17,
      "outputs": [
        {
          "output_type": "execute_result",
          "data": {
            "text/plain": [
              "{5}"
            ]
          },
          "metadata": {},
          "execution_count": 17
        }
      ]
    },
    {
      "cell_type": "code",
      "source": [
        "#Q27\n",
        "set2 = {4, 5, 6}\n",
        "res={i*2 for i in set2}\n",
        "res"
      ],
      "metadata": {
        "colab": {
          "base_uri": "https://localhost:8080/"
        },
        "id": "ULULpKbIGrmu",
        "outputId": "92118ac6-04c1-4ccd-da51-b325975a7fd7"
      },
      "execution_count": 18,
      "outputs": [
        {
          "output_type": "execute_result",
          "data": {
            "text/plain": [
              "{8, 10, 12}"
            ]
          },
          "metadata": {},
          "execution_count": 18
        }
      ]
    },
    {
      "cell_type": "code",
      "source": [
        "#Q28\n",
        "import random\n",
        "res={random.randint(1,50)  for i in range(1,6)}\n",
        "res"
      ],
      "metadata": {
        "colab": {
          "base_uri": "https://localhost:8080/"
        },
        "id": "ltY1vSv1HFUu",
        "outputId": "11a35f01-87c2-4846-be99-179080049eed"
      },
      "execution_count": 20,
      "outputs": [
        {
          "output_type": "execute_result",
          "data": {
            "text/plain": [
              "{7, 21, 30, 39, 46}"
            ]
          },
          "metadata": {},
          "execution_count": 20
        }
      ]
    },
    {
      "cell_type": "code",
      "source": [
        "#Q29\n",
        "temp={}\n",
        "if temp:\n",
        "  print(False)\n",
        "else:\n",
        "  print(True)"
      ],
      "metadata": {
        "colab": {
          "base_uri": "https://localhost:8080/"
        },
        "id": "9NsgZh8dHRxm",
        "outputId": "897c60e1-e159-46d4-e50d-45f9488c70be"
      },
      "execution_count": 21,
      "outputs": [
        {
          "output_type": "stream",
          "name": "stdout",
          "text": [
            "True\n"
          ]
        }
      ]
    },
    {
      "cell_type": "code",
      "source": [
        "#Q30\n",
        "set2 = {4, 5, 6}\n",
        "set2.discard(5)\n",
        "set2"
      ],
      "metadata": {
        "colab": {
          "base_uri": "https://localhost:8080/"
        },
        "id": "IaDVVxIxHcAW",
        "outputId": "e50784f0-a048-4d88-ed37-e07e8f798c36"
      },
      "execution_count": 22,
      "outputs": [
        {
          "output_type": "execute_result",
          "data": {
            "text/plain": [
              "{4, 6}"
            ]
          },
          "metadata": {},
          "execution_count": 22
        }
      ]
    },
    {
      "cell_type": "code",
      "source": [],
      "metadata": {
        "id": "wfz94LIsHv5l"
      },
      "execution_count": null,
      "outputs": []
    }
  ]
}