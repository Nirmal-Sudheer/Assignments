{
  "nbformat": 4,
  "nbformat_minor": 0,
  "metadata": {
    "colab": {
      "provenance": []
    },
    "kernelspec": {
      "name": "python3",
      "display_name": "Python 3"
    },
    "language_info": {
      "name": "python"
    }
  },
  "cells": [
    {
      "cell_type": "markdown",
      "source": [
        "###For Loop"
      ],
      "metadata": {
        "id": "_5K922JEI8Du"
      }
    },
    {
      "cell_type": "code",
      "source": [
        "#Q1\n",
        "for i in range(1,11):\n",
        "  print(i)"
      ],
      "metadata": {
        "colab": {
          "base_uri": "https://localhost:8080/"
        },
        "id": "M_74hURzI6ff",
        "outputId": "2b89da4e-71b8-4e2e-cccb-46bc0a45bb8a"
      },
      "execution_count": null,
      "outputs": [
        {
          "output_type": "stream",
          "name": "stdout",
          "text": [
            "1\n",
            "2\n",
            "3\n",
            "4\n",
            "5\n",
            "6\n",
            "7\n",
            "8\n",
            "9\n",
            "10\n"
          ]
        }
      ]
    },
    {
      "cell_type": "code",
      "source": [
        "#Q2\n",
        "temp=[1,2,3,4]\n",
        "count=0\n",
        "for i in temp:\n",
        "  count+=i\n",
        "count"
      ],
      "metadata": {
        "colab": {
          "base_uri": "https://localhost:8080/"
        },
        "id": "IHKfgFKwJHQV",
        "outputId": "3d68288f-8b2b-46c6-f70a-ecf615f0381d"
      },
      "execution_count": null,
      "outputs": [
        {
          "output_type": "execute_result",
          "data": {
            "text/plain": [
              "10"
            ]
          },
          "metadata": {},
          "execution_count": 6
        }
      ]
    },
    {
      "cell_type": "code",
      "source": [
        "#Q3\n",
        "txt='apples'\n",
        "for i in txt[::-1]:\n",
        "  print(i)\n"
      ],
      "metadata": {
        "colab": {
          "base_uri": "https://localhost:8080/"
        },
        "id": "3edIAjHrJVu8",
        "outputId": "c4773f37-728d-44ab-a66e-5c6e7e011cc5"
      },
      "execution_count": null,
      "outputs": [
        {
          "output_type": "stream",
          "name": "stdout",
          "text": [
            "s\n",
            "e\n",
            "l\n",
            "p\n",
            "p\n",
            "a\n"
          ]
        }
      ]
    },
    {
      "cell_type": "code",
      "source": [
        "#Q4\n",
        "n=5\n",
        "prod=1\n",
        "for i in range(1,n+1):\n",
        "  prod=prod*i\n",
        "prod"
      ],
      "metadata": {
        "colab": {
          "base_uri": "https://localhost:8080/"
        },
        "id": "L-VKM0tMJhid",
        "outputId": "cb6d6d42-7e95-42ba-e3fd-f032f4927ee3"
      },
      "execution_count": null,
      "outputs": [
        {
          "output_type": "execute_result",
          "data": {
            "text/plain": [
              "120"
            ]
          },
          "metadata": {},
          "execution_count": 9
        }
      ]
    },
    {
      "cell_type": "code",
      "source": [
        "#Q5\n",
        "nums=[1,2,3,4,5,6,7,8,9,10]\n",
        "nums1=7\n",
        "for i in nums:\n",
        "  prod=nums1*i\n",
        "  print(f\"7*{i}= {prod}\")"
      ],
      "metadata": {
        "colab": {
          "base_uri": "https://localhost:8080/"
        },
        "id": "LlrIMrmsJyMV",
        "outputId": "e11cad7a-d415-4ee5-e809-6197ac9a4025"
      },
      "execution_count": null,
      "outputs": [
        {
          "output_type": "stream",
          "name": "stdout",
          "text": [
            "7*1= 7\n",
            "7*2= 14\n",
            "7*3= 21\n",
            "7*4= 28\n",
            "7*5= 35\n",
            "7*6= 42\n",
            "7*7= 49\n",
            "7*8= 56\n",
            "7*9= 63\n",
            "7*10= 70\n"
          ]
        }
      ]
    },
    {
      "cell_type": "code",
      "source": [
        "#Q6\n",
        "even,odd=0,0\n",
        "nums=[i for i in range(1,35)]\n",
        "for i in nums:\n",
        "  if i%2==0:\n",
        "    even+=1\n",
        "  else:\n",
        "    odd+=1\n",
        "print(f\"Total even :{even}\")\n",
        "print(f\"Total odd :{odd}\")\n"
      ],
      "metadata": {
        "colab": {
          "base_uri": "https://localhost:8080/"
        },
        "id": "ka9Sf-pIKbi9",
        "outputId": "b680e352-c84e-4be4-874d-15b659819a00"
      },
      "execution_count": null,
      "outputs": [
        {
          "output_type": "stream",
          "name": "stdout",
          "text": [
            "Total even :17\n",
            "Total odd :17\n"
          ]
        }
      ]
    },
    {
      "cell_type": "code",
      "source": [
        "#Q7\n",
        "for i in range(1,6):\n",
        "  print(i*i)"
      ],
      "metadata": {
        "colab": {
          "base_uri": "https://localhost:8080/"
        },
        "id": "lJLV5bxlLbK1",
        "outputId": "8b22079e-f1e6-4e7e-8e1a-3df1c2e41dc2"
      },
      "execution_count": null,
      "outputs": [
        {
          "output_type": "stream",
          "name": "stdout",
          "text": [
            "1\n",
            "4\n",
            "9\n",
            "16\n",
            "25\n"
          ]
        }
      ]
    },
    {
      "cell_type": "code",
      "source": [
        "#Q8\n",
        "count=0\n",
        "txt='fhjkebaqfea'\n",
        "for i in txt:\n",
        "  count+=1\n",
        "count"
      ],
      "metadata": {
        "colab": {
          "base_uri": "https://localhost:8080/"
        },
        "id": "XT0SB2w5L14O",
        "outputId": "81424982-21c8-45c2-977f-b4c272ffec73"
      },
      "execution_count": null,
      "outputs": [
        {
          "output_type": "execute_result",
          "data": {
            "text/plain": [
              "11"
            ]
          },
          "metadata": {},
          "execution_count": 18
        }
      ]
    },
    {
      "cell_type": "code",
      "source": [
        "#Q9\n",
        "nums=[i for i in range(1,35)]\n",
        "len_nums=len(nums)\n",
        "count=0\n",
        "for i in nums:\n",
        "  count+=i\n",
        "\n",
        "avg=count/len_nums\n",
        "print(f\"Avg:{avg}\")"
      ],
      "metadata": {
        "colab": {
          "base_uri": "https://localhost:8080/"
        },
        "id": "T8xB4v3iL9-8",
        "outputId": "cf677cae-9e2c-4788-a958-a5c4972f4c2e"
      },
      "execution_count": null,
      "outputs": [
        {
          "output_type": "stream",
          "name": "stdout",
          "text": [
            "Avg:17.5\n"
          ]
        }
      ]
    },
    {
      "cell_type": "code",
      "source": [
        "#Q10\n",
        "n = 6\n",
        "res = []\n",
        "\n",
        "a, b = 0, 1\n",
        "\n",
        "for i in range(n):\n",
        "    res.append(a)\n",
        "    a, b = b, a + b\n",
        "\n",
        "res\n",
        "\n",
        "\n",
        "\n"
      ],
      "metadata": {
        "colab": {
          "base_uri": "https://localhost:8080/"
        },
        "id": "2ZwmDjbqePN-",
        "outputId": "8846835e-08a3-4f91-d30f-332362f82476"
      },
      "execution_count": null,
      "outputs": [
        {
          "output_type": "execute_result",
          "data": {
            "text/plain": [
              "[0, 1, 1, 2, 3, 5]"
            ]
          },
          "metadata": {},
          "execution_count": 23
        }
      ]
    },
    {
      "cell_type": "code",
      "source": [
        "#Q11\n",
        "temp=[1,2,23,4,3,23]\n",
        "flag=0\n",
        "unique=[]\n",
        "for i in temp:\n",
        "    if i in unique:\n",
        "        flag+=1\n",
        "        break\n",
        "    else:\n",
        "        unique.append(i)\n",
        "\n",
        "\n",
        "if flag!=0:\n",
        "  print('duplicate')\n",
        "else:\n",
        "  print('None')"
      ],
      "metadata": {
        "id": "BoMUHRRcShKz",
        "colab": {
          "base_uri": "https://localhost:8080/"
        },
        "outputId": "7cb984f4-14c1-4ace-e03c-2eadc5ead408"
      },
      "execution_count": null,
      "outputs": [
        {
          "output_type": "stream",
          "name": "stdout",
          "text": [
            "duplicate\n"
          ]
        }
      ]
    },
    {
      "cell_type": "code",
      "source": [
        "#Q12\n",
        "count = 0\n",
        "num = 2\n",
        "prime_numbers = []\n",
        "\n",
        "n=10\n",
        "while count < n:\n",
        "    is_prime = True\n",
        "    for i in range(2, int(num**0.5) + 1):\n",
        "        if num % i == 0:\n",
        "            is_prime = False\n",
        "            break\n",
        "\n",
        "    if is_prime:\n",
        "        prime_numbers.append(num)\n",
        "        count += 1\n",
        "\n",
        "    num += 1\n",
        "\n",
        "prime_numbers\n"
      ],
      "metadata": {
        "id": "dvChVgbbSjgT",
        "colab": {
          "base_uri": "https://localhost:8080/"
        },
        "outputId": "c66efa40-c5c6-4dd6-ee9f-0dd796a77e81"
      },
      "execution_count": null,
      "outputs": [
        {
          "output_type": "stream",
          "name": "stdout",
          "text": [
            "1.4142135623730951\n"
          ]
        },
        {
          "output_type": "execute_result",
          "data": {
            "text/plain": [
              "[2, 3, 5, 7, 11, 13, 17, 19, 23, 29]"
            ]
          },
          "metadata": {},
          "execution_count": 15
        }
      ]
    },
    {
      "cell_type": "code",
      "source": [
        "#Q13\n",
        "text='ahbcdhjasbfbhwsjfed'\n",
        "vow='aeiou'\n",
        "count=0\n",
        "for i in text:\n",
        "  if i in vow:\n",
        "    count+=1\n",
        "count"
      ],
      "metadata": {
        "colab": {
          "base_uri": "https://localhost:8080/"
        },
        "id": "RXLUe_rVVM8J",
        "outputId": "2393e8ec-6061-43b2-c894-dc0c11cabbe5"
      },
      "execution_count": null,
      "outputs": [
        {
          "output_type": "execute_result",
          "data": {
            "text/plain": [
              "3"
            ]
          },
          "metadata": {},
          "execution_count": 17
        }
      ]
    },
    {
      "cell_type": "code",
      "source": [
        "#Q14\n",
        "#Assuming no negatives\n",
        "temp=[\n",
        "    [2],\n",
        "    [3],\n",
        "    [4]\n",
        "]\n",
        "max=0\n",
        "for row in temp:\n",
        "  for element in row:\n",
        "    if element>max:\n",
        "      max=element\n",
        "\n",
        "print(max)"
      ],
      "metadata": {
        "id": "DRy-KN5Kbym6",
        "colab": {
          "base_uri": "https://localhost:8080/"
        },
        "outputId": "bb3317cd-55e8-49f2-d132-b458819eebfe"
      },
      "execution_count": null,
      "outputs": [
        {
          "output_type": "stream",
          "name": "stdout",
          "text": [
            "4\n"
          ]
        }
      ]
    },
    {
      "cell_type": "code",
      "source": [
        "#Q15\n",
        "temp=[1,2,4,3,4,5,4]\n",
        "n=4\n",
        "for i in temp:\n",
        "  if i==n:\n",
        "    temp.remove(i)\n",
        "temp"
      ],
      "metadata": {
        "colab": {
          "base_uri": "https://localhost:8080/"
        },
        "id": "uMv9JsG3dBGj",
        "outputId": "137c4456-dc51-4825-fd7b-a6a7493181a3"
      },
      "execution_count": null,
      "outputs": [
        {
          "output_type": "execute_result",
          "data": {
            "text/plain": [
              "[1, 2, 3, 5]"
            ]
          },
          "metadata": {},
          "execution_count": 22
        }
      ]
    },
    {
      "cell_type": "code",
      "source": [
        "#Q16\n",
        "for i in range(1,6):\n",
        "  for j in range(1,11):\n",
        "    print(f\"{i} x {j} ={i*j}\")"
      ],
      "metadata": {
        "colab": {
          "base_uri": "https://localhost:8080/"
        },
        "id": "CxQOQbWxfjPS",
        "outputId": "44aaa238-f874-4f5e-d9a2-fbd04817f414"
      },
      "execution_count": null,
      "outputs": [
        {
          "output_type": "stream",
          "name": "stdout",
          "text": [
            "1 x 1 =1\n",
            "1 x 2 =2\n",
            "1 x 3 =3\n",
            "1 x 4 =4\n",
            "1 x 5 =5\n",
            "1 x 6 =6\n",
            "1 x 7 =7\n",
            "1 x 8 =8\n",
            "1 x 9 =9\n",
            "1 x 10 =10\n",
            "2 x 1 =2\n",
            "2 x 2 =4\n",
            "2 x 3 =6\n",
            "2 x 4 =8\n",
            "2 x 5 =10\n",
            "2 x 6 =12\n",
            "2 x 7 =14\n",
            "2 x 8 =16\n",
            "2 x 9 =18\n",
            "2 x 10 =20\n",
            "3 x 1 =3\n",
            "3 x 2 =6\n",
            "3 x 3 =9\n",
            "3 x 4 =12\n",
            "3 x 5 =15\n",
            "3 x 6 =18\n",
            "3 x 7 =21\n",
            "3 x 8 =24\n",
            "3 x 9 =27\n",
            "3 x 10 =30\n",
            "4 x 1 =4\n",
            "4 x 2 =8\n",
            "4 x 3 =12\n",
            "4 x 4 =16\n",
            "4 x 5 =20\n",
            "4 x 6 =24\n",
            "4 x 7 =28\n",
            "4 x 8 =32\n",
            "4 x 9 =36\n",
            "4 x 10 =40\n",
            "5 x 1 =5\n",
            "5 x 2 =10\n",
            "5 x 3 =15\n",
            "5 x 4 =20\n",
            "5 x 5 =25\n",
            "5 x 6 =30\n",
            "5 x 7 =35\n",
            "5 x 8 =40\n",
            "5 x 9 =45\n",
            "5 x 10 =50\n"
          ]
        }
      ]
    },
    {
      "cell_type": "code",
      "source": [
        "#Q17\n",
        "far=[77,87,98,99,54]\n",
        "res=[((i - 32) * 5/9) for i in far]\n",
        "res"
      ],
      "metadata": {
        "colab": {
          "base_uri": "https://localhost:8080/"
        },
        "id": "5nkQ16vA5aFf",
        "outputId": "944e6e1a-0de7-46d2-b53c-5bb9be71ffb1"
      },
      "execution_count": null,
      "outputs": [
        {
          "output_type": "execute_result",
          "data": {
            "text/plain": [
              "[25.0,\n",
              " 30.555555555555557,\n",
              " 36.666666666666664,\n",
              " 37.22222222222222,\n",
              " 12.222222222222221]"
            ]
          },
          "metadata": {},
          "execution_count": 2
        }
      ]
    },
    {
      "cell_type": "code",
      "source": [
        "#Q18\n",
        "l1=[1,2,3,4,5]\n",
        "l2=[4,5,6,7,8]\n",
        "for i in l1:\n",
        "  if i in l2:\n",
        "    print(i)"
      ],
      "metadata": {
        "colab": {
          "base_uri": "https://localhost:8080/"
        },
        "id": "sqf-9qNt6aVX",
        "outputId": "3848008e-86ce-4887-f7f2-5f700eb267b8"
      },
      "execution_count": null,
      "outputs": [
        {
          "output_type": "stream",
          "name": "stdout",
          "text": [
            "4\n",
            "5\n"
          ]
        }
      ]
    },
    {
      "cell_type": "code",
      "source": [
        "#Q19\n",
        "n=6\n",
        "# Outer loop to iterate through the rows\n",
        "for i in range(1, n + 1):\n",
        "    for j in range(i):\n",
        "        print('*', end=' ')\n",
        "    print()\n"
      ],
      "metadata": {
        "colab": {
          "base_uri": "https://localhost:8080/"
        },
        "id": "Z-A7m9uu6zBF",
        "outputId": "4c2d2714-a867-4db7-c59b-71a353a4fd58"
      },
      "execution_count": null,
      "outputs": [
        {
          "output_type": "stream",
          "name": "stdout",
          "text": [
            "* \n",
            "* * \n",
            "* * * \n",
            "* * * * \n",
            "* * * * * \n",
            "* * * * * * \n"
          ]
        }
      ]
    },
    {
      "cell_type": "code",
      "source": [
        "#Q21\n",
        "numbers=[1,2,3,66,77]\n",
        "\n",
        "sums_of_digits = [sum(int(digit) for digit in str(num)) for num in numbers]\n",
        "\n",
        "print(\"Sums of digits for each number:\")\n",
        "for i, num in enumerate(numbers):\n",
        "    print(f\"Number {num}: {sums_of_digits[i]}\")\n"
      ],
      "metadata": {
        "colab": {
          "base_uri": "https://localhost:8080/"
        },
        "id": "UJTaaCO77I_m",
        "outputId": "e28ff8c8-a0c4-4ea1-e140-088758e403cd"
      },
      "execution_count": null,
      "outputs": [
        {
          "output_type": "stream",
          "name": "stdout",
          "text": [
            "Sums of digits for each number:\n",
            "Number 1: 1\n",
            "Number 2: 2\n",
            "Number 3: 3\n",
            "Number 66: 12\n",
            "Number 77: 14\n"
          ]
        }
      ]
    },
    {
      "cell_type": "code",
      "source": [
        "#Q23\n",
        "temp1=[]\n",
        "temp=[1,2,2,2,2,3,4,5,5]\n",
        "res=[temp1.append(i) for i in temp if i not in temp1 ]\n",
        "temp1\n"
      ],
      "metadata": {
        "colab": {
          "base_uri": "https://localhost:8080/"
        },
        "id": "6J-6BMHY7PPO",
        "outputId": "75680c79-c0ae-43b9-b588-ff493eba86f7"
      },
      "execution_count": null,
      "outputs": [
        {
          "output_type": "execute_result",
          "data": {
            "text/plain": [
              "[1, 2, 3, 4, 5]"
            ]
          },
          "metadata": {},
          "execution_count": 16
        }
      ]
    },
    {
      "cell_type": "code",
      "source": [
        "#Q26\n",
        "temp=[i for i in range(1,15)]\n",
        "even=sum([i for i in temp if i%2==0])\n",
        "odd=sum([i for  i in temp if i%2!=0])\n",
        "\n",
        "print(f\"even is : {even}\")\n",
        "print(f\"odd is : {odd}\")"
      ],
      "metadata": {
        "colab": {
          "base_uri": "https://localhost:8080/"
        },
        "id": "FQxduSl_8ht9",
        "outputId": "5121ab39-57d0-4a8f-e767-e2a1e37f26f8"
      },
      "execution_count": null,
      "outputs": [
        {
          "output_type": "stream",
          "name": "stdout",
          "text": [
            "even is : 56\n",
            "odd is : 49\n"
          ]
        }
      ]
    },
    {
      "cell_type": "code",
      "source": [
        "#Q27\n",
        "res=[i*i for i in range(1,10,2)]\n",
        "res"
      ],
      "metadata": {
        "colab": {
          "base_uri": "https://localhost:8080/"
        },
        "id": "1xw81qfN9zGl",
        "outputId": "82cf8501-0da5-41ba-fb02-babc9c9d790e"
      },
      "execution_count": null,
      "outputs": [
        {
          "output_type": "execute_result",
          "data": {
            "text/plain": [
              "[1, 9, 25, 49, 81]"
            ]
          },
          "metadata": {},
          "execution_count": 22
        }
      ]
    },
    {
      "cell_type": "code",
      "source": [
        "#Q29\n",
        "vow='aeiou'\n",
        "text='ngbdcnbhsvbfhgujvcbsdhjcsdnjmcospijjewfkijokwefdoaopxal'\n",
        "res=[]\n",
        "temp=[res.append(i) for i in text if i in vow]\n",
        "res"
      ],
      "metadata": {
        "colab": {
          "base_uri": "https://localhost:8080/"
        },
        "id": "WPvMK5yE-RAe",
        "outputId": "87646048-5e14-4fa8-ec8c-ff75cb99b493"
      },
      "execution_count": null,
      "outputs": [
        {
          "output_type": "execute_result",
          "data": {
            "text/plain": [
              "['u', 'o', 'i', 'e', 'i', 'o', 'e', 'o', 'a', 'o', 'a']"
            ]
          },
          "metadata": {},
          "execution_count": 25
        }
      ]
    },
    {
      "cell_type": "code",
      "source": [
        "#Q30\n",
        "text=['hellooallll1213243524nmngj','apples123','food420']\n",
        "\n",
        "\n",
        "# Use list comprehension to remove non-numeric characters from each string\n",
        "numeric_strings = [''.join(filter(str.isdigit, i)) for i in text]\n",
        "\n",
        "# Print the cleaned numeric strings\n",
        "print(\"Strings with non-numeric characters removed:\")\n",
        "print(numeric_strings)\n"
      ],
      "metadata": {
        "colab": {
          "base_uri": "https://localhost:8080/"
        },
        "id": "-FNmxrW9_YrQ",
        "outputId": "1ab85484-88d9-475c-8d11-435278cf7151"
      },
      "execution_count": null,
      "outputs": [
        {
          "output_type": "stream",
          "name": "stdout",
          "text": [
            "Strings with non-numeric characters removed:\n",
            "['1213243524', '123', '420']\n"
          ]
        }
      ]
    },
    {
      "cell_type": "code",
      "source": [],
      "metadata": {
        "id": "C9p6ZkDb-rV1"
      },
      "execution_count": null,
      "outputs": []
    },
    {
      "cell_type": "code",
      "source": [],
      "metadata": {
        "id": "xvS0X1Sg_8kl"
      },
      "execution_count": null,
      "outputs": []
    }
  ]
}